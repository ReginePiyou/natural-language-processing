{
 "cells": [
  {
   "cell_type": "markdown",
   "id": "tight-production",
   "metadata": {},
   "source": [
    " ## 2Vn4UzR5W1_Assignement1_NLP"
   ]
  },
  {
   "cell_type": "code",
   "execution_count": 55,
   "id": "polish-discrimination",
   "metadata": {},
   "outputs": [],
   "source": [
    "import numpy as np\n",
    "import pandas as pd\n",
    "import re\n",
    "import string"
   ]
  },
  {
   "cell_type": "markdown",
   "id": "boring-consciousness",
   "metadata": {},
   "source": [
    "# Upload the different data"
   ]
  },
  {
   "cell_type": "markdown",
   "id": "afraid-riverside",
   "metadata": {},
   "source": [
    "### 1- The mapping data \n",
    "This help to understand how the target value are encoded"
   ]
  },
  {
   "cell_type": "code",
   "execution_count": 100,
   "id": "moral-appointment",
   "metadata": {},
   "outputs": [
    {
     "data": {
      "text/html": [
       "<div>\n",
       "<style scoped>\n",
       "    .dataframe tbody tr th:only-of-type {\n",
       "        vertical-align: middle;\n",
       "    }\n",
       "\n",
       "    .dataframe tbody tr th {\n",
       "        vertical-align: top;\n",
       "    }\n",
       "\n",
       "    .dataframe thead th {\n",
       "        text-align: right;\n",
       "    }\n",
       "</style>\n",
       "<table border=\"1\" class=\"dataframe\">\n",
       "  <thead>\n",
       "    <tr style=\"text-align: right;\">\n",
       "      <th></th>\n",
       "      <th>0</th>\n",
       "      <th>1</th>\n",
       "    </tr>\n",
       "  </thead>\n",
       "  <tbody>\n",
       "    <tr>\n",
       "      <th>0</th>\n",
       "      <td>0</td>\n",
       "      <td>negative</td>\n",
       "    </tr>\n",
       "    <tr>\n",
       "      <th>1</th>\n",
       "      <td>1</td>\n",
       "      <td>neutral</td>\n",
       "    </tr>\n",
       "    <tr>\n",
       "      <th>2</th>\n",
       "      <td>2</td>\n",
       "      <td>positive</td>\n",
       "    </tr>\n",
       "  </tbody>\n",
       "</table>\n",
       "</div>"
      ],
      "text/plain": [
       "   0         1\n",
       "0  0  negative\n",
       "1  1   neutral\n",
       "2  2  positive"
      ]
     },
     "execution_count": 100,
     "metadata": {},
     "output_type": "execute_result"
    }
   ],
   "source": [
    "mapping = pd.read_csv(\"sentiment/mapping.txt\",header= None, delimiter = \"\\t\")\n",
    "mapping.head()"
   ]
  },
  {
   "cell_type": "markdown",
   "id": "royal-collectible",
   "metadata": {},
   "source": [
    "### 2- The different target for the train, test and validation"
   ]
  },
  {
   "cell_type": "code",
   "execution_count": 11,
   "id": "processed-wayne",
   "metadata": {},
   "outputs": [
    {
     "data": {
      "text/html": [
       "<div>\n",
       "<style scoped>\n",
       "    .dataframe tbody tr th:only-of-type {\n",
       "        vertical-align: middle;\n",
       "    }\n",
       "\n",
       "    .dataframe tbody tr th {\n",
       "        vertical-align: top;\n",
       "    }\n",
       "\n",
       "    .dataframe thead th {\n",
       "        text-align: right;\n",
       "    }\n",
       "</style>\n",
       "<table border=\"1\" class=\"dataframe\">\n",
       "  <thead>\n",
       "    <tr style=\"text-align: right;\">\n",
       "      <th></th>\n",
       "      <th>0</th>\n",
       "    </tr>\n",
       "  </thead>\n",
       "  <tbody>\n",
       "    <tr>\n",
       "      <th>0</th>\n",
       "      <td>2</td>\n",
       "    </tr>\n",
       "    <tr>\n",
       "      <th>1</th>\n",
       "      <td>1</td>\n",
       "    </tr>\n",
       "    <tr>\n",
       "      <th>2</th>\n",
       "      <td>1</td>\n",
       "    </tr>\n",
       "    <tr>\n",
       "      <th>3</th>\n",
       "      <td>1</td>\n",
       "    </tr>\n",
       "    <tr>\n",
       "      <th>4</th>\n",
       "      <td>2</td>\n",
       "    </tr>\n",
       "  </tbody>\n",
       "</table>\n",
       "</div>"
      ],
      "text/plain": [
       "   0\n",
       "0  2\n",
       "1  1\n",
       "2  1\n",
       "3  1\n",
       "4  2"
      ]
     },
     "execution_count": 11,
     "metadata": {},
     "output_type": "execute_result"
    }
   ],
   "source": [
    "Y_train = pd.read_csv(\"sentiment/train_labels.txt\", header = None)\n",
    "Y_train.head()"
   ]
  },
  {
   "cell_type": "code",
   "execution_count": 12,
   "id": "central-ethiopia",
   "metadata": {},
   "outputs": [
    {
     "data": {
      "text/html": [
       "<div>\n",
       "<style scoped>\n",
       "    .dataframe tbody tr th:only-of-type {\n",
       "        vertical-align: middle;\n",
       "    }\n",
       "\n",
       "    .dataframe tbody tr th {\n",
       "        vertical-align: top;\n",
       "    }\n",
       "\n",
       "    .dataframe thead th {\n",
       "        text-align: right;\n",
       "    }\n",
       "</style>\n",
       "<table border=\"1\" class=\"dataframe\">\n",
       "  <thead>\n",
       "    <tr style=\"text-align: right;\">\n",
       "      <th></th>\n",
       "      <th>0</th>\n",
       "    </tr>\n",
       "  </thead>\n",
       "  <tbody>\n",
       "    <tr>\n",
       "      <th>0</th>\n",
       "      <td>1</td>\n",
       "    </tr>\n",
       "    <tr>\n",
       "      <th>1</th>\n",
       "      <td>1</td>\n",
       "    </tr>\n",
       "    <tr>\n",
       "      <th>2</th>\n",
       "      <td>1</td>\n",
       "    </tr>\n",
       "    <tr>\n",
       "      <th>3</th>\n",
       "      <td>2</td>\n",
       "    </tr>\n",
       "    <tr>\n",
       "      <th>4</th>\n",
       "      <td>0</td>\n",
       "    </tr>\n",
       "  </tbody>\n",
       "</table>\n",
       "</div>"
      ],
      "text/plain": [
       "   0\n",
       "0  1\n",
       "1  1\n",
       "2  1\n",
       "3  2\n",
       "4  0"
      ]
     },
     "execution_count": 12,
     "metadata": {},
     "output_type": "execute_result"
    }
   ],
   "source": [
    "Y_test = pd.read_csv(\"sentiment/test_labels.txt\", header= None)\n",
    "Y_test.head()"
   ]
  },
  {
   "cell_type": "code",
   "execution_count": 13,
   "id": "exceptional-caribbean",
   "metadata": {},
   "outputs": [
    {
     "data": {
      "text/html": [
       "<div>\n",
       "<style scoped>\n",
       "    .dataframe tbody tr th:only-of-type {\n",
       "        vertical-align: middle;\n",
       "    }\n",
       "\n",
       "    .dataframe tbody tr th {\n",
       "        vertical-align: top;\n",
       "    }\n",
       "\n",
       "    .dataframe thead th {\n",
       "        text-align: right;\n",
       "    }\n",
       "</style>\n",
       "<table border=\"1\" class=\"dataframe\">\n",
       "  <thead>\n",
       "    <tr style=\"text-align: right;\">\n",
       "      <th></th>\n",
       "      <th>0</th>\n",
       "    </tr>\n",
       "  </thead>\n",
       "  <tbody>\n",
       "    <tr>\n",
       "      <th>0</th>\n",
       "      <td>1</td>\n",
       "    </tr>\n",
       "    <tr>\n",
       "      <th>1</th>\n",
       "      <td>2</td>\n",
       "    </tr>\n",
       "    <tr>\n",
       "      <th>2</th>\n",
       "      <td>0</td>\n",
       "    </tr>\n",
       "    <tr>\n",
       "      <th>3</th>\n",
       "      <td>1</td>\n",
       "    </tr>\n",
       "    <tr>\n",
       "      <th>4</th>\n",
       "      <td>1</td>\n",
       "    </tr>\n",
       "  </tbody>\n",
       "</table>\n",
       "</div>"
      ],
      "text/plain": [
       "   0\n",
       "0  1\n",
       "1  2\n",
       "2  0\n",
       "3  1\n",
       "4  1"
      ]
     },
     "execution_count": 13,
     "metadata": {},
     "output_type": "execute_result"
    }
   ],
   "source": [
    "Y_val = pd.read_csv(\"sentiment/val_labels.txt\", header= None)\n",
    "Y_val.head()"
   ]
  },
  {
   "cell_type": "markdown",
   "id": "liable-springer",
   "metadata": {},
   "source": [
    "### 3- The Different tweet for train, validation and test"
   ]
  },
  {
   "cell_type": "code",
   "execution_count": 78,
   "id": "spectacular-culture",
   "metadata": {},
   "outputs": [
    {
     "data": {
      "text/html": [
       "<div>\n",
       "<style scoped>\n",
       "    .dataframe tbody tr th:only-of-type {\n",
       "        vertical-align: middle;\n",
       "    }\n",
       "\n",
       "    .dataframe tbody tr th {\n",
       "        vertical-align: top;\n",
       "    }\n",
       "\n",
       "    .dataframe thead th {\n",
       "        text-align: right;\n",
       "    }\n",
       "</style>\n",
       "<table border=\"1\" class=\"dataframe\">\n",
       "  <thead>\n",
       "    <tr style=\"text-align: right;\">\n",
       "      <th></th>\n",
       "      <th>Tweet</th>\n",
       "    </tr>\n",
       "  </thead>\n",
       "  <tbody>\n",
       "    <tr>\n",
       "      <th>0</th>\n",
       "      <td>\"QT @user In the original draft of the 7th boo...</td>\n",
       "    </tr>\n",
       "    <tr>\n",
       "      <th>1</th>\n",
       "      <td>\"Ben Smith / Smith (concussion) remains out of...</td>\n",
       "    </tr>\n",
       "    <tr>\n",
       "      <th>2</th>\n",
       "      <td>Sorry bout the stream last night I crashed out...</td>\n",
       "    </tr>\n",
       "    <tr>\n",
       "      <th>3</th>\n",
       "      <td>Chase Headley's RBI double in the 8th inning o...</td>\n",
       "    </tr>\n",
       "    <tr>\n",
       "      <th>4</th>\n",
       "      <td>@user Alciato: Bee will invest 150 million in ...</td>\n",
       "    </tr>\n",
       "  </tbody>\n",
       "</table>\n",
       "</div>"
      ],
      "text/plain": [
       "                                               Tweet\n",
       "0  \"QT @user In the original draft of the 7th boo...\n",
       "1  \"Ben Smith / Smith (concussion) remains out of...\n",
       "2  Sorry bout the stream last night I crashed out...\n",
       "3  Chase Headley's RBI double in the 8th inning o...\n",
       "4  @user Alciato: Bee will invest 150 million in ..."
      ]
     },
     "execution_count": 78,
     "metadata": {},
     "output_type": "execute_result"
    }
   ],
   "source": [
    "# Specify the path to your text file\n",
    "file_path = 'sentiment/train_text.txt'\n",
    "\n",
    "# Read the text file into a list of strings (each line is an element in the list)\n",
    "with open(file_path, 'r', encoding='utf-8') as file:\n",
    "    lines = file.readlines()\n",
    "\n",
    "# Create a DataFrame with each line as a separate observation\n",
    "data = {'Tweet': lines}\n",
    "X_train = pd.DataFrame(data)\n",
    "\n",
    "# Display the DataFrame\n",
    "X_train.head()"
   ]
  },
  {
   "cell_type": "code",
   "execution_count": 15,
   "id": "dental-detection",
   "metadata": {
    "scrolled": true
   },
   "outputs": [
    {
     "data": {
      "text/html": [
       "<div>\n",
       "<style scoped>\n",
       "    .dataframe tbody tr th:only-of-type {\n",
       "        vertical-align: middle;\n",
       "    }\n",
       "\n",
       "    .dataframe tbody tr th {\n",
       "        vertical-align: top;\n",
       "    }\n",
       "\n",
       "    .dataframe thead th {\n",
       "        text-align: right;\n",
       "    }\n",
       "</style>\n",
       "<table border=\"1\" class=\"dataframe\">\n",
       "  <thead>\n",
       "    <tr style=\"text-align: right;\">\n",
       "      <th></th>\n",
       "      <th>Tweet</th>\n",
       "    </tr>\n",
       "  </thead>\n",
       "  <tbody>\n",
       "    <tr>\n",
       "      <th>0</th>\n",
       "      <td>@user @user what do these '1/2 naked pics' hav...</td>\n",
       "    </tr>\n",
       "    <tr>\n",
       "      <th>1</th>\n",
       "      <td>OH: “I had a blue penis while I was this” [pla...</td>\n",
       "    </tr>\n",
       "    <tr>\n",
       "      <th>2</th>\n",
       "      <td>@user @user That's coming, but I think the vic...</td>\n",
       "    </tr>\n",
       "    <tr>\n",
       "      <th>3</th>\n",
       "      <td>I think I may be finally in with the in crowd ...</td>\n",
       "    </tr>\n",
       "    <tr>\n",
       "      <th>4</th>\n",
       "      <td>@user Wow,first Hugo Chavez and now Fidel Cast...</td>\n",
       "    </tr>\n",
       "  </tbody>\n",
       "</table>\n",
       "</div>"
      ],
      "text/plain": [
       "                                               Tweet\n",
       "0  @user @user what do these '1/2 naked pics' hav...\n",
       "1  OH: “I had a blue penis while I was this” [pla...\n",
       "2  @user @user That's coming, but I think the vic...\n",
       "3  I think I may be finally in with the in crowd ...\n",
       "4  @user Wow,first Hugo Chavez and now Fidel Cast..."
      ]
     },
     "execution_count": 15,
     "metadata": {},
     "output_type": "execute_result"
    }
   ],
   "source": [
    "# Specify the path to your text file\n",
    "file_path = 'sentiment/test_text.txt'\n",
    "\n",
    "# Read the text file into a list of strings (each line is an element in the list)\n",
    "with open(file_path, 'r', encoding='utf-8') as file:\n",
    "    lines = file.readlines()\n",
    "\n",
    "# Create a DataFrame with each line as a separate observation\n",
    "data = {'Tweet': lines}\n",
    "X_test = pd.DataFrame(data)\n",
    "\n",
    "# Display the DataFrame\n",
    "X_test.head()"
   ]
  },
  {
   "cell_type": "code",
   "execution_count": 16,
   "id": "legislative-bottle",
   "metadata": {},
   "outputs": [
    {
     "data": {
      "text/html": [
       "<div>\n",
       "<style scoped>\n",
       "    .dataframe tbody tr th:only-of-type {\n",
       "        vertical-align: middle;\n",
       "    }\n",
       "\n",
       "    .dataframe tbody tr th {\n",
       "        vertical-align: top;\n",
       "    }\n",
       "\n",
       "    .dataframe thead th {\n",
       "        text-align: right;\n",
       "    }\n",
       "</style>\n",
       "<table border=\"1\" class=\"dataframe\">\n",
       "  <thead>\n",
       "    <tr style=\"text-align: right;\">\n",
       "      <th></th>\n",
       "      <th>Tweet</th>\n",
       "    </tr>\n",
       "  </thead>\n",
       "  <tbody>\n",
       "    <tr>\n",
       "      <th>0</th>\n",
       "      <td>Dark Souls 3 April Launch Date Confirmed With ...</td>\n",
       "    </tr>\n",
       "    <tr>\n",
       "      <th>1</th>\n",
       "      <td>\"National hot dog day, national tequila day, t...</td>\n",
       "    </tr>\n",
       "    <tr>\n",
       "      <th>2</th>\n",
       "      <td>When girls become bandwagon fans of the Packer...</td>\n",
       "    </tr>\n",
       "    <tr>\n",
       "      <th>3</th>\n",
       "      <td>@user I may or may not have searched it up on ...</td>\n",
       "    </tr>\n",
       "    <tr>\n",
       "      <th>4</th>\n",
       "      <td>Here's your starting TUESDAY MORNING Line up a...</td>\n",
       "    </tr>\n",
       "  </tbody>\n",
       "</table>\n",
       "</div>"
      ],
      "text/plain": [
       "                                               Tweet\n",
       "0  Dark Souls 3 April Launch Date Confirmed With ...\n",
       "1  \"National hot dog day, national tequila day, t...\n",
       "2  When girls become bandwagon fans of the Packer...\n",
       "3  @user I may or may not have searched it up on ...\n",
       "4  Here's your starting TUESDAY MORNING Line up a..."
      ]
     },
     "execution_count": 16,
     "metadata": {},
     "output_type": "execute_result"
    }
   ],
   "source": [
    "# Specify the path to your text file\n",
    "file_path = 'sentiment/val_text.txt'\n",
    "\n",
    "# Read the text file into a list of strings (each line is an element in the list)\n",
    "with open(file_path, 'r', encoding='utf-8') as file:\n",
    "    lines = file.readlines()\n",
    "\n",
    "# Create a DataFrame with each line as a separate observation\n",
    "data = {'Tweet': lines}\n",
    "X_val = pd.DataFrame(data)\n",
    "\n",
    "# Display the DataFrame\n",
    "X_val.head()"
   ]
  },
  {
   "cell_type": "markdown",
   "id": "portable-departure",
   "metadata": {},
   "source": [
    "# A- Preprocing of the Data\n",
    "In the tweet data, the emoticon and emojis are really important to judge the impression of the twiter.So first thing to do as preprocessing is to convert emoticon and emojis to word. For each data set, we are goinf to applied the same preprocessing process. "
   ]
  },
  {
   "cell_type": "markdown",
   "id": "advisory-stroke",
   "metadata": {},
   "source": [
    "## 1 - Convert the emoticons to word"
   ]
  },
  {
   "cell_type": "markdown",
   "id": "welsh-hindu",
   "metadata": {},
   "source": [
    "Here we save all the Emoticons and their description in the file emoticons_dict.txt"
   ]
  },
  {
   "cell_type": "code",
   "execution_count": 17,
   "id": "cross-norway",
   "metadata": {},
   "outputs": [],
   "source": [
    "#file_path = 'emoticons_dict.txt'\n",
    "\n",
    "# with open(file_path, 'w', encoding='utf-8') as txt_file:\n",
    "#     for emoticon, description in EMOTICONS.items():\n",
    "#         txt_file.write(f\"{emoticon}: {description}\\n\")\n",
    "\n",
    "# print(f\"Emoticons and descriptions have been written to {file_path}\")\n"
   ]
  },
  {
   "cell_type": "code",
   "execution_count": 18,
   "id": "elementary-business",
   "metadata": {},
   "outputs": [
    {
     "name": "stdout",
     "output_type": "stream",
     "text": [
      "Original text: I'm so happy! :D This is amazing! :-3\n",
      "Cleaned text: I'm so happy! [Laughing, big grin or laugh with glasses] This is amazing! [Happy face smiley]\n",
      "Cleaned text2: I'm so happy! Laughing big grin or laugh with glasses This is amazing! Happy face smiley\n"
     ]
    }
   ],
   "source": [
    "def load_emoticons_dict(file_path):\n",
    "    \n",
    "    \"\"\" create a function that load our emoticon \n",
    "    file It take as input the path of the file and return the dictionnary \"\"\"\n",
    "    \n",
    "    emoticons_dict = {}\n",
    "    with open(file_path, 'r', encoding='utf-8') as txt_file:\n",
    "        for line in txt_file:\n",
    "            emoticon, description = line.strip().split(': ')\n",
    "            emoticons_dict[emoticon] = description\n",
    "    return emoticons_dict\n",
    "\n",
    "def Replace_emoticons(text, emoticons_dict):\n",
    "    \n",
    "    \"\"\"\n",
    "    return the description of emoticon in the text input\n",
    "    \n",
    "    \"\"\"\n",
    "    for emoticon, description in emoticons_dict.items():\n",
    "        text = text.replace(emoticon, f'[{description}]')\n",
    "    return text\n",
    "\n",
    "def convert_emoticons(text,emoticons_dict ):\n",
    "    \n",
    "    for emot in emoticons_dict:\n",
    "        text = re.sub(u'('+emot+')', \" \".join(emoticons_dict[emot].replace(\",\",\"\").split()), text)\n",
    "    return text\n",
    "\n",
    "# Load emoticons dictionary from the text file\n",
    "loaded_emoticons_dict = load_emoticons_dict('emoticons_dict.txt')\n",
    "\n",
    "# Example usage\n",
    "text_with_emoticons = \"I'm so happy! :D This is amazing! :-3\"\n",
    "cleaned_text = Replace_emoticons(text_with_emoticons,loaded_emoticons_dict)\n",
    "cleaned_text2 = convert_emoticons(text_with_emoticons, loaded_emoticons_dict )\n",
    "print(\"Original text:\", text_with_emoticons)\n",
    "print(\"Cleaned text:\", cleaned_text)\n",
    "print(\"Cleaned text2:\", cleaned_text2)\n"
   ]
  },
  {
   "cell_type": "code",
   "execution_count": 19,
   "id": "portuguese-madness",
   "metadata": {
    "scrolled": true
   },
   "outputs": [
    {
     "data": {
      "text/plain": [
       "'I am sad Frown sad andry or pouting '"
      ]
     },
     "execution_count": 19,
     "metadata": {},
     "output_type": "execute_result"
    }
   ],
   "source": [
    "convert_emoticons(\"I am sad :( \",loaded_emoticons_dict)"
   ]
  },
  {
   "cell_type": "code",
   "execution_count": 20,
   "id": "injured-binary",
   "metadata": {},
   "outputs": [
    {
     "data": {
      "text/plain": [
       "'I am sad :( '"
      ]
     },
     "execution_count": 20,
     "metadata": {},
     "output_type": "execute_result"
    }
   ],
   "source": [
    "Replace_emoticons(\"I am sad :( \", loaded_emoticons_dict)"
   ]
  },
  {
   "cell_type": "code",
   "execution_count": 21,
   "id": "adjusted-animation",
   "metadata": {},
   "outputs": [
    {
     "data": {
      "text/plain": [
       "'I am happy [Happy face smiley]\\\\)'"
      ]
     },
     "execution_count": 21,
     "metadata": {},
     "output_type": "execute_result"
    }
   ],
   "source": [
    "Replace_emoticons(\"I am happy :-\\)\\)\", loaded_emoticons_dict)"
   ]
  },
  {
   "cell_type": "code",
   "execution_count": 22,
   "id": "primary-promotion",
   "metadata": {},
   "outputs": [
    {
     "data": {
      "text/plain": [
       "'I am happy :-\\\\Confusion\\\\Confusion'"
      ]
     },
     "execution_count": 22,
     "metadata": {},
     "output_type": "execute_result"
    }
   ],
   "source": [
    "convert_emoticons(\"I am happy :-\\)\\)\", loaded_emoticons_dict)"
   ]
  },
  {
   "cell_type": "markdown",
   "id": "reverse-universe",
   "metadata": {},
   "source": [
    "We can notice that there are some emoticon that the first function convert well but don't convert well another.The second function replace don't reconnaisse another emoticon. we will apply the two function first the replace and then the convert.\n",
    "\n",
    "For each dataset we go through each line and applied ours functions."
   ]
  },
  {
   "cell_type": "markdown",
   "id": "athletic-validity",
   "metadata": {},
   "source": [
    "### a- Apply replace_emoticons function it in the validation text"
   ]
  },
  {
   "cell_type": "code",
   "execution_count": 23,
   "id": "mysterious-indication",
   "metadata": {},
   "outputs": [
    {
     "data": {
      "text/html": [
       "<div>\n",
       "<style scoped>\n",
       "    .dataframe tbody tr th:only-of-type {\n",
       "        vertical-align: middle;\n",
       "    }\n",
       "\n",
       "    .dataframe tbody tr th {\n",
       "        vertical-align: top;\n",
       "    }\n",
       "\n",
       "    .dataframe thead th {\n",
       "        text-align: right;\n",
       "    }\n",
       "</style>\n",
       "<table border=\"1\" class=\"dataframe\">\n",
       "  <thead>\n",
       "    <tr style=\"text-align: right;\">\n",
       "      <th></th>\n",
       "      <th>Tweet</th>\n",
       "    </tr>\n",
       "  </thead>\n",
       "  <tbody>\n",
       "    <tr>\n",
       "      <th>0</th>\n",
       "      <td>Dark Souls 3 April Launch Date Confirmed With ...</td>\n",
       "    </tr>\n",
       "    <tr>\n",
       "      <th>1</th>\n",
       "      <td>\"National hot dog day, national tequila day, t...</td>\n",
       "    </tr>\n",
       "    <tr>\n",
       "      <th>2</th>\n",
       "      <td>When girls become bandwagon fans of the Packer...</td>\n",
       "    </tr>\n",
       "    <tr>\n",
       "      <th>3</th>\n",
       "      <td>@user I may or may not have searched it up on ...</td>\n",
       "    </tr>\n",
       "    <tr>\n",
       "      <th>4</th>\n",
       "      <td>Here's your starting TUESDAY MORNING Line up a...</td>\n",
       "    </tr>\n",
       "  </tbody>\n",
       "</table>\n",
       "</div>"
      ],
      "text/plain": [
       "                                               Tweet\n",
       "0  Dark Souls 3 April Launch Date Confirmed With ...\n",
       "1  \"National hot dog day, national tequila day, t...\n",
       "2  When girls become bandwagon fans of the Packer...\n",
       "3  @user I may or may not have searched it up on ...\n",
       "4  Here's your starting TUESDAY MORNING Line up a..."
      ]
     },
     "execution_count": 23,
     "metadata": {},
     "output_type": "execute_result"
    }
   ],
   "source": [
    "# Create an empty dataset to store the result \n",
    "X_val_re_emoti = pd.DataFrame(index=range(X_val.shape[0]), columns=[\"Tweet\"])\n",
    "for i in range(X_val.shape[0]):\n",
    "    X_val_re_emoti[\"Tweet\"][i] = Replace_emoticons(X_val[\"Tweet\"][i], loaded_emoticons_dict)\n",
    "    X_val_re_emoti[\"Tweet\"][i] = convert_emoticons(X_val_re_emoti[\"Tweet\"][i], loaded_emoticons_dict)\n",
    "X_val_re_emoti.head()"
   ]
  },
  {
   "cell_type": "markdown",
   "id": "caring-personality",
   "metadata": {},
   "source": [
    "### b- Apply replace_emoticons function it in the text text"
   ]
  },
  {
   "cell_type": "code",
   "execution_count": 24,
   "id": "mathematical-usage",
   "metadata": {},
   "outputs": [
    {
     "data": {
      "text/html": [
       "<div>\n",
       "<style scoped>\n",
       "    .dataframe tbody tr th:only-of-type {\n",
       "        vertical-align: middle;\n",
       "    }\n",
       "\n",
       "    .dataframe tbody tr th {\n",
       "        vertical-align: top;\n",
       "    }\n",
       "\n",
       "    .dataframe thead th {\n",
       "        text-align: right;\n",
       "    }\n",
       "</style>\n",
       "<table border=\"1\" class=\"dataframe\">\n",
       "  <thead>\n",
       "    <tr style=\"text-align: right;\">\n",
       "      <th></th>\n",
       "      <th>Tweet</th>\n",
       "    </tr>\n",
       "  </thead>\n",
       "  <tbody>\n",
       "    <tr>\n",
       "      <th>0</th>\n",
       "      <td>@user @user what do these '1/2 naked pics' hav...</td>\n",
       "    </tr>\n",
       "    <tr>\n",
       "      <th>1</th>\n",
       "      <td>OH: “I had a blue penis while I was this” [pla...</td>\n",
       "    </tr>\n",
       "    <tr>\n",
       "      <th>2</th>\n",
       "      <td>@user @user That's coming, but I think the vic...</td>\n",
       "    </tr>\n",
       "    <tr>\n",
       "      <th>3</th>\n",
       "      <td>I think I may be finally in with the in crowd ...</td>\n",
       "    </tr>\n",
       "    <tr>\n",
       "      <th>4</th>\n",
       "      <td>@user Wow,first Hugo Chavez and now Fidel Cast...</td>\n",
       "    </tr>\n",
       "  </tbody>\n",
       "</table>\n",
       "</div>"
      ],
      "text/plain": [
       "                                               Tweet\n",
       "0  @user @user what do these '1/2 naked pics' hav...\n",
       "1  OH: “I had a blue penis while I was this” [pla...\n",
       "2  @user @user That's coming, but I think the vic...\n",
       "3  I think I may be finally in with the in crowd ...\n",
       "4  @user Wow,first Hugo Chavez and now Fidel Cast..."
      ]
     },
     "execution_count": 24,
     "metadata": {},
     "output_type": "execute_result"
    }
   ],
   "source": [
    "# Create an empty dataset to store the result \n",
    "X_test_re_emoti = pd.DataFrame(index=range(X_test.shape[0]), columns=[\"Tweet\"])\n",
    "for i in range(X_test.shape[0]):\n",
    "    X_test_re_emoti[\"Tweet\"][i] = Replace_emoticons(X_test[\"Tweet\"][i], loaded_emoticons_dict)\n",
    "    X_test_re_emoti[\"Tweet\"][i] = convert_emoticons(X_test_re_emoti[\"Tweet\"][i], loaded_emoticons_dict)\n",
    "X_test_re_emoti.head()"
   ]
  },
  {
   "cell_type": "markdown",
   "id": "extensive-awareness",
   "metadata": {},
   "source": [
    "### c- Apply replace_emoticons function it in the train text¶"
   ]
  },
  {
   "cell_type": "code",
   "execution_count": 79,
   "id": "neural-range",
   "metadata": {},
   "outputs": [
    {
     "data": {
      "text/html": [
       "<div>\n",
       "<style scoped>\n",
       "    .dataframe tbody tr th:only-of-type {\n",
       "        vertical-align: middle;\n",
       "    }\n",
       "\n",
       "    .dataframe tbody tr th {\n",
       "        vertical-align: top;\n",
       "    }\n",
       "\n",
       "    .dataframe thead th {\n",
       "        text-align: right;\n",
       "    }\n",
       "</style>\n",
       "<table border=\"1\" class=\"dataframe\">\n",
       "  <thead>\n",
       "    <tr style=\"text-align: right;\">\n",
       "      <th></th>\n",
       "      <th>Tweet</th>\n",
       "    </tr>\n",
       "  </thead>\n",
       "  <tbody>\n",
       "    <tr>\n",
       "      <th>0</th>\n",
       "      <td>\"QT @user In the original draft of the 7th boo...</td>\n",
       "    </tr>\n",
       "    <tr>\n",
       "      <th>1</th>\n",
       "      <td>\"Ben Smith / Smith (concussionConfusion remain...</td>\n",
       "    </tr>\n",
       "    <tr>\n",
       "      <th>2</th>\n",
       "      <td>Sorry bout the stream last night I crashed out...</td>\n",
       "    </tr>\n",
       "    <tr>\n",
       "      <th>3</th>\n",
       "      <td>Chase Headley's RBI double in the 8th inning o...</td>\n",
       "    </tr>\n",
       "    <tr>\n",
       "      <th>4</th>\n",
       "      <td>@user Alciato: Bee will invest 150 million in ...</td>\n",
       "    </tr>\n",
       "  </tbody>\n",
       "</table>\n",
       "</div>"
      ],
      "text/plain": [
       "                                               Tweet\n",
       "0  \"QT @user In the original draft of the 7th boo...\n",
       "1  \"Ben Smith / Smith (concussionConfusion remain...\n",
       "2  Sorry bout the stream last night I crashed out...\n",
       "3  Chase Headley's RBI double in the 8th inning o...\n",
       "4  @user Alciato: Bee will invest 150 million in ..."
      ]
     },
     "execution_count": 79,
     "metadata": {},
     "output_type": "execute_result"
    }
   ],
   "source": [
    "# Create an empty dataset to store the result \n",
    "X_train_re_emoti = pd.DataFrame(index=range(X_train.shape[0]), columns=[\"Tweet\"])\n",
    "for i in range(X_test.shape[0]):\n",
    "    X_train_re_emoti[\"Tweet\"][i] = Replace_emoticons(X_train[\"Tweet\"][i], loaded_emoticons_dict)\n",
    "    X_train_re_emoti[\"Tweet\"][i] = convert_emoticons(X_train_re_emoti[\"Tweet\"][i], loaded_emoticons_dict)\n",
    "X_train_re_emoti.head()"
   ]
  },
  {
   "cell_type": "markdown",
   "id": "secondary-thumbnail",
   "metadata": {},
   "source": [
    "Verifie if the function work well with one observation.\n"
   ]
  },
  {
   "cell_type": "code",
   "execution_count": 26,
   "id": "aware-matrix",
   "metadata": {},
   "outputs": [
    {
     "data": {
      "text/plain": [
       "'Super excited for homecoming Saturday with Monroe! :D my new nephew is here but I can\\\\u2019t see him :( \\n'"
      ]
     },
     "execution_count": 26,
     "metadata": {},
     "output_type": "execute_result"
    }
   ],
   "source": [
    "X_train[\"Tweet\"][12]"
   ]
  },
  {
   "cell_type": "code",
   "execution_count": 27,
   "id": "narrow-thumb",
   "metadata": {},
   "outputs": [
    {
     "data": {
      "text/plain": [
       "'Super excited for homecoming Saturday with Monroe! [Laughing, big grin or laugh with glasses] my new nephew is here but I can\\\\u2019t see him Frown sad andry or pouting \\n'"
      ]
     },
     "execution_count": 27,
     "metadata": {},
     "output_type": "execute_result"
    }
   ],
   "source": [
    "X_train_re_emoti[\"Tweet\"][12]"
   ]
  },
  {
   "cell_type": "markdown",
   "id": "developed-failure",
   "metadata": {},
   "source": [
    "## 2 - Convert the emojis to word\n",
    "We did the same thing as we the emoticon"
   ]
  },
  {
   "cell_type": "code",
   "execution_count": 28,
   "id": "congressional-agreement",
   "metadata": {},
   "outputs": [],
   "source": [
    "#file_path = 'emojis_dict.txt'\n",
    "\n",
    "# with open(file_path, 'w', encoding='utf-8') as txt_file:\n",
    "#     for emoji, description in UNICODE_EMO.items():\n",
    "#         txt_file.write(f\"{emoji}: {description}\\n\")\n",
    "\n",
    "# print(f\"Emoticons and descriptions have been written to {file_path}\")"
   ]
  },
  {
   "cell_type": "code",
   "execution_count": 29,
   "id": "requested-railway",
   "metadata": {},
   "outputs": [
    {
     "name": "stdout",
     "output_type": "stream",
     "text": [
      "Original text: game is on 🔥\n",
      "Cleaned text: game is on [:fire:]\n"
     ]
    }
   ],
   "source": [
    "def load_emoji_dict(file_path):\n",
    "    \n",
    "    \"\"\" create a function that load our emoji\n",
    "    file It take as input the path of the file and return the dictionnary \"\"\"\n",
    "    \n",
    "    emojis_dict = {}\n",
    "    with open(file_path, 'r', encoding='utf-8') as txt_file:\n",
    "        for line in txt_file:\n",
    "            emoji, description = line.strip().split(': ')\n",
    "            emojis_dict[emoji] = description\n",
    "    return emojis_dict\n",
    "\n",
    "def replace_emojis(text,emojis_dict ):\n",
    "    \n",
    "    \"\"\"\n",
    "    return the description of emoji in the text input\n",
    "    \n",
    "    \"\"\"\n",
    "    for emoji, description in emojis_dict.items():\n",
    "        text = text.replace(emoji, f'[{description}]')\n",
    "    return text\n",
    "\n",
    "def convert_emojis(text,emojis_dict ):\n",
    "    for emot in emojis_dict:\n",
    "        text = re.sub(r'('+emot+')', \"_\".join(emojis_dict[emot].replace(\",\",\"\").replace(\":\",\"\").split()), text)\n",
    "    return text\n",
    "\n",
    "# Load emoticons dictionary from the text file\n",
    "loaded_emojis_dict = load_emoji_dict('emojis_dict.txt')\n",
    "\n",
    "# Example usage\n",
    "text_with_emoji = \"game is on 🔥\"\n",
    "cleaned_text = replace_emojis(text_with_emoji, loaded_emojis_dict)\n",
    "\n",
    "print(\"Original text:\", text_with_emoji)\n",
    "print(\"Cleaned text:\", cleaned_text)"
   ]
  },
  {
   "cell_type": "markdown",
   "id": "intellectual-table",
   "metadata": {},
   "source": [
    "In the result data where we replace emoticon by\n",
    "their description in word we apply the function replace_emojis which replace the emojis to their descriptions. "
   ]
  },
  {
   "cell_type": "markdown",
   "id": "independent-outline",
   "metadata": {},
   "source": [
    "### a- Apply replace_emojis function it in the validation text\n"
   ]
  },
  {
   "cell_type": "code",
   "execution_count": 30,
   "id": "coordinated-radio",
   "metadata": {},
   "outputs": [
    {
     "data": {
      "text/html": [
       "<div>\n",
       "<style scoped>\n",
       "    .dataframe tbody tr th:only-of-type {\n",
       "        vertical-align: middle;\n",
       "    }\n",
       "\n",
       "    .dataframe tbody tr th {\n",
       "        vertical-align: top;\n",
       "    }\n",
       "\n",
       "    .dataframe thead th {\n",
       "        text-align: right;\n",
       "    }\n",
       "</style>\n",
       "<table border=\"1\" class=\"dataframe\">\n",
       "  <thead>\n",
       "    <tr style=\"text-align: right;\">\n",
       "      <th></th>\n",
       "      <th>Tweet</th>\n",
       "    </tr>\n",
       "  </thead>\n",
       "  <tbody>\n",
       "    <tr>\n",
       "      <th>0</th>\n",
       "      <td>Dark Souls 3 April Launch Date Confirmed With ...</td>\n",
       "    </tr>\n",
       "    <tr>\n",
       "      <th>1</th>\n",
       "      <td>\"National hot dog day, national tequila day, t...</td>\n",
       "    </tr>\n",
       "    <tr>\n",
       "      <th>2</th>\n",
       "      <td>When girls become bandwagon fans of the Packer...</td>\n",
       "    </tr>\n",
       "    <tr>\n",
       "      <th>3</th>\n",
       "      <td>@user I may or may not have searched it up on ...</td>\n",
       "    </tr>\n",
       "    <tr>\n",
       "      <th>4</th>\n",
       "      <td>Here's your starting TUESDAY MORNING Line up a...</td>\n",
       "    </tr>\n",
       "  </tbody>\n",
       "</table>\n",
       "</div>"
      ],
      "text/plain": [
       "                                               Tweet\n",
       "0  Dark Souls 3 April Launch Date Confirmed With ...\n",
       "1  \"National hot dog day, national tequila day, t...\n",
       "2  When girls become bandwagon fans of the Packer...\n",
       "3  @user I may or may not have searched it up on ...\n",
       "4  Here's your starting TUESDAY MORNING Line up a..."
      ]
     },
     "execution_count": 30,
     "metadata": {},
     "output_type": "execute_result"
    }
   ],
   "source": [
    "# Create an empty dataset to store the result \n",
    "X_val_re_emoji = pd.DataFrame(index=range(X_val_re_emoti.shape[0]), columns=[\"Tweet\"])\n",
    "for i in range(X_val.shape[0]):\n",
    "    X_val_re_emoji[\"Tweet\"][i] = replace_emojis(X_val_re_emoti[\"Tweet\"][i], loaded_emojis_dict)\n",
    "X_val_re_emoji.head()"
   ]
  },
  {
   "cell_type": "markdown",
   "id": "innovative-album",
   "metadata": {},
   "source": [
    "### b- Apply replace_emojis function it in the test text"
   ]
  },
  {
   "cell_type": "code",
   "execution_count": 31,
   "id": "interstate-blake",
   "metadata": {},
   "outputs": [
    {
     "data": {
      "text/html": [
       "<div>\n",
       "<style scoped>\n",
       "    .dataframe tbody tr th:only-of-type {\n",
       "        vertical-align: middle;\n",
       "    }\n",
       "\n",
       "    .dataframe tbody tr th {\n",
       "        vertical-align: top;\n",
       "    }\n",
       "\n",
       "    .dataframe thead th {\n",
       "        text-align: right;\n",
       "    }\n",
       "</style>\n",
       "<table border=\"1\" class=\"dataframe\">\n",
       "  <thead>\n",
       "    <tr style=\"text-align: right;\">\n",
       "      <th></th>\n",
       "      <th>Tweet</th>\n",
       "    </tr>\n",
       "  </thead>\n",
       "  <tbody>\n",
       "    <tr>\n",
       "      <th>0</th>\n",
       "      <td>@user @user what do these '1/2 naked pics' hav...</td>\n",
       "    </tr>\n",
       "    <tr>\n",
       "      <th>1</th>\n",
       "      <td>OH: “I had a blue penis while I was this” [pla...</td>\n",
       "    </tr>\n",
       "    <tr>\n",
       "      <th>2</th>\n",
       "      <td>@user @user That's coming, but I think the vic...</td>\n",
       "    </tr>\n",
       "    <tr>\n",
       "      <th>3</th>\n",
       "      <td>I think I may be finally in with the in crowd ...</td>\n",
       "    </tr>\n",
       "    <tr>\n",
       "      <th>4</th>\n",
       "      <td>@user Wow,first Hugo Chavez and now Fidel Cast...</td>\n",
       "    </tr>\n",
       "  </tbody>\n",
       "</table>\n",
       "</div>"
      ],
      "text/plain": [
       "                                               Tweet\n",
       "0  @user @user what do these '1/2 naked pics' hav...\n",
       "1  OH: “I had a blue penis while I was this” [pla...\n",
       "2  @user @user That's coming, but I think the vic...\n",
       "3  I think I may be finally in with the in crowd ...\n",
       "4  @user Wow,first Hugo Chavez and now Fidel Cast..."
      ]
     },
     "execution_count": 31,
     "metadata": {},
     "output_type": "execute_result"
    }
   ],
   "source": [
    "# Create an empty dataset to store the result \n",
    "X_test_re_emoji = pd.DataFrame(index=range(X_test_re_emoti.shape[0]), columns=[\"Tweet\"])\n",
    "for i in range(X_test.shape[0]):\n",
    "    X_test_re_emoji[\"Tweet\"][i] = replace_emojis(X_test_re_emoti[\"Tweet\"][i], loaded_emojis_dict)\n",
    "X_test_re_emoji.head()"
   ]
  },
  {
   "cell_type": "markdown",
   "id": "controlling-highlight",
   "metadata": {},
   "source": [
    "We verifie in two observations in the dataset"
   ]
  },
  {
   "cell_type": "code",
   "execution_count": 32,
   "id": "generous-bennett",
   "metadata": {},
   "outputs": [
    {
     "data": {
      "text/plain": [
       "'How many more days until opening day? 😩 \\n'"
      ]
     },
     "execution_count": 32,
     "metadata": {},
     "output_type": "execute_result"
    }
   ],
   "source": [
    "X_test_re_emoti[\"Tweet\"][6]"
   ]
  },
  {
   "cell_type": "code",
   "execution_count": 33,
   "id": "reduced-voice",
   "metadata": {},
   "outputs": [
    {
     "data": {
      "text/plain": [
       "'How many more days until opening day? [:weary_face:] \\n'"
      ]
     },
     "execution_count": 33,
     "metadata": {},
     "output_type": "execute_result"
    }
   ],
   "source": [
    "X_test_re_emoji[\"Tweet\"][6]"
   ]
  },
  {
   "cell_type": "code",
   "execution_count": 34,
   "id": "given-performance",
   "metadata": {},
   "outputs": [
    {
     "data": {
      "text/plain": [
       "'Spirit of my silence i can hear you. But im afraid to be near you. #ThisIsUs 😍😍😍 \\n'"
      ]
     },
     "execution_count": 34,
     "metadata": {},
     "output_type": "execute_result"
    }
   ],
   "source": [
    "X_test_re_emoti[\"Tweet\"][269]"
   ]
  },
  {
   "cell_type": "code",
   "execution_count": 35,
   "id": "behavioral-attribute",
   "metadata": {},
   "outputs": [
    {
     "data": {
      "text/plain": [
       "'Spirit of my silence i can hear you. But im afraid to be near you. #ThisIsUs [:smiling_face_with_heart-eyes:][:smiling_face_with_heart-eyes:][:smiling_face_with_heart-eyes:] \\n'"
      ]
     },
     "execution_count": 35,
     "metadata": {},
     "output_type": "execute_result"
    }
   ],
   "source": [
    "X_test_re_emoji[\"Tweet\"][269]"
   ]
  },
  {
   "cell_type": "code",
   "execution_count": 86,
   "id": "prompt-probe",
   "metadata": {},
   "outputs": [
    {
     "data": {
      "text/plain": [
       "Tweet    0\n",
       "dtype: int64"
      ]
     },
     "execution_count": 86,
     "metadata": {},
     "output_type": "execute_result"
    }
   ],
   "source": [
    "X_train_re_emoti.isna().sum()"
   ]
  },
  {
   "cell_type": "markdown",
   "id": "applicable-large",
   "metadata": {},
   "source": [
    "### c- Apply replace_emojis function it in the train text"
   ]
  },
  {
   "cell_type": "code",
   "execution_count": 101,
   "id": "spectacular-yellow",
   "metadata": {},
   "outputs": [
    {
     "data": {
      "text/html": [
       "<div>\n",
       "<style scoped>\n",
       "    .dataframe tbody tr th:only-of-type {\n",
       "        vertical-align: middle;\n",
       "    }\n",
       "\n",
       "    .dataframe tbody tr th {\n",
       "        vertical-align: top;\n",
       "    }\n",
       "\n",
       "    .dataframe thead th {\n",
       "        text-align: right;\n",
       "    }\n",
       "</style>\n",
       "<table border=\"1\" class=\"dataframe\">\n",
       "  <thead>\n",
       "    <tr style=\"text-align: right;\">\n",
       "      <th></th>\n",
       "      <th>Tweet</th>\n",
       "    </tr>\n",
       "  </thead>\n",
       "  <tbody>\n",
       "    <tr>\n",
       "      <th>0</th>\n",
       "      <td></td>\n",
       "    </tr>\n",
       "    <tr>\n",
       "      <th>1</th>\n",
       "      <td></td>\n",
       "    </tr>\n",
       "    <tr>\n",
       "      <th>2</th>\n",
       "      <td></td>\n",
       "    </tr>\n",
       "    <tr>\n",
       "      <th>3</th>\n",
       "      <td></td>\n",
       "    </tr>\n",
       "    <tr>\n",
       "      <th>4</th>\n",
       "      <td></td>\n",
       "    </tr>\n",
       "  </tbody>\n",
       "</table>\n",
       "</div>"
      ],
      "text/plain": [
       "  Tweet\n",
       "0      \n",
       "1      \n",
       "2      \n",
       "3      \n",
       "4      "
      ]
     },
     "execution_count": 101,
     "metadata": {},
     "output_type": "execute_result"
    }
   ],
   "source": [
    "# Create an empty dataset to store the result \n",
    "X_train_re_emoji = pd.DataFrame(index=range(X_train_re_emoti.shape[0]), columns=[\"Tweet\"])\n",
    "\n",
    "# Check for missing values in the \"Tweet\" column\n",
    "#X_train_re_emoti[\"Tweet\"] = X_train_re_emoti[\"Tweet\"].fillna(\"\")\n",
    "\n",
    "for i in range(X_train.shape[0]):\n",
    "    X_train_re_emoji[\"Tweet\"]= replace_emojis(X_train_re_emoti[\"Tweet\"][i], loaded_emojis_dict)\n",
    "X_train_re_emoji.head()"
   ]
  },
  {
   "cell_type": "markdown",
   "id": "violent-nudist",
   "metadata": {},
   "source": [
    "It seem like there isn't emojis in the train dataset."
   ]
  },
  {
   "cell_type": "markdown",
   "id": "directed-profile",
   "metadata": {},
   "source": [
    "## 3- Remove Punctuation"
   ]
  },
  {
   "cell_type": "markdown",
   "id": "marine-bridal",
   "metadata": {},
   "source": [
    "We remove the punctuation in all our dataset the previous cleaning result.and create a new column call tweet_no_puntuation "
   ]
  },
  {
   "cell_type": "code",
   "execution_count": 57,
   "id": "destroyed-arrest",
   "metadata": {},
   "outputs": [],
   "source": [
    "PUNCT_TO_REMOVE = string.punctuation\n",
    "def remove_punctuation(text):\n",
    "    \"\"\"custom function to remove the punctuation\"\"\"\n",
    "    return text.translate(str.maketrans('', '', PUNCT_TO_REMOVE))"
   ]
  },
  {
   "cell_type": "code",
   "execution_count": 92,
   "id": "regulation-congo",
   "metadata": {},
   "outputs": [
    {
     "data": {
      "text/plain": [
       "'!\"#$%&\\'()*+,-./:;<=>?@[\\\\]^_`{|}~'"
      ]
     },
     "execution_count": 92,
     "metadata": {},
     "output_type": "execute_result"
    }
   ],
   "source": [
    "PUNCT_TO_REMOVE"
   ]
  },
  {
   "cell_type": "markdown",
   "id": "authorized-pantyhose",
   "metadata": {},
   "source": [
    "### a- Apply this function in validation data"
   ]
  },
  {
   "cell_type": "code",
   "execution_count": 97,
   "id": "accessible-capacity",
   "metadata": {},
   "outputs": [
    {
     "data": {
      "text/html": [
       "<div>\n",
       "<style scoped>\n",
       "    .dataframe tbody tr th:only-of-type {\n",
       "        vertical-align: middle;\n",
       "    }\n",
       "\n",
       "    .dataframe tbody tr th {\n",
       "        vertical-align: top;\n",
       "    }\n",
       "\n",
       "    .dataframe thead th {\n",
       "        text-align: right;\n",
       "    }\n",
       "</style>\n",
       "<table border=\"1\" class=\"dataframe\">\n",
       "  <thead>\n",
       "    <tr style=\"text-align: right;\">\n",
       "      <th></th>\n",
       "      <th>Tweet</th>\n",
       "      <th>text_wo_punct</th>\n",
       "    </tr>\n",
       "  </thead>\n",
       "  <tbody>\n",
       "    <tr>\n",
       "      <th>0</th>\n",
       "      <td>\"QT @user In the original draft of the 7th boo...</td>\n",
       "      <td>QT user In the original draft of the 7th book ...</td>\n",
       "    </tr>\n",
       "    <tr>\n",
       "      <th>1</th>\n",
       "      <td>\"Ben Smith / Smith (concussionConfusion remain...</td>\n",
       "      <td>Ben Smith  Smith concussionConfusion remains o...</td>\n",
       "    </tr>\n",
       "    <tr>\n",
       "      <th>2</th>\n",
       "      <td>Sorry bout the stream last night I crashed out...</td>\n",
       "      <td>Sorry bout the stream last night I crashed out...</td>\n",
       "    </tr>\n",
       "    <tr>\n",
       "      <th>3</th>\n",
       "      <td>Chase Headley's RBI double in the 8th inning o...</td>\n",
       "      <td>Chase Headleys RBI double in the 8th inning of...</td>\n",
       "    </tr>\n",
       "    <tr>\n",
       "      <th>4</th>\n",
       "      <td>@user Alciato: Bee will invest 150 million in ...</td>\n",
       "      <td>user Alciato Bee will invest 150 million in Ja...</td>\n",
       "    </tr>\n",
       "  </tbody>\n",
       "</table>\n",
       "</div>"
      ],
      "text/plain": [
       "                                               Tweet  \\\n",
       "0  \"QT @user In the original draft of the 7th boo...   \n",
       "1  \"Ben Smith / Smith (concussionConfusion remain...   \n",
       "2  Sorry bout the stream last night I crashed out...   \n",
       "3  Chase Headley's RBI double in the 8th inning o...   \n",
       "4  @user Alciato: Bee will invest 150 million in ...   \n",
       "\n",
       "                                       text_wo_punct  \n",
       "0  QT user In the original draft of the 7th book ...  \n",
       "1  Ben Smith  Smith concussionConfusion remains o...  \n",
       "2  Sorry bout the stream last night I crashed out...  \n",
       "3  Chase Headleys RBI double in the 8th inning of...  \n",
       "4  user Alciato Bee will invest 150 million in Ja...  "
      ]
     },
     "execution_count": 97,
     "metadata": {},
     "output_type": "execute_result"
    }
   ],
   "source": [
    "X_Train = X_train_re_emoti\n",
    "\n",
    "# Check for missing values in the \"Tweet\" column\n",
    "X_Train[\"Tweet\"] = X_Train[\"Tweet\"].fillna(\"\")\n",
    "\n",
    "X_Train[\"text_wo_punct\"] = X_Train[\"Tweet\"].apply(lambda Tweet: remove_punctuation(Tweet))\n",
    "X_Train.head()"
   ]
  },
  {
   "cell_type": "markdown",
   "id": "julian-utility",
   "metadata": {},
   "source": [
    "### b- Apply this function in test data"
   ]
  },
  {
   "cell_type": "code",
   "execution_count": 89,
   "id": "beginning-contents",
   "metadata": {},
   "outputs": [
    {
     "data": {
      "text/html": [
       "<div>\n",
       "<style scoped>\n",
       "    .dataframe tbody tr th:only-of-type {\n",
       "        vertical-align: middle;\n",
       "    }\n",
       "\n",
       "    .dataframe tbody tr th {\n",
       "        vertical-align: top;\n",
       "    }\n",
       "\n",
       "    .dataframe thead th {\n",
       "        text-align: right;\n",
       "    }\n",
       "</style>\n",
       "<table border=\"1\" class=\"dataframe\">\n",
       "  <thead>\n",
       "    <tr style=\"text-align: right;\">\n",
       "      <th></th>\n",
       "      <th>Tweet</th>\n",
       "      <th>text_wo_punct</th>\n",
       "    </tr>\n",
       "  </thead>\n",
       "  <tbody>\n",
       "    <tr>\n",
       "      <th>0</th>\n",
       "      <td>@user @user what do these '1/2 naked pics' hav...</td>\n",
       "      <td>user user what do these 12 naked pics have to ...</td>\n",
       "    </tr>\n",
       "    <tr>\n",
       "      <th>1</th>\n",
       "      <td>OH: “I had a blue penis while I was this” [pla...</td>\n",
       "      <td>OH “I had a blue penis while I was this” playi...</td>\n",
       "    </tr>\n",
       "    <tr>\n",
       "      <th>2</th>\n",
       "      <td>@user @user That's coming, but I think the vic...</td>\n",
       "      <td>user user Thats coming but I think the victims...</td>\n",
       "    </tr>\n",
       "    <tr>\n",
       "      <th>3</th>\n",
       "      <td>I think I may be finally in with the in crowd ...</td>\n",
       "      <td>I think I may be finally in with the in crowd ...</td>\n",
       "    </tr>\n",
       "    <tr>\n",
       "      <th>4</th>\n",
       "      <td>@user Wow,first Hugo Chavez and now Fidel Cast...</td>\n",
       "      <td>user Wowfirst Hugo Chavez and now Fidel Castro...</td>\n",
       "    </tr>\n",
       "  </tbody>\n",
       "</table>\n",
       "</div>"
      ],
      "text/plain": [
       "                                               Tweet  \\\n",
       "0  @user @user what do these '1/2 naked pics' hav...   \n",
       "1  OH: “I had a blue penis while I was this” [pla...   \n",
       "2  @user @user That's coming, but I think the vic...   \n",
       "3  I think I may be finally in with the in crowd ...   \n",
       "4  @user Wow,first Hugo Chavez and now Fidel Cast...   \n",
       "\n",
       "                                       text_wo_punct  \n",
       "0  user user what do these 12 naked pics have to ...  \n",
       "1  OH “I had a blue penis while I was this” playi...  \n",
       "2  user user Thats coming but I think the victims...  \n",
       "3  I think I may be finally in with the in crowd ...  \n",
       "4  user Wowfirst Hugo Chavez and now Fidel Castro...  "
      ]
     },
     "execution_count": 89,
     "metadata": {},
     "output_type": "execute_result"
    }
   ],
   "source": [
    "X_Test =  X_test_re_emoji\n",
    "X_Test[\"text_wo_punct\"] = X_Test[\"Tweet\"].apply(lambda Tweet: remove_punctuation(Tweet))\n",
    "X_Test.head()"
   ]
  },
  {
   "cell_type": "markdown",
   "id": "demographic-discharge",
   "metadata": {},
   "source": [
    "### c- Apply this function in train data"
   ]
  },
  {
   "cell_type": "code",
   "execution_count": 90,
   "id": "monthly-spread",
   "metadata": {},
   "outputs": [
    {
     "data": {
      "text/html": [
       "<div>\n",
       "<style scoped>\n",
       "    .dataframe tbody tr th:only-of-type {\n",
       "        vertical-align: middle;\n",
       "    }\n",
       "\n",
       "    .dataframe tbody tr th {\n",
       "        vertical-align: top;\n",
       "    }\n",
       "\n",
       "    .dataframe thead th {\n",
       "        text-align: right;\n",
       "    }\n",
       "</style>\n",
       "<table border=\"1\" class=\"dataframe\">\n",
       "  <thead>\n",
       "    <tr style=\"text-align: right;\">\n",
       "      <th></th>\n",
       "      <th>Tweet</th>\n",
       "      <th>text_wo_punct</th>\n",
       "    </tr>\n",
       "  </thead>\n",
       "  <tbody>\n",
       "    <tr>\n",
       "      <th>0</th>\n",
       "      <td>Dark Souls 3 April Launch Date Confirmed With ...</td>\n",
       "      <td>Dark Souls 3 April Launch Date Confirmed With ...</td>\n",
       "    </tr>\n",
       "    <tr>\n",
       "      <th>1</th>\n",
       "      <td>\"National hot dog day, national tequila day, t...</td>\n",
       "      <td>National hot dog day national tequila day then...</td>\n",
       "    </tr>\n",
       "    <tr>\n",
       "      <th>2</th>\n",
       "      <td>When girls become bandwagon fans of the Packer...</td>\n",
       "      <td>When girls become bandwagon fans of the Packer...</td>\n",
       "    </tr>\n",
       "    <tr>\n",
       "      <th>3</th>\n",
       "      <td>@user I may or may not have searched it up on ...</td>\n",
       "      <td>user I may or may not have searched it up on g...</td>\n",
       "    </tr>\n",
       "    <tr>\n",
       "      <th>4</th>\n",
       "      <td>Here's your starting TUESDAY MORNING Line up a...</td>\n",
       "      <td>Heres your starting TUESDAY MORNING Line up at...</td>\n",
       "    </tr>\n",
       "  </tbody>\n",
       "</table>\n",
       "</div>"
      ],
      "text/plain": [
       "                                               Tweet  \\\n",
       "0  Dark Souls 3 April Launch Date Confirmed With ...   \n",
       "1  \"National hot dog day, national tequila day, t...   \n",
       "2  When girls become bandwagon fans of the Packer...   \n",
       "3  @user I may or may not have searched it up on ...   \n",
       "4  Here's your starting TUESDAY MORNING Line up a...   \n",
       "\n",
       "                                       text_wo_punct  \n",
       "0  Dark Souls 3 April Launch Date Confirmed With ...  \n",
       "1  National hot dog day national tequila day then...  \n",
       "2  When girls become bandwagon fans of the Packer...  \n",
       "3  user I may or may not have searched it up on g...  \n",
       "4  Heres your starting TUESDAY MORNING Line up at...  "
      ]
     },
     "execution_count": 90,
     "metadata": {},
     "output_type": "execute_result"
    }
   ],
   "source": [
    "X_Val =  X_val_re_emoji\n",
    "X_Val[\"text_wo_punct\"] = X_Val[\"Tweet\"].apply(lambda Tweet: remove_punctuation(Tweet))\n",
    "X_Val.head()"
   ]
  },
  {
   "cell_type": "code",
   "execution_count": null,
   "id": "entire-vulnerability",
   "metadata": {},
   "outputs": [],
   "source": []
  },
  {
   "cell_type": "markdown",
   "id": "clean-louis",
   "metadata": {},
   "source": [
    "## 4- Find Non Alphanumeric"
   ]
  },
  {
   "cell_type": "code",
   "execution_count": 50,
   "id": "desirable-importance",
   "metadata": {},
   "outputs": [],
   "source": [
    "def find_non_apl_words(text):\n",
    "    tokens = text.strip().split()\n",
    "    return [t for t in tokens if not re.match(r'[^\\W\\d]*$', \n",
    "                                              t.translate(str.maketrans('', '', r'\\.\\\"\\,\\?\\!\\@\\'()'))\n",
    "                                             )]"
   ]
  },
  {
   "cell_type": "code",
   "execution_count": 98,
   "id": "quantitative-findings",
   "metadata": {},
   "outputs": [
    {
     "data": {
      "text/plain": [
       "0        [7th, #HappyBirthdayRemusLupin\"]\n",
       "1                         [/, #NHL, #SJ\"]\n",
       "2                                      []\n",
       "3                               [8th, 33]\n",
       "4             [Alciato:, 150, 200, 2017\"]\n",
       "                       ...               \n",
       "45610                                  []\n",
       "45611                                  []\n",
       "45612                                  []\n",
       "45613                                  []\n",
       "45614                                  []\n",
       "Name: Tweet, Length: 45615, dtype: object"
      ]
     },
     "execution_count": 98,
     "metadata": {},
     "output_type": "execute_result"
    }
   ],
   "source": [
    "# Create an empty dataset to store the result \n",
    "X_train_non_apha_num = pd.DataFrame(index=range(X_Train.shape[0]), columns=[\"Tweet\"])\n",
    "X_train_non_apha_num = X_Train['Tweet'].apply(lambda x: find_non_apl_words(x))\n",
    "X_val_non_apha_num"
   ]
  },
  {
   "cell_type": "markdown",
   "id": "olympic-earth",
   "metadata": {},
   "source": [
    "### b- Apply this function in test data"
   ]
  },
  {
   "cell_type": "code",
   "execution_count": 103,
   "id": "novel-bridge",
   "metadata": {
    "scrolled": true
   },
   "outputs": [
    {
     "data": {
      "text/plain": [
       "0                                                   ['1/2]\n",
       "1                          [OH:, “I, this”, [playing, VR]]\n",
       "2                                                       []\n",
       "3                        [#mannequinchallenge, #grads2014]\n",
       "4                                                       []\n",
       "                               ...                        \n",
       "12279                            [Editorial:, FBI’s, ‘had]\n",
       "12280                                           [#vanessa]\n",
       "12281    [#latestnews, 4, #newmexico, #politics, +, #na...\n",
       "12282                                           [#caveman]\n",
       "12283                                                   []\n",
       "Name: Tweet, Length: 12284, dtype: object"
      ]
     },
     "execution_count": 103,
     "metadata": {},
     "output_type": "execute_result"
    }
   ],
   "source": [
    "# Create an empty dataset to store the result \n",
    "X_test_non_apha_num = pd.DataFrame(index=range(X_Test.shape[0]), columns=[\"Tweet\"])\n",
    "X_test_non_apha_num = X_Test['Tweet'].apply(lambda x: find_non_apl_words(x))\n",
    "X_test_non_apha_num"
   ]
  },
  {
   "cell_type": "code",
   "execution_count": null,
   "id": "controversial-greeting",
   "metadata": {},
   "outputs": [],
   "source": [
    "X_Test['Tweet'][0]"
   ]
  },
  {
   "cell_type": "markdown",
   "id": "purple-former",
   "metadata": {},
   "source": [
    "### c- Apply this function in train data"
   ]
  },
  {
   "cell_type": "code",
   "execution_count": 104,
   "id": "color-lottery",
   "metadata": {},
   "outputs": [
    {
     "data": {
      "text/plain": [
       "0                                 [3, Trailer:]\n",
       "1                                            []\n",
       "2                                         [1st]\n",
       "3                                            []\n",
       "4       [9[Happy, smiley]0, 10[Happy, smiley]0]\n",
       "                         ...                   \n",
       "1995                                         []\n",
       "1996                                         []\n",
       "1997               [#007, #SPECTRE, #JamesBond]\n",
       "1998                [5, [Skeptical,, hesitant]]\n",
       "1999                                     [16th]\n",
       "Name: Tweet, Length: 2000, dtype: object"
      ]
     },
     "execution_count": 104,
     "metadata": {},
     "output_type": "execute_result"
    }
   ],
   "source": [
    "# Create an empty dataset to store the result \n",
    "X_val_non_apha_num = pd.DataFrame(index=range(X_Val.shape[0]), columns=[\"Tweet\"])\n",
    "X_val_non_apha_num = X_Val['Tweet'].apply(lambda x: find_non_apl_words(x))\n",
    "X_val_non_apha_num"
   ]
  },
  {
   "cell_type": "markdown",
   "id": "external-mounting",
   "metadata": {},
   "source": [
    "We notice that all our three datasets has non Alphanumerique caracter."
   ]
  },
  {
   "cell_type": "code",
   "execution_count": null,
   "id": "technical-declaration",
   "metadata": {},
   "outputs": [],
   "source": []
  },
  {
   "cell_type": "markdown",
   "id": "advance-credit",
   "metadata": {},
   "source": [
    "## 3 - Spelling Correction"
   ]
  },
  {
   "cell_type": "code",
   "execution_count": 106,
   "id": "objective-afternoon",
   "metadata": {},
   "outputs": [
    {
     "data": {
      "text/plain": [
       "'spelling correcting'"
      ]
     },
     "execution_count": 106,
     "metadata": {},
     "output_type": "execute_result"
    }
   ],
   "source": [
    "from spellchecker import SpellChecker\n",
    "\n",
    "spell = SpellChecker()\n",
    "def correct_spellings(text):\n",
    "    corrected_text = []\n",
    "    misspelled_words = spell.unknown(text.split())\n",
    "    for word in text.split():\n",
    "        if word in misspelled_words:\n",
    "            corrected_text.append(spell.correction(word))\n",
    "        else:\n",
    "            corrected_text.append(word)\n",
    "    return \" \".join(corrected_text)\n",
    "\n",
    "text = \"speling correctin\"\n",
    "correct_spellings(text)"
   ]
  },
  {
   "cell_type": "code",
   "execution_count": 117,
   "id": "eleven-strain",
   "metadata": {},
   "outputs": [],
   "source": [
    "def correct_spellings(text):\n",
    "    corrected_text = []\n",
    "    for word in text.split():\n",
    "        # Correct the spelling if it's in the dictionary, otherwise keep the original word\n",
    "        corrected_word = spell.correction(word)\n",
    "        corrected_text.append(corrected_word) if corrected_word else None\n",
    "\n",
    "    # Filter out None values and join the corrected text\n",
    "    return \" \".join(filter(None, corrected_text))"
   ]
  },
  {
   "cell_type": "code",
   "execution_count": 118,
   "id": "suspected-parts",
   "metadata": {},
   "outputs": [
    {
     "data": {
      "text/plain": [
       "'spelling correcting'"
      ]
     },
     "execution_count": 118,
     "metadata": {},
     "output_type": "execute_result"
    }
   ],
   "source": [
    "text = \"speling correctin\"\n",
    "correct_spellings(text)"
   ]
  },
  {
   "cell_type": "markdown",
   "id": "threaded-russell",
   "metadata": {},
   "source": [
    "We apply this function on the result for the previous cleaned"
   ]
  },
  {
   "cell_type": "markdown",
   "id": "existing-brain",
   "metadata": {},
   "source": [
    "### a- In validation set"
   ]
  },
  {
   "cell_type": "code",
   "execution_count": null,
   "id": "respective-riding",
   "metadata": {},
   "outputs": [],
   "source": [
    "# Create an empty dataset to store the result \n",
    "X_val_spell = pd.DataFrame(index=range(X_Val.shape[0]), columns=[\"text_wo_punct\"])\n",
    "for i in range(X_val.shape[0]):\n",
    "    X_val_spell[\"text_wo_punct\"][i] = correct_spellings(X_Val[\"text_wo_punct\"][i])\n",
    "X_val_spell.head()"
   ]
  },
  {
   "cell_type": "code",
   "execution_count": 110,
   "id": "designing-measurement",
   "metadata": {},
   "outputs": [
    {
     "data": {
      "text/plain": [
       "'Mar do you know that Caitlyn Jenner still has a ball sack  my 7yr old cousin \\n'"
      ]
     },
     "execution_count": 110,
     "metadata": {},
     "output_type": "execute_result"
    }
   ],
   "source": [
    "X_Val[\"text_wo_punct\"][270]"
   ]
  },
  {
   "cell_type": "code",
   "execution_count": 114,
   "id": "appropriate-maine",
   "metadata": {},
   "outputs": [
    {
     "data": {
      "text/plain": [
       "'every time I hear alright by Kendrick I think its j Coles Black Friday'"
      ]
     },
     "execution_count": 114,
     "metadata": {},
     "output_type": "execute_result"
    }
   ],
   "source": [
    "correct_spellings(X_Val[\"text_wo_punct\"][27])"
   ]
  },
  {
   "cell_type": "code",
   "execution_count": 45,
   "id": "seeing-integration",
   "metadata": {},
   "outputs": [
    {
     "data": {
      "text/plain": [
       "'We just received more tickets for Blue Rodeo at The KEE to Bala Saturday May 19th and Sunday May 20th. Tickets... \\n'"
      ]
     },
     "execution_count": 45,
     "metadata": {},
     "output_type": "execute_result"
    }
   ],
   "source": [
    "X_val_re_emoji[\"Tweet\"][12]"
   ]
  },
  {
   "cell_type": "code",
   "execution_count": null,
   "id": "stopped-nashville",
   "metadata": {},
   "outputs": [],
   "source": []
  },
  {
   "cell_type": "code",
   "execution_count": null,
   "id": "respective-plymouth",
   "metadata": {},
   "outputs": [],
   "source": []
  },
  {
   "cell_type": "code",
   "execution_count": null,
   "id": "actual-couple",
   "metadata": {},
   "outputs": [],
   "source": []
  },
  {
   "cell_type": "code",
   "execution_count": null,
   "id": "adapted-arizona",
   "metadata": {},
   "outputs": [],
   "source": []
  },
  {
   "cell_type": "code",
   "execution_count": null,
   "id": "variable-filling",
   "metadata": {},
   "outputs": [],
   "source": []
  },
  {
   "cell_type": "markdown",
   "id": "hundred-athens",
   "metadata": {},
   "source": [
    "## 4 - Chat Words Conversion"
   ]
  },
  {
   "cell_type": "code",
   "execution_count": 113,
   "id": "foreign-participant",
   "metadata": {},
   "outputs": [
    {
     "data": {
      "text/plain": [
       "'one minute Be Right Back'"
      ]
     },
     "execution_count": 113,
     "metadata": {},
     "output_type": "execute_result"
    }
   ],
   "source": [
    "chat_words_map_dict = {}\n",
    "chat_words_list = []\n",
    "for line in chat_words_str.split(\"\\n\"):\n",
    "    if line != \"\":\n",
    "        cw = line.split(\"=\")[0]\n",
    "        cw_expanded = line.split(\"=\")[1]\n",
    "        chat_words_list.append(cw)\n",
    "        chat_words_map_dict[cw] = cw_expanded\n",
    "chat_words_list = set(chat_words_list)\n",
    "\n",
    "def chat_words_conversion(text):\n",
    "    new_text = []\n",
    "    for w in text.split():\n",
    "        if w.upper() in chat_words_list:\n",
    "            new_text.append(chat_words_map_dict[w.upper()])\n",
    "        else:\n",
    "            new_text.append(w)\n",
    "    return \" \".join(new_text)\n",
    "\n",
    "chat_words_conversion(\"one minute BRB\")"
   ]
  },
  {
   "cell_type": "code",
   "execution_count": 112,
   "id": "later-agriculture",
   "metadata": {},
   "outputs": [],
   "source": [
    "chat_words_str = \"\"\"\n",
    "AFAIK=As Far As I Know\n",
    "AFK=Away From Keyboard\n",
    "ASAP=As Soon As Possible\n",
    "ATK=At The Keyboard\n",
    "ATM=At The Moment\n",
    "A3=Anytime, Anywhere, Anyplace\n",
    "BAK=Back At Keyboard\n",
    "BBL=Be Back Later\n",
    "BBS=Be Back Soon\n",
    "BFN=Bye For Now\n",
    "B4N=Bye For Now\n",
    "BRB=Be Right Back\n",
    "BRT=Be Right There\n",
    "BTW=By The Way\n",
    "B4=Before\n",
    "B4N=Bye For Now\n",
    "CU=See You\n",
    "CUL8R=See You Later\n",
    "CYA=See You\n",
    "FAQ=Frequently Asked Questions\n",
    "FC=Fingers Crossed\n",
    "FWIW=For What It's Worth\n",
    "FYI=For Your Information\n",
    "GAL=Get A Life\n",
    "GG=Good Game\n",
    "GN=Good Night\n",
    "GMTA=Great Minds Think Alike\n",
    "GR8=Great!\n",
    "G9=Genius\n",
    "IC=I See\n",
    "ICQ=I Seek you (also a chat program)\n",
    "ILU=ILU: I Love You\n",
    "IMHO=In My Honest/Humble Opinion\n",
    "IMO=In My Opinion\n",
    "IOW=In Other Words\n",
    "IRL=In Real Life\n",
    "KISS=Keep It Simple, Stupid\n",
    "LDR=Long Distance Relationship\n",
    "LMAO=Laugh My A.. Off\n",
    "LOL=Laughing Out Loud\n",
    "LTNS=Long Time No See\n",
    "L8R=Later\n",
    "MTE=My Thoughts Exactly\n",
    "M8=Mate\n",
    "NRN=No Reply Necessary\n",
    "OIC=Oh I See\n",
    "PITA=Pain In The A..\n",
    "PRT=Party\n",
    "PRW=Parents Are Watching\n",
    "ROFL=Rolling On The Floor Laughing\n",
    "ROFLOL=Rolling On The Floor Laughing Out Loud\n",
    "ROTFLMAO=Rolling On The Floor Laughing My A.. Off\n",
    "SK8=Skate\n",
    "STATS=Your sex and age\n",
    "ASL=Age, Sex, Location\n",
    "THX=Thank You\n",
    "TTFN=Ta-Ta For Now!\n",
    "TTYL=Talk To You Later\n",
    "U=You\n",
    "U2=You Too\n",
    "U4E=Yours For Ever\n",
    "WB=Welcome Back\n",
    "WTF=What The F...\n",
    "WTG=Way To Go!\n",
    "WUF=Where Are You From?\n",
    "W8=Wait...\n",
    "7K=Sick:-D Laugher\n",
    "\"\"\""
   ]
  },
  {
   "cell_type": "code",
   "execution_count": null,
   "id": "labeled-accident",
   "metadata": {},
   "outputs": [],
   "source": []
  },
  {
   "cell_type": "code",
   "execution_count": null,
   "id": "exotic-hydrogen",
   "metadata": {},
   "outputs": [],
   "source": [
    "apply this in all our Dataset "
   ]
  },
  {
   "cell_type": "code",
   "execution_count": null,
   "id": "controlling-hacker",
   "metadata": {},
   "outputs": [],
   "source": []
  },
  {
   "cell_type": "code",
   "execution_count": null,
   "id": "celtic-commerce",
   "metadata": {},
   "outputs": [],
   "source": []
  },
  {
   "cell_type": "code",
   "execution_count": 1,
   "id": "emerging-catholic",
   "metadata": {},
   "outputs": [
    {
     "name": "stdout",
     "output_type": "stream",
     "text": [
      "Requirement already satisfied: pyspellchecker in /home/student23/.local/lib/python3.9/site-packages (0.8.1)\r\n"
     ]
    }
   ],
   "source": [
    "!pip install pyspellchecker"
   ]
  },
  {
   "cell_type": "markdown",
   "id": "optical-pregnancy",
   "metadata": {},
   "source": [
    "Just to understand how the sentimental analysis work "
   ]
  },
  {
   "cell_type": "code",
   "execution_count": null,
   "id": "employed-steal",
   "metadata": {
    "scrolled": true
   },
   "outputs": [],
   "source": [
    "import nltk\n",
    "from nltk.sentiment import SentimentIntensityAnalyzer\n",
    "from nltk.tokenize import word_tokenize\n",
    "\n",
    "# Download the punkt tokenizer if not already downloaded\n",
    "nltk.download('punkt')\n",
    "nltk.download('vader_lexicon')\n",
    "\n",
    "# Sample data\n",
    "text_data = [\n",
    "    \"Nice! I have the bottom two!\",\n",
    "    \"Happy Friday everyone! Coffee is on...\",\n",
    "    \"Having to read Charles Dickens for homework...\",\n",
    "    \"I am going to see Aesop Rock and Rob Sonic on Fri Aug 3rd...\",\n",
    "    \"Crazy that you use Kendrick. I'm listening to Kendrick Lamar...\",\n",
    "    \"South Korea May Be China Telecom's Next Foreign Conquest...\"\n",
    "    # ... add more texts from your data\n",
    "]\n",
    "\n",
    "# Initialize the Sentiment Intensity Analyzer\n",
    "sid = SentimentIntensityAnalyzer()\n",
    "\n",
    "# Analyze sentiment for each text\n",
    "for text in text_data:\n",
    "    # Tokenize the text\n",
    "    words = word_tokenize(text)\n",
    "\n",
    "    # Calculate sentiment scores\n",
    "    sentiment_scores = sid.polarity_scores(text)\n",
    "\n",
    "    # Print the results\n",
    "    print(f\"Text: {text}\")\n",
    "    print(f\"Sentiment Scores: {sentiment_scores}\")\n",
    "    print(\"-----\")\n"
   ]
  },
  {
   "cell_type": "code",
   "execution_count": null,
   "id": "dutch-skating",
   "metadata": {},
   "outputs": [],
   "source": [
    "sentiment_scores = sid.polarity_scores(\"so happy Laughing big grin laugh with glasses is amazing Heart\")\n",
    "sentiment_scores "
   ]
  },
  {
   "cell_type": "code",
   "execution_count": null,
   "id": "orange-petersburg",
   "metadata": {},
   "outputs": [],
   "source": [
    "sid.polarity_scores(\"so happy This is amazing \")"
   ]
  },
  {
   "cell_type": "code",
   "execution_count": null,
   "id": "second-begin",
   "metadata": {},
   "outputs": [],
   "source": [
    "#!pip install nltk "
   ]
  },
  {
   "cell_type": "code",
   "execution_count": null,
   "id": "tight-representative",
   "metadata": {},
   "outputs": [],
   "source": []
  }
 ],
 "metadata": {
  "kernelspec": {
   "display_name": "Python 3",
   "language": "python",
   "name": "python3"
  },
  "language_info": {
   "codemirror_mode": {
    "name": "ipython",
    "version": 3
   },
   "file_extension": ".py",
   "mimetype": "text/x-python",
   "name": "python",
   "nbconvert_exporter": "python",
   "pygments_lexer": "ipython3",
   "version": "3.9.2"
  }
 },
 "nbformat": 4,
 "nbformat_minor": 5
}
