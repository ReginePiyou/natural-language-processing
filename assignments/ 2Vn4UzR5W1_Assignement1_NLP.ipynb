{
  "cells": [
    {
      "cell_type": "markdown",
      "metadata": {
        "id": "view-in-github",
        "colab_type": "text"
      },
      "source": [
        "<a href=\"https://colab.research.google.com/github/ReginePiyou/natural-language-processing/blob/main/assignments/%202Vn4UzR5W1_Assignement1_NLP.ipynb\" target=\"_parent\"><img src=\"https://colab.research.google.com/assets/colab-badge.svg\" alt=\"Open In Colab\"/></a>"
      ]
    },
    {
      "cell_type": "markdown",
      "id": "tight-production",
      "metadata": {
        "id": "tight-production"
      },
      "source": [
        " ## 2Vn4UzR5W1_Assignement1_NLP"
      ]
    },
    {
      "cell_type": "code",
      "execution_count": 3,
      "id": "polish-discrimination",
      "metadata": {
        "id": "polish-discrimination"
      },
      "outputs": [],
      "source": [
        "import numpy as np\n",
        "import pandas as pd\n",
        "import re\n",
        "import string"
      ]
    },
    {
      "cell_type": "code",
      "source": [
        "!git clone https://github.com/ReginePiyou/natural-language-processing.git"
      ],
      "metadata": {
        "colab": {
          "base_uri": "https://localhost:8080/"
        },
        "id": "CBWeSg3f9IQS",
        "outputId": "a2a4b7ca-f2f6-4435-b8b1-7f3a3e56b570"
      },
      "id": "CBWeSg3f9IQS",
      "execution_count": 1,
      "outputs": [
        {
          "output_type": "stream",
          "name": "stdout",
          "text": [
            "Cloning into 'natural-language-processing'...\n",
            "remote: Enumerating objects: 164, done.\u001b[K\n",
            "remote: Counting objects: 100% (164/164), done.\u001b[K\n",
            "remote: Compressing objects: 100% (127/127), done.\u001b[K\n",
            "remote: Total 164 (delta 56), reused 125 (delta 32), pack-reused 0\u001b[K\n",
            "Receiving objects: 100% (164/164), 34.75 MiB | 19.14 MiB/s, done.\n",
            "Resolving deltas: 100% (56/56), done.\n"
          ]
        }
      ]
    },
    {
      "cell_type": "markdown",
      "id": "boring-consciousness",
      "metadata": {
        "id": "boring-consciousness"
      },
      "source": [
        "# Upload the different data"
      ]
    },
    {
      "cell_type": "markdown",
      "id": "afraid-riverside",
      "metadata": {
        "id": "afraid-riverside"
      },
      "source": [
        "### 1- The mapping data\n",
        "This help to understand how the target value are encoded"
      ]
    },
    {
      "cell_type": "code",
      "execution_count": 4,
      "id": "moral-appointment",
      "metadata": {
        "colab": {
          "base_uri": "https://localhost:8080/",
          "height": 143
        },
        "id": "moral-appointment",
        "outputId": "c51113f2-210f-4637-f9d2-76ea52c02825"
      },
      "outputs": [
        {
          "output_type": "execute_result",
          "data": {
            "text/plain": [
              "   0         1\n",
              "0  0  negative\n",
              "1  1   neutral\n",
              "2  2  positive"
            ],
            "text/html": [
              "\n",
              "  <div id=\"df-0a0168a3-4f23-484c-8c85-41ca3a135f85\" class=\"colab-df-container\">\n",
              "    <div>\n",
              "<style scoped>\n",
              "    .dataframe tbody tr th:only-of-type {\n",
              "        vertical-align: middle;\n",
              "    }\n",
              "\n",
              "    .dataframe tbody tr th {\n",
              "        vertical-align: top;\n",
              "    }\n",
              "\n",
              "    .dataframe thead th {\n",
              "        text-align: right;\n",
              "    }\n",
              "</style>\n",
              "<table border=\"1\" class=\"dataframe\">\n",
              "  <thead>\n",
              "    <tr style=\"text-align: right;\">\n",
              "      <th></th>\n",
              "      <th>0</th>\n",
              "      <th>1</th>\n",
              "    </tr>\n",
              "  </thead>\n",
              "  <tbody>\n",
              "    <tr>\n",
              "      <th>0</th>\n",
              "      <td>0</td>\n",
              "      <td>negative</td>\n",
              "    </tr>\n",
              "    <tr>\n",
              "      <th>1</th>\n",
              "      <td>1</td>\n",
              "      <td>neutral</td>\n",
              "    </tr>\n",
              "    <tr>\n",
              "      <th>2</th>\n",
              "      <td>2</td>\n",
              "      <td>positive</td>\n",
              "    </tr>\n",
              "  </tbody>\n",
              "</table>\n",
              "</div>\n",
              "    <div class=\"colab-df-buttons\">\n",
              "\n",
              "  <div class=\"colab-df-container\">\n",
              "    <button class=\"colab-df-convert\" onclick=\"convertToInteractive('df-0a0168a3-4f23-484c-8c85-41ca3a135f85')\"\n",
              "            title=\"Convert this dataframe to an interactive table.\"\n",
              "            style=\"display:none;\">\n",
              "\n",
              "  <svg xmlns=\"http://www.w3.org/2000/svg\" height=\"24px\" viewBox=\"0 -960 960 960\">\n",
              "    <path d=\"M120-120v-720h720v720H120Zm60-500h600v-160H180v160Zm220 220h160v-160H400v160Zm0 220h160v-160H400v160ZM180-400h160v-160H180v160Zm440 0h160v-160H620v160ZM180-180h160v-160H180v160Zm440 0h160v-160H620v160Z\"/>\n",
              "  </svg>\n",
              "    </button>\n",
              "\n",
              "  <style>\n",
              "    .colab-df-container {\n",
              "      display:flex;\n",
              "      gap: 12px;\n",
              "    }\n",
              "\n",
              "    .colab-df-convert {\n",
              "      background-color: #E8F0FE;\n",
              "      border: none;\n",
              "      border-radius: 50%;\n",
              "      cursor: pointer;\n",
              "      display: none;\n",
              "      fill: #1967D2;\n",
              "      height: 32px;\n",
              "      padding: 0 0 0 0;\n",
              "      width: 32px;\n",
              "    }\n",
              "\n",
              "    .colab-df-convert:hover {\n",
              "      background-color: #E2EBFA;\n",
              "      box-shadow: 0px 1px 2px rgba(60, 64, 67, 0.3), 0px 1px 3px 1px rgba(60, 64, 67, 0.15);\n",
              "      fill: #174EA6;\n",
              "    }\n",
              "\n",
              "    .colab-df-buttons div {\n",
              "      margin-bottom: 4px;\n",
              "    }\n",
              "\n",
              "    [theme=dark] .colab-df-convert {\n",
              "      background-color: #3B4455;\n",
              "      fill: #D2E3FC;\n",
              "    }\n",
              "\n",
              "    [theme=dark] .colab-df-convert:hover {\n",
              "      background-color: #434B5C;\n",
              "      box-shadow: 0px 1px 3px 1px rgba(0, 0, 0, 0.15);\n",
              "      filter: drop-shadow(0px 1px 2px rgba(0, 0, 0, 0.3));\n",
              "      fill: #FFFFFF;\n",
              "    }\n",
              "  </style>\n",
              "\n",
              "    <script>\n",
              "      const buttonEl =\n",
              "        document.querySelector('#df-0a0168a3-4f23-484c-8c85-41ca3a135f85 button.colab-df-convert');\n",
              "      buttonEl.style.display =\n",
              "        google.colab.kernel.accessAllowed ? 'block' : 'none';\n",
              "\n",
              "      async function convertToInteractive(key) {\n",
              "        const element = document.querySelector('#df-0a0168a3-4f23-484c-8c85-41ca3a135f85');\n",
              "        const dataTable =\n",
              "          await google.colab.kernel.invokeFunction('convertToInteractive',\n",
              "                                                    [key], {});\n",
              "        if (!dataTable) return;\n",
              "\n",
              "        const docLinkHtml = 'Like what you see? Visit the ' +\n",
              "          '<a target=\"_blank\" href=https://colab.research.google.com/notebooks/data_table.ipynb>data table notebook</a>'\n",
              "          + ' to learn more about interactive tables.';\n",
              "        element.innerHTML = '';\n",
              "        dataTable['output_type'] = 'display_data';\n",
              "        await google.colab.output.renderOutput(dataTable, element);\n",
              "        const docLink = document.createElement('div');\n",
              "        docLink.innerHTML = docLinkHtml;\n",
              "        element.appendChild(docLink);\n",
              "      }\n",
              "    </script>\n",
              "  </div>\n",
              "\n",
              "\n",
              "<div id=\"df-4b39dfa2-4b75-460a-93c7-868b83afd5da\">\n",
              "  <button class=\"colab-df-quickchart\" onclick=\"quickchart('df-4b39dfa2-4b75-460a-93c7-868b83afd5da')\"\n",
              "            title=\"Suggest charts\"\n",
              "            style=\"display:none;\">\n",
              "\n",
              "<svg xmlns=\"http://www.w3.org/2000/svg\" height=\"24px\"viewBox=\"0 0 24 24\"\n",
              "     width=\"24px\">\n",
              "    <g>\n",
              "        <path d=\"M19 3H5c-1.1 0-2 .9-2 2v14c0 1.1.9 2 2 2h14c1.1 0 2-.9 2-2V5c0-1.1-.9-2-2-2zM9 17H7v-7h2v7zm4 0h-2V7h2v10zm4 0h-2v-4h2v4z\"/>\n",
              "    </g>\n",
              "</svg>\n",
              "  </button>\n",
              "\n",
              "<style>\n",
              "  .colab-df-quickchart {\n",
              "      --bg-color: #E8F0FE;\n",
              "      --fill-color: #1967D2;\n",
              "      --hover-bg-color: #E2EBFA;\n",
              "      --hover-fill-color: #174EA6;\n",
              "      --disabled-fill-color: #AAA;\n",
              "      --disabled-bg-color: #DDD;\n",
              "  }\n",
              "\n",
              "  [theme=dark] .colab-df-quickchart {\n",
              "      --bg-color: #3B4455;\n",
              "      --fill-color: #D2E3FC;\n",
              "      --hover-bg-color: #434B5C;\n",
              "      --hover-fill-color: #FFFFFF;\n",
              "      --disabled-bg-color: #3B4455;\n",
              "      --disabled-fill-color: #666;\n",
              "  }\n",
              "\n",
              "  .colab-df-quickchart {\n",
              "    background-color: var(--bg-color);\n",
              "    border: none;\n",
              "    border-radius: 50%;\n",
              "    cursor: pointer;\n",
              "    display: none;\n",
              "    fill: var(--fill-color);\n",
              "    height: 32px;\n",
              "    padding: 0;\n",
              "    width: 32px;\n",
              "  }\n",
              "\n",
              "  .colab-df-quickchart:hover {\n",
              "    background-color: var(--hover-bg-color);\n",
              "    box-shadow: 0 1px 2px rgba(60, 64, 67, 0.3), 0 1px 3px 1px rgba(60, 64, 67, 0.15);\n",
              "    fill: var(--button-hover-fill-color);\n",
              "  }\n",
              "\n",
              "  .colab-df-quickchart-complete:disabled,\n",
              "  .colab-df-quickchart-complete:disabled:hover {\n",
              "    background-color: var(--disabled-bg-color);\n",
              "    fill: var(--disabled-fill-color);\n",
              "    box-shadow: none;\n",
              "  }\n",
              "\n",
              "  .colab-df-spinner {\n",
              "    border: 2px solid var(--fill-color);\n",
              "    border-color: transparent;\n",
              "    border-bottom-color: var(--fill-color);\n",
              "    animation:\n",
              "      spin 1s steps(1) infinite;\n",
              "  }\n",
              "\n",
              "  @keyframes spin {\n",
              "    0% {\n",
              "      border-color: transparent;\n",
              "      border-bottom-color: var(--fill-color);\n",
              "      border-left-color: var(--fill-color);\n",
              "    }\n",
              "    20% {\n",
              "      border-color: transparent;\n",
              "      border-left-color: var(--fill-color);\n",
              "      border-top-color: var(--fill-color);\n",
              "    }\n",
              "    30% {\n",
              "      border-color: transparent;\n",
              "      border-left-color: var(--fill-color);\n",
              "      border-top-color: var(--fill-color);\n",
              "      border-right-color: var(--fill-color);\n",
              "    }\n",
              "    40% {\n",
              "      border-color: transparent;\n",
              "      border-right-color: var(--fill-color);\n",
              "      border-top-color: var(--fill-color);\n",
              "    }\n",
              "    60% {\n",
              "      border-color: transparent;\n",
              "      border-right-color: var(--fill-color);\n",
              "    }\n",
              "    80% {\n",
              "      border-color: transparent;\n",
              "      border-right-color: var(--fill-color);\n",
              "      border-bottom-color: var(--fill-color);\n",
              "    }\n",
              "    90% {\n",
              "      border-color: transparent;\n",
              "      border-bottom-color: var(--fill-color);\n",
              "    }\n",
              "  }\n",
              "</style>\n",
              "\n",
              "  <script>\n",
              "    async function quickchart(key) {\n",
              "      const quickchartButtonEl =\n",
              "        document.querySelector('#' + key + ' button');\n",
              "      quickchartButtonEl.disabled = true;  // To prevent multiple clicks.\n",
              "      quickchartButtonEl.classList.add('colab-df-spinner');\n",
              "      try {\n",
              "        const charts = await google.colab.kernel.invokeFunction(\n",
              "            'suggestCharts', [key], {});\n",
              "      } catch (error) {\n",
              "        console.error('Error during call to suggestCharts:', error);\n",
              "      }\n",
              "      quickchartButtonEl.classList.remove('colab-df-spinner');\n",
              "      quickchartButtonEl.classList.add('colab-df-quickchart-complete');\n",
              "    }\n",
              "    (() => {\n",
              "      let quickchartButtonEl =\n",
              "        document.querySelector('#df-4b39dfa2-4b75-460a-93c7-868b83afd5da button');\n",
              "      quickchartButtonEl.style.display =\n",
              "        google.colab.kernel.accessAllowed ? 'block' : 'none';\n",
              "    })();\n",
              "  </script>\n",
              "</div>\n",
              "    </div>\n",
              "  </div>\n"
            ],
            "application/vnd.google.colaboratory.intrinsic+json": {
              "type": "dataframe",
              "variable_name": "mapping",
              "summary": "{\n  \"name\": \"mapping\",\n  \"rows\": 3,\n  \"fields\": [\n    {\n      \"column\": 0,\n      \"properties\": {\n        \"dtype\": \"number\",\n        \"std\": 1,\n        \"min\": 0,\n        \"max\": 2,\n        \"num_unique_values\": 3,\n        \"samples\": [\n          0,\n          1,\n          2\n        ],\n        \"semantic_type\": \"\",\n        \"description\": \"\"\n      }\n    },\n    {\n      \"column\": 1,\n      \"properties\": {\n        \"dtype\": \"string\",\n        \"num_unique_values\": 3,\n        \"samples\": [\n          \"negative\",\n          \"neutral\",\n          \"positive\"\n        ],\n        \"semantic_type\": \"\",\n        \"description\": \"\"\n      }\n    }\n  ]\n}"
            }
          },
          "metadata": {},
          "execution_count": 4
        }
      ],
      "source": [
        "mapping = pd.read_csv(\"/content/natural-language-processing/assignments/mapping.txt\",header= None, delimiter = \"\\t\")\n",
        "mapping.head()"
      ]
    },
    {
      "cell_type": "markdown",
      "id": "royal-collectible",
      "metadata": {
        "id": "royal-collectible"
      },
      "source": [
        "### 2- The different target for the train, test and validation"
      ]
    },
    {
      "cell_type": "code",
      "execution_count": 5,
      "id": "processed-wayne",
      "metadata": {
        "colab": {
          "base_uri": "https://localhost:8080/",
          "height": 206
        },
        "id": "processed-wayne",
        "outputId": "00338baa-d059-4ddf-e539-a93fba3fcfb3"
      },
      "outputs": [
        {
          "output_type": "execute_result",
          "data": {
            "text/plain": [
              "   0\n",
              "0  2\n",
              "1  1\n",
              "2  1\n",
              "3  1\n",
              "4  2"
            ],
            "text/html": [
              "\n",
              "  <div id=\"df-630e53a0-a726-45b7-ad4a-c62d3f31c276\" class=\"colab-df-container\">\n",
              "    <div>\n",
              "<style scoped>\n",
              "    .dataframe tbody tr th:only-of-type {\n",
              "        vertical-align: middle;\n",
              "    }\n",
              "\n",
              "    .dataframe tbody tr th {\n",
              "        vertical-align: top;\n",
              "    }\n",
              "\n",
              "    .dataframe thead th {\n",
              "        text-align: right;\n",
              "    }\n",
              "</style>\n",
              "<table border=\"1\" class=\"dataframe\">\n",
              "  <thead>\n",
              "    <tr style=\"text-align: right;\">\n",
              "      <th></th>\n",
              "      <th>0</th>\n",
              "    </tr>\n",
              "  </thead>\n",
              "  <tbody>\n",
              "    <tr>\n",
              "      <th>0</th>\n",
              "      <td>2</td>\n",
              "    </tr>\n",
              "    <tr>\n",
              "      <th>1</th>\n",
              "      <td>1</td>\n",
              "    </tr>\n",
              "    <tr>\n",
              "      <th>2</th>\n",
              "      <td>1</td>\n",
              "    </tr>\n",
              "    <tr>\n",
              "      <th>3</th>\n",
              "      <td>1</td>\n",
              "    </tr>\n",
              "    <tr>\n",
              "      <th>4</th>\n",
              "      <td>2</td>\n",
              "    </tr>\n",
              "  </tbody>\n",
              "</table>\n",
              "</div>\n",
              "    <div class=\"colab-df-buttons\">\n",
              "\n",
              "  <div class=\"colab-df-container\">\n",
              "    <button class=\"colab-df-convert\" onclick=\"convertToInteractive('df-630e53a0-a726-45b7-ad4a-c62d3f31c276')\"\n",
              "            title=\"Convert this dataframe to an interactive table.\"\n",
              "            style=\"display:none;\">\n",
              "\n",
              "  <svg xmlns=\"http://www.w3.org/2000/svg\" height=\"24px\" viewBox=\"0 -960 960 960\">\n",
              "    <path d=\"M120-120v-720h720v720H120Zm60-500h600v-160H180v160Zm220 220h160v-160H400v160Zm0 220h160v-160H400v160ZM180-400h160v-160H180v160Zm440 0h160v-160H620v160ZM180-180h160v-160H180v160Zm440 0h160v-160H620v160Z\"/>\n",
              "  </svg>\n",
              "    </button>\n",
              "\n",
              "  <style>\n",
              "    .colab-df-container {\n",
              "      display:flex;\n",
              "      gap: 12px;\n",
              "    }\n",
              "\n",
              "    .colab-df-convert {\n",
              "      background-color: #E8F0FE;\n",
              "      border: none;\n",
              "      border-radius: 50%;\n",
              "      cursor: pointer;\n",
              "      display: none;\n",
              "      fill: #1967D2;\n",
              "      height: 32px;\n",
              "      padding: 0 0 0 0;\n",
              "      width: 32px;\n",
              "    }\n",
              "\n",
              "    .colab-df-convert:hover {\n",
              "      background-color: #E2EBFA;\n",
              "      box-shadow: 0px 1px 2px rgba(60, 64, 67, 0.3), 0px 1px 3px 1px rgba(60, 64, 67, 0.15);\n",
              "      fill: #174EA6;\n",
              "    }\n",
              "\n",
              "    .colab-df-buttons div {\n",
              "      margin-bottom: 4px;\n",
              "    }\n",
              "\n",
              "    [theme=dark] .colab-df-convert {\n",
              "      background-color: #3B4455;\n",
              "      fill: #D2E3FC;\n",
              "    }\n",
              "\n",
              "    [theme=dark] .colab-df-convert:hover {\n",
              "      background-color: #434B5C;\n",
              "      box-shadow: 0px 1px 3px 1px rgba(0, 0, 0, 0.15);\n",
              "      filter: drop-shadow(0px 1px 2px rgba(0, 0, 0, 0.3));\n",
              "      fill: #FFFFFF;\n",
              "    }\n",
              "  </style>\n",
              "\n",
              "    <script>\n",
              "      const buttonEl =\n",
              "        document.querySelector('#df-630e53a0-a726-45b7-ad4a-c62d3f31c276 button.colab-df-convert');\n",
              "      buttonEl.style.display =\n",
              "        google.colab.kernel.accessAllowed ? 'block' : 'none';\n",
              "\n",
              "      async function convertToInteractive(key) {\n",
              "        const element = document.querySelector('#df-630e53a0-a726-45b7-ad4a-c62d3f31c276');\n",
              "        const dataTable =\n",
              "          await google.colab.kernel.invokeFunction('convertToInteractive',\n",
              "                                                    [key], {});\n",
              "        if (!dataTable) return;\n",
              "\n",
              "        const docLinkHtml = 'Like what you see? Visit the ' +\n",
              "          '<a target=\"_blank\" href=https://colab.research.google.com/notebooks/data_table.ipynb>data table notebook</a>'\n",
              "          + ' to learn more about interactive tables.';\n",
              "        element.innerHTML = '';\n",
              "        dataTable['output_type'] = 'display_data';\n",
              "        await google.colab.output.renderOutput(dataTable, element);\n",
              "        const docLink = document.createElement('div');\n",
              "        docLink.innerHTML = docLinkHtml;\n",
              "        element.appendChild(docLink);\n",
              "      }\n",
              "    </script>\n",
              "  </div>\n",
              "\n",
              "\n",
              "<div id=\"df-d6c4337b-e656-4281-81cc-2ee84be48bbb\">\n",
              "  <button class=\"colab-df-quickchart\" onclick=\"quickchart('df-d6c4337b-e656-4281-81cc-2ee84be48bbb')\"\n",
              "            title=\"Suggest charts\"\n",
              "            style=\"display:none;\">\n",
              "\n",
              "<svg xmlns=\"http://www.w3.org/2000/svg\" height=\"24px\"viewBox=\"0 0 24 24\"\n",
              "     width=\"24px\">\n",
              "    <g>\n",
              "        <path d=\"M19 3H5c-1.1 0-2 .9-2 2v14c0 1.1.9 2 2 2h14c1.1 0 2-.9 2-2V5c0-1.1-.9-2-2-2zM9 17H7v-7h2v7zm4 0h-2V7h2v10zm4 0h-2v-4h2v4z\"/>\n",
              "    </g>\n",
              "</svg>\n",
              "  </button>\n",
              "\n",
              "<style>\n",
              "  .colab-df-quickchart {\n",
              "      --bg-color: #E8F0FE;\n",
              "      --fill-color: #1967D2;\n",
              "      --hover-bg-color: #E2EBFA;\n",
              "      --hover-fill-color: #174EA6;\n",
              "      --disabled-fill-color: #AAA;\n",
              "      --disabled-bg-color: #DDD;\n",
              "  }\n",
              "\n",
              "  [theme=dark] .colab-df-quickchart {\n",
              "      --bg-color: #3B4455;\n",
              "      --fill-color: #D2E3FC;\n",
              "      --hover-bg-color: #434B5C;\n",
              "      --hover-fill-color: #FFFFFF;\n",
              "      --disabled-bg-color: #3B4455;\n",
              "      --disabled-fill-color: #666;\n",
              "  }\n",
              "\n",
              "  .colab-df-quickchart {\n",
              "    background-color: var(--bg-color);\n",
              "    border: none;\n",
              "    border-radius: 50%;\n",
              "    cursor: pointer;\n",
              "    display: none;\n",
              "    fill: var(--fill-color);\n",
              "    height: 32px;\n",
              "    padding: 0;\n",
              "    width: 32px;\n",
              "  }\n",
              "\n",
              "  .colab-df-quickchart:hover {\n",
              "    background-color: var(--hover-bg-color);\n",
              "    box-shadow: 0 1px 2px rgba(60, 64, 67, 0.3), 0 1px 3px 1px rgba(60, 64, 67, 0.15);\n",
              "    fill: var(--button-hover-fill-color);\n",
              "  }\n",
              "\n",
              "  .colab-df-quickchart-complete:disabled,\n",
              "  .colab-df-quickchart-complete:disabled:hover {\n",
              "    background-color: var(--disabled-bg-color);\n",
              "    fill: var(--disabled-fill-color);\n",
              "    box-shadow: none;\n",
              "  }\n",
              "\n",
              "  .colab-df-spinner {\n",
              "    border: 2px solid var(--fill-color);\n",
              "    border-color: transparent;\n",
              "    border-bottom-color: var(--fill-color);\n",
              "    animation:\n",
              "      spin 1s steps(1) infinite;\n",
              "  }\n",
              "\n",
              "  @keyframes spin {\n",
              "    0% {\n",
              "      border-color: transparent;\n",
              "      border-bottom-color: var(--fill-color);\n",
              "      border-left-color: var(--fill-color);\n",
              "    }\n",
              "    20% {\n",
              "      border-color: transparent;\n",
              "      border-left-color: var(--fill-color);\n",
              "      border-top-color: var(--fill-color);\n",
              "    }\n",
              "    30% {\n",
              "      border-color: transparent;\n",
              "      border-left-color: var(--fill-color);\n",
              "      border-top-color: var(--fill-color);\n",
              "      border-right-color: var(--fill-color);\n",
              "    }\n",
              "    40% {\n",
              "      border-color: transparent;\n",
              "      border-right-color: var(--fill-color);\n",
              "      border-top-color: var(--fill-color);\n",
              "    }\n",
              "    60% {\n",
              "      border-color: transparent;\n",
              "      border-right-color: var(--fill-color);\n",
              "    }\n",
              "    80% {\n",
              "      border-color: transparent;\n",
              "      border-right-color: var(--fill-color);\n",
              "      border-bottom-color: var(--fill-color);\n",
              "    }\n",
              "    90% {\n",
              "      border-color: transparent;\n",
              "      border-bottom-color: var(--fill-color);\n",
              "    }\n",
              "  }\n",
              "</style>\n",
              "\n",
              "  <script>\n",
              "    async function quickchart(key) {\n",
              "      const quickchartButtonEl =\n",
              "        document.querySelector('#' + key + ' button');\n",
              "      quickchartButtonEl.disabled = true;  // To prevent multiple clicks.\n",
              "      quickchartButtonEl.classList.add('colab-df-spinner');\n",
              "      try {\n",
              "        const charts = await google.colab.kernel.invokeFunction(\n",
              "            'suggestCharts', [key], {});\n",
              "      } catch (error) {\n",
              "        console.error('Error during call to suggestCharts:', error);\n",
              "      }\n",
              "      quickchartButtonEl.classList.remove('colab-df-spinner');\n",
              "      quickchartButtonEl.classList.add('colab-df-quickchart-complete');\n",
              "    }\n",
              "    (() => {\n",
              "      let quickchartButtonEl =\n",
              "        document.querySelector('#df-d6c4337b-e656-4281-81cc-2ee84be48bbb button');\n",
              "      quickchartButtonEl.style.display =\n",
              "        google.colab.kernel.accessAllowed ? 'block' : 'none';\n",
              "    })();\n",
              "  </script>\n",
              "</div>\n",
              "    </div>\n",
              "  </div>\n"
            ],
            "application/vnd.google.colaboratory.intrinsic+json": {
              "type": "dataframe",
              "variable_name": "Y_train",
              "summary": "{\n  \"name\": \"Y_train\",\n  \"rows\": 45615,\n  \"fields\": [\n    {\n      \"column\": 0,\n      \"properties\": {\n        \"dtype\": \"number\",\n        \"std\": 0,\n        \"min\": 0,\n        \"max\": 2,\n        \"num_unique_values\": 3,\n        \"samples\": [\n          2,\n          1,\n          0\n        ],\n        \"semantic_type\": \"\",\n        \"description\": \"\"\n      }\n    }\n  ]\n}"
            }
          },
          "metadata": {},
          "execution_count": 5
        }
      ],
      "source": [
        "Y_train = pd.read_csv(\"/content/natural-language-processing/assignments/train_labels.txt\", header = None)\n",
        "Y_train.head()"
      ]
    },
    {
      "cell_type": "code",
      "execution_count": 6,
      "id": "central-ethiopia",
      "metadata": {
        "colab": {
          "base_uri": "https://localhost:8080/",
          "height": 206
        },
        "id": "central-ethiopia",
        "outputId": "09ef478c-d9a5-49ae-c66b-222de6e8d16f"
      },
      "outputs": [
        {
          "output_type": "execute_result",
          "data": {
            "text/plain": [
              "   0\n",
              "0  1\n",
              "1  1\n",
              "2  1\n",
              "3  2\n",
              "4  0"
            ],
            "text/html": [
              "\n",
              "  <div id=\"df-e6b1a286-e645-46cf-8f55-aaa69b2ea300\" class=\"colab-df-container\">\n",
              "    <div>\n",
              "<style scoped>\n",
              "    .dataframe tbody tr th:only-of-type {\n",
              "        vertical-align: middle;\n",
              "    }\n",
              "\n",
              "    .dataframe tbody tr th {\n",
              "        vertical-align: top;\n",
              "    }\n",
              "\n",
              "    .dataframe thead th {\n",
              "        text-align: right;\n",
              "    }\n",
              "</style>\n",
              "<table border=\"1\" class=\"dataframe\">\n",
              "  <thead>\n",
              "    <tr style=\"text-align: right;\">\n",
              "      <th></th>\n",
              "      <th>0</th>\n",
              "    </tr>\n",
              "  </thead>\n",
              "  <tbody>\n",
              "    <tr>\n",
              "      <th>0</th>\n",
              "      <td>1</td>\n",
              "    </tr>\n",
              "    <tr>\n",
              "      <th>1</th>\n",
              "      <td>1</td>\n",
              "    </tr>\n",
              "    <tr>\n",
              "      <th>2</th>\n",
              "      <td>1</td>\n",
              "    </tr>\n",
              "    <tr>\n",
              "      <th>3</th>\n",
              "      <td>2</td>\n",
              "    </tr>\n",
              "    <tr>\n",
              "      <th>4</th>\n",
              "      <td>0</td>\n",
              "    </tr>\n",
              "  </tbody>\n",
              "</table>\n",
              "</div>\n",
              "    <div class=\"colab-df-buttons\">\n",
              "\n",
              "  <div class=\"colab-df-container\">\n",
              "    <button class=\"colab-df-convert\" onclick=\"convertToInteractive('df-e6b1a286-e645-46cf-8f55-aaa69b2ea300')\"\n",
              "            title=\"Convert this dataframe to an interactive table.\"\n",
              "            style=\"display:none;\">\n",
              "\n",
              "  <svg xmlns=\"http://www.w3.org/2000/svg\" height=\"24px\" viewBox=\"0 -960 960 960\">\n",
              "    <path d=\"M120-120v-720h720v720H120Zm60-500h600v-160H180v160Zm220 220h160v-160H400v160Zm0 220h160v-160H400v160ZM180-400h160v-160H180v160Zm440 0h160v-160H620v160ZM180-180h160v-160H180v160Zm440 0h160v-160H620v160Z\"/>\n",
              "  </svg>\n",
              "    </button>\n",
              "\n",
              "  <style>\n",
              "    .colab-df-container {\n",
              "      display:flex;\n",
              "      gap: 12px;\n",
              "    }\n",
              "\n",
              "    .colab-df-convert {\n",
              "      background-color: #E8F0FE;\n",
              "      border: none;\n",
              "      border-radius: 50%;\n",
              "      cursor: pointer;\n",
              "      display: none;\n",
              "      fill: #1967D2;\n",
              "      height: 32px;\n",
              "      padding: 0 0 0 0;\n",
              "      width: 32px;\n",
              "    }\n",
              "\n",
              "    .colab-df-convert:hover {\n",
              "      background-color: #E2EBFA;\n",
              "      box-shadow: 0px 1px 2px rgba(60, 64, 67, 0.3), 0px 1px 3px 1px rgba(60, 64, 67, 0.15);\n",
              "      fill: #174EA6;\n",
              "    }\n",
              "\n",
              "    .colab-df-buttons div {\n",
              "      margin-bottom: 4px;\n",
              "    }\n",
              "\n",
              "    [theme=dark] .colab-df-convert {\n",
              "      background-color: #3B4455;\n",
              "      fill: #D2E3FC;\n",
              "    }\n",
              "\n",
              "    [theme=dark] .colab-df-convert:hover {\n",
              "      background-color: #434B5C;\n",
              "      box-shadow: 0px 1px 3px 1px rgba(0, 0, 0, 0.15);\n",
              "      filter: drop-shadow(0px 1px 2px rgba(0, 0, 0, 0.3));\n",
              "      fill: #FFFFFF;\n",
              "    }\n",
              "  </style>\n",
              "\n",
              "    <script>\n",
              "      const buttonEl =\n",
              "        document.querySelector('#df-e6b1a286-e645-46cf-8f55-aaa69b2ea300 button.colab-df-convert');\n",
              "      buttonEl.style.display =\n",
              "        google.colab.kernel.accessAllowed ? 'block' : 'none';\n",
              "\n",
              "      async function convertToInteractive(key) {\n",
              "        const element = document.querySelector('#df-e6b1a286-e645-46cf-8f55-aaa69b2ea300');\n",
              "        const dataTable =\n",
              "          await google.colab.kernel.invokeFunction('convertToInteractive',\n",
              "                                                    [key], {});\n",
              "        if (!dataTable) return;\n",
              "\n",
              "        const docLinkHtml = 'Like what you see? Visit the ' +\n",
              "          '<a target=\"_blank\" href=https://colab.research.google.com/notebooks/data_table.ipynb>data table notebook</a>'\n",
              "          + ' to learn more about interactive tables.';\n",
              "        element.innerHTML = '';\n",
              "        dataTable['output_type'] = 'display_data';\n",
              "        await google.colab.output.renderOutput(dataTable, element);\n",
              "        const docLink = document.createElement('div');\n",
              "        docLink.innerHTML = docLinkHtml;\n",
              "        element.appendChild(docLink);\n",
              "      }\n",
              "    </script>\n",
              "  </div>\n",
              "\n",
              "\n",
              "<div id=\"df-0ceddfdf-da7a-4497-854b-eec86e11defc\">\n",
              "  <button class=\"colab-df-quickchart\" onclick=\"quickchart('df-0ceddfdf-da7a-4497-854b-eec86e11defc')\"\n",
              "            title=\"Suggest charts\"\n",
              "            style=\"display:none;\">\n",
              "\n",
              "<svg xmlns=\"http://www.w3.org/2000/svg\" height=\"24px\"viewBox=\"0 0 24 24\"\n",
              "     width=\"24px\">\n",
              "    <g>\n",
              "        <path d=\"M19 3H5c-1.1 0-2 .9-2 2v14c0 1.1.9 2 2 2h14c1.1 0 2-.9 2-2V5c0-1.1-.9-2-2-2zM9 17H7v-7h2v7zm4 0h-2V7h2v10zm4 0h-2v-4h2v4z\"/>\n",
              "    </g>\n",
              "</svg>\n",
              "  </button>\n",
              "\n",
              "<style>\n",
              "  .colab-df-quickchart {\n",
              "      --bg-color: #E8F0FE;\n",
              "      --fill-color: #1967D2;\n",
              "      --hover-bg-color: #E2EBFA;\n",
              "      --hover-fill-color: #174EA6;\n",
              "      --disabled-fill-color: #AAA;\n",
              "      --disabled-bg-color: #DDD;\n",
              "  }\n",
              "\n",
              "  [theme=dark] .colab-df-quickchart {\n",
              "      --bg-color: #3B4455;\n",
              "      --fill-color: #D2E3FC;\n",
              "      --hover-bg-color: #434B5C;\n",
              "      --hover-fill-color: #FFFFFF;\n",
              "      --disabled-bg-color: #3B4455;\n",
              "      --disabled-fill-color: #666;\n",
              "  }\n",
              "\n",
              "  .colab-df-quickchart {\n",
              "    background-color: var(--bg-color);\n",
              "    border: none;\n",
              "    border-radius: 50%;\n",
              "    cursor: pointer;\n",
              "    display: none;\n",
              "    fill: var(--fill-color);\n",
              "    height: 32px;\n",
              "    padding: 0;\n",
              "    width: 32px;\n",
              "  }\n",
              "\n",
              "  .colab-df-quickchart:hover {\n",
              "    background-color: var(--hover-bg-color);\n",
              "    box-shadow: 0 1px 2px rgba(60, 64, 67, 0.3), 0 1px 3px 1px rgba(60, 64, 67, 0.15);\n",
              "    fill: var(--button-hover-fill-color);\n",
              "  }\n",
              "\n",
              "  .colab-df-quickchart-complete:disabled,\n",
              "  .colab-df-quickchart-complete:disabled:hover {\n",
              "    background-color: var(--disabled-bg-color);\n",
              "    fill: var(--disabled-fill-color);\n",
              "    box-shadow: none;\n",
              "  }\n",
              "\n",
              "  .colab-df-spinner {\n",
              "    border: 2px solid var(--fill-color);\n",
              "    border-color: transparent;\n",
              "    border-bottom-color: var(--fill-color);\n",
              "    animation:\n",
              "      spin 1s steps(1) infinite;\n",
              "  }\n",
              "\n",
              "  @keyframes spin {\n",
              "    0% {\n",
              "      border-color: transparent;\n",
              "      border-bottom-color: var(--fill-color);\n",
              "      border-left-color: var(--fill-color);\n",
              "    }\n",
              "    20% {\n",
              "      border-color: transparent;\n",
              "      border-left-color: var(--fill-color);\n",
              "      border-top-color: var(--fill-color);\n",
              "    }\n",
              "    30% {\n",
              "      border-color: transparent;\n",
              "      border-left-color: var(--fill-color);\n",
              "      border-top-color: var(--fill-color);\n",
              "      border-right-color: var(--fill-color);\n",
              "    }\n",
              "    40% {\n",
              "      border-color: transparent;\n",
              "      border-right-color: var(--fill-color);\n",
              "      border-top-color: var(--fill-color);\n",
              "    }\n",
              "    60% {\n",
              "      border-color: transparent;\n",
              "      border-right-color: var(--fill-color);\n",
              "    }\n",
              "    80% {\n",
              "      border-color: transparent;\n",
              "      border-right-color: var(--fill-color);\n",
              "      border-bottom-color: var(--fill-color);\n",
              "    }\n",
              "    90% {\n",
              "      border-color: transparent;\n",
              "      border-bottom-color: var(--fill-color);\n",
              "    }\n",
              "  }\n",
              "</style>\n",
              "\n",
              "  <script>\n",
              "    async function quickchart(key) {\n",
              "      const quickchartButtonEl =\n",
              "        document.querySelector('#' + key + ' button');\n",
              "      quickchartButtonEl.disabled = true;  // To prevent multiple clicks.\n",
              "      quickchartButtonEl.classList.add('colab-df-spinner');\n",
              "      try {\n",
              "        const charts = await google.colab.kernel.invokeFunction(\n",
              "            'suggestCharts', [key], {});\n",
              "      } catch (error) {\n",
              "        console.error('Error during call to suggestCharts:', error);\n",
              "      }\n",
              "      quickchartButtonEl.classList.remove('colab-df-spinner');\n",
              "      quickchartButtonEl.classList.add('colab-df-quickchart-complete');\n",
              "    }\n",
              "    (() => {\n",
              "      let quickchartButtonEl =\n",
              "        document.querySelector('#df-0ceddfdf-da7a-4497-854b-eec86e11defc button');\n",
              "      quickchartButtonEl.style.display =\n",
              "        google.colab.kernel.accessAllowed ? 'block' : 'none';\n",
              "    })();\n",
              "  </script>\n",
              "</div>\n",
              "    </div>\n",
              "  </div>\n"
            ],
            "application/vnd.google.colaboratory.intrinsic+json": {
              "type": "dataframe",
              "variable_name": "Y_test",
              "summary": "{\n  \"name\": \"Y_test\",\n  \"rows\": 12284,\n  \"fields\": [\n    {\n      \"column\": 0,\n      \"properties\": {\n        \"dtype\": \"number\",\n        \"std\": 0,\n        \"min\": 0,\n        \"max\": 2,\n        \"num_unique_values\": 3,\n        \"samples\": [\n          1,\n          2,\n          0\n        ],\n        \"semantic_type\": \"\",\n        \"description\": \"\"\n      }\n    }\n  ]\n}"
            }
          },
          "metadata": {},
          "execution_count": 6
        }
      ],
      "source": [
        "Y_test = pd.read_csv(\"/content/natural-language-processing/assignments/test_labels.txt\", header= None)\n",
        "Y_test.head()"
      ]
    },
    {
      "cell_type": "code",
      "execution_count": 7,
      "id": "exceptional-caribbean",
      "metadata": {
        "colab": {
          "base_uri": "https://localhost:8080/",
          "height": 206
        },
        "id": "exceptional-caribbean",
        "outputId": "286e3dae-d47d-4ba8-9ee5-3fbb2623eca2"
      },
      "outputs": [
        {
          "output_type": "execute_result",
          "data": {
            "text/plain": [
              "   0\n",
              "0  1\n",
              "1  2\n",
              "2  0\n",
              "3  1\n",
              "4  1"
            ],
            "text/html": [
              "\n",
              "  <div id=\"df-3afab81e-8d47-4704-95d5-a4ca369b1ab4\" class=\"colab-df-container\">\n",
              "    <div>\n",
              "<style scoped>\n",
              "    .dataframe tbody tr th:only-of-type {\n",
              "        vertical-align: middle;\n",
              "    }\n",
              "\n",
              "    .dataframe tbody tr th {\n",
              "        vertical-align: top;\n",
              "    }\n",
              "\n",
              "    .dataframe thead th {\n",
              "        text-align: right;\n",
              "    }\n",
              "</style>\n",
              "<table border=\"1\" class=\"dataframe\">\n",
              "  <thead>\n",
              "    <tr style=\"text-align: right;\">\n",
              "      <th></th>\n",
              "      <th>0</th>\n",
              "    </tr>\n",
              "  </thead>\n",
              "  <tbody>\n",
              "    <tr>\n",
              "      <th>0</th>\n",
              "      <td>1</td>\n",
              "    </tr>\n",
              "    <tr>\n",
              "      <th>1</th>\n",
              "      <td>2</td>\n",
              "    </tr>\n",
              "    <tr>\n",
              "      <th>2</th>\n",
              "      <td>0</td>\n",
              "    </tr>\n",
              "    <tr>\n",
              "      <th>3</th>\n",
              "      <td>1</td>\n",
              "    </tr>\n",
              "    <tr>\n",
              "      <th>4</th>\n",
              "      <td>1</td>\n",
              "    </tr>\n",
              "  </tbody>\n",
              "</table>\n",
              "</div>\n",
              "    <div class=\"colab-df-buttons\">\n",
              "\n",
              "  <div class=\"colab-df-container\">\n",
              "    <button class=\"colab-df-convert\" onclick=\"convertToInteractive('df-3afab81e-8d47-4704-95d5-a4ca369b1ab4')\"\n",
              "            title=\"Convert this dataframe to an interactive table.\"\n",
              "            style=\"display:none;\">\n",
              "\n",
              "  <svg xmlns=\"http://www.w3.org/2000/svg\" height=\"24px\" viewBox=\"0 -960 960 960\">\n",
              "    <path d=\"M120-120v-720h720v720H120Zm60-500h600v-160H180v160Zm220 220h160v-160H400v160Zm0 220h160v-160H400v160ZM180-400h160v-160H180v160Zm440 0h160v-160H620v160ZM180-180h160v-160H180v160Zm440 0h160v-160H620v160Z\"/>\n",
              "  </svg>\n",
              "    </button>\n",
              "\n",
              "  <style>\n",
              "    .colab-df-container {\n",
              "      display:flex;\n",
              "      gap: 12px;\n",
              "    }\n",
              "\n",
              "    .colab-df-convert {\n",
              "      background-color: #E8F0FE;\n",
              "      border: none;\n",
              "      border-radius: 50%;\n",
              "      cursor: pointer;\n",
              "      display: none;\n",
              "      fill: #1967D2;\n",
              "      height: 32px;\n",
              "      padding: 0 0 0 0;\n",
              "      width: 32px;\n",
              "    }\n",
              "\n",
              "    .colab-df-convert:hover {\n",
              "      background-color: #E2EBFA;\n",
              "      box-shadow: 0px 1px 2px rgba(60, 64, 67, 0.3), 0px 1px 3px 1px rgba(60, 64, 67, 0.15);\n",
              "      fill: #174EA6;\n",
              "    }\n",
              "\n",
              "    .colab-df-buttons div {\n",
              "      margin-bottom: 4px;\n",
              "    }\n",
              "\n",
              "    [theme=dark] .colab-df-convert {\n",
              "      background-color: #3B4455;\n",
              "      fill: #D2E3FC;\n",
              "    }\n",
              "\n",
              "    [theme=dark] .colab-df-convert:hover {\n",
              "      background-color: #434B5C;\n",
              "      box-shadow: 0px 1px 3px 1px rgba(0, 0, 0, 0.15);\n",
              "      filter: drop-shadow(0px 1px 2px rgba(0, 0, 0, 0.3));\n",
              "      fill: #FFFFFF;\n",
              "    }\n",
              "  </style>\n",
              "\n",
              "    <script>\n",
              "      const buttonEl =\n",
              "        document.querySelector('#df-3afab81e-8d47-4704-95d5-a4ca369b1ab4 button.colab-df-convert');\n",
              "      buttonEl.style.display =\n",
              "        google.colab.kernel.accessAllowed ? 'block' : 'none';\n",
              "\n",
              "      async function convertToInteractive(key) {\n",
              "        const element = document.querySelector('#df-3afab81e-8d47-4704-95d5-a4ca369b1ab4');\n",
              "        const dataTable =\n",
              "          await google.colab.kernel.invokeFunction('convertToInteractive',\n",
              "                                                    [key], {});\n",
              "        if (!dataTable) return;\n",
              "\n",
              "        const docLinkHtml = 'Like what you see? Visit the ' +\n",
              "          '<a target=\"_blank\" href=https://colab.research.google.com/notebooks/data_table.ipynb>data table notebook</a>'\n",
              "          + ' to learn more about interactive tables.';\n",
              "        element.innerHTML = '';\n",
              "        dataTable['output_type'] = 'display_data';\n",
              "        await google.colab.output.renderOutput(dataTable, element);\n",
              "        const docLink = document.createElement('div');\n",
              "        docLink.innerHTML = docLinkHtml;\n",
              "        element.appendChild(docLink);\n",
              "      }\n",
              "    </script>\n",
              "  </div>\n",
              "\n",
              "\n",
              "<div id=\"df-7bcb435d-f0d5-4a1b-b0d1-f5265f921a34\">\n",
              "  <button class=\"colab-df-quickchart\" onclick=\"quickchart('df-7bcb435d-f0d5-4a1b-b0d1-f5265f921a34')\"\n",
              "            title=\"Suggest charts\"\n",
              "            style=\"display:none;\">\n",
              "\n",
              "<svg xmlns=\"http://www.w3.org/2000/svg\" height=\"24px\"viewBox=\"0 0 24 24\"\n",
              "     width=\"24px\">\n",
              "    <g>\n",
              "        <path d=\"M19 3H5c-1.1 0-2 .9-2 2v14c0 1.1.9 2 2 2h14c1.1 0 2-.9 2-2V5c0-1.1-.9-2-2-2zM9 17H7v-7h2v7zm4 0h-2V7h2v10zm4 0h-2v-4h2v4z\"/>\n",
              "    </g>\n",
              "</svg>\n",
              "  </button>\n",
              "\n",
              "<style>\n",
              "  .colab-df-quickchart {\n",
              "      --bg-color: #E8F0FE;\n",
              "      --fill-color: #1967D2;\n",
              "      --hover-bg-color: #E2EBFA;\n",
              "      --hover-fill-color: #174EA6;\n",
              "      --disabled-fill-color: #AAA;\n",
              "      --disabled-bg-color: #DDD;\n",
              "  }\n",
              "\n",
              "  [theme=dark] .colab-df-quickchart {\n",
              "      --bg-color: #3B4455;\n",
              "      --fill-color: #D2E3FC;\n",
              "      --hover-bg-color: #434B5C;\n",
              "      --hover-fill-color: #FFFFFF;\n",
              "      --disabled-bg-color: #3B4455;\n",
              "      --disabled-fill-color: #666;\n",
              "  }\n",
              "\n",
              "  .colab-df-quickchart {\n",
              "    background-color: var(--bg-color);\n",
              "    border: none;\n",
              "    border-radius: 50%;\n",
              "    cursor: pointer;\n",
              "    display: none;\n",
              "    fill: var(--fill-color);\n",
              "    height: 32px;\n",
              "    padding: 0;\n",
              "    width: 32px;\n",
              "  }\n",
              "\n",
              "  .colab-df-quickchart:hover {\n",
              "    background-color: var(--hover-bg-color);\n",
              "    box-shadow: 0 1px 2px rgba(60, 64, 67, 0.3), 0 1px 3px 1px rgba(60, 64, 67, 0.15);\n",
              "    fill: var(--button-hover-fill-color);\n",
              "  }\n",
              "\n",
              "  .colab-df-quickchart-complete:disabled,\n",
              "  .colab-df-quickchart-complete:disabled:hover {\n",
              "    background-color: var(--disabled-bg-color);\n",
              "    fill: var(--disabled-fill-color);\n",
              "    box-shadow: none;\n",
              "  }\n",
              "\n",
              "  .colab-df-spinner {\n",
              "    border: 2px solid var(--fill-color);\n",
              "    border-color: transparent;\n",
              "    border-bottom-color: var(--fill-color);\n",
              "    animation:\n",
              "      spin 1s steps(1) infinite;\n",
              "  }\n",
              "\n",
              "  @keyframes spin {\n",
              "    0% {\n",
              "      border-color: transparent;\n",
              "      border-bottom-color: var(--fill-color);\n",
              "      border-left-color: var(--fill-color);\n",
              "    }\n",
              "    20% {\n",
              "      border-color: transparent;\n",
              "      border-left-color: var(--fill-color);\n",
              "      border-top-color: var(--fill-color);\n",
              "    }\n",
              "    30% {\n",
              "      border-color: transparent;\n",
              "      border-left-color: var(--fill-color);\n",
              "      border-top-color: var(--fill-color);\n",
              "      border-right-color: var(--fill-color);\n",
              "    }\n",
              "    40% {\n",
              "      border-color: transparent;\n",
              "      border-right-color: var(--fill-color);\n",
              "      border-top-color: var(--fill-color);\n",
              "    }\n",
              "    60% {\n",
              "      border-color: transparent;\n",
              "      border-right-color: var(--fill-color);\n",
              "    }\n",
              "    80% {\n",
              "      border-color: transparent;\n",
              "      border-right-color: var(--fill-color);\n",
              "      border-bottom-color: var(--fill-color);\n",
              "    }\n",
              "    90% {\n",
              "      border-color: transparent;\n",
              "      border-bottom-color: var(--fill-color);\n",
              "    }\n",
              "  }\n",
              "</style>\n",
              "\n",
              "  <script>\n",
              "    async function quickchart(key) {\n",
              "      const quickchartButtonEl =\n",
              "        document.querySelector('#' + key + ' button');\n",
              "      quickchartButtonEl.disabled = true;  // To prevent multiple clicks.\n",
              "      quickchartButtonEl.classList.add('colab-df-spinner');\n",
              "      try {\n",
              "        const charts = await google.colab.kernel.invokeFunction(\n",
              "            'suggestCharts', [key], {});\n",
              "      } catch (error) {\n",
              "        console.error('Error during call to suggestCharts:', error);\n",
              "      }\n",
              "      quickchartButtonEl.classList.remove('colab-df-spinner');\n",
              "      quickchartButtonEl.classList.add('colab-df-quickchart-complete');\n",
              "    }\n",
              "    (() => {\n",
              "      let quickchartButtonEl =\n",
              "        document.querySelector('#df-7bcb435d-f0d5-4a1b-b0d1-f5265f921a34 button');\n",
              "      quickchartButtonEl.style.display =\n",
              "        google.colab.kernel.accessAllowed ? 'block' : 'none';\n",
              "    })();\n",
              "  </script>\n",
              "</div>\n",
              "    </div>\n",
              "  </div>\n"
            ],
            "application/vnd.google.colaboratory.intrinsic+json": {
              "type": "dataframe",
              "variable_name": "Y_val",
              "summary": "{\n  \"name\": \"Y_val\",\n  \"rows\": 2000,\n  \"fields\": [\n    {\n      \"column\": 0,\n      \"properties\": {\n        \"dtype\": \"number\",\n        \"std\": 0,\n        \"min\": 0,\n        \"max\": 2,\n        \"num_unique_values\": 3,\n        \"samples\": [\n          1,\n          2,\n          0\n        ],\n        \"semantic_type\": \"\",\n        \"description\": \"\"\n      }\n    }\n  ]\n}"
            }
          },
          "metadata": {},
          "execution_count": 7
        }
      ],
      "source": [
        "Y_val = pd.read_csv(\"/content/natural-language-processing/assignments/val_labels.txt\", header= None)\n",
        "Y_val.head()"
      ]
    },
    {
      "cell_type": "markdown",
      "id": "liable-springer",
      "metadata": {
        "id": "liable-springer"
      },
      "source": [
        "### 3- The Different tweet for train, validation and test"
      ]
    },
    {
      "cell_type": "code",
      "execution_count": 8,
      "id": "spectacular-culture",
      "metadata": {
        "colab": {
          "base_uri": "https://localhost:8080/",
          "height": 206
        },
        "id": "spectacular-culture",
        "outputId": "4701d9a0-b2a8-4ce2-a8f2-173030e0fc98"
      },
      "outputs": [
        {
          "output_type": "execute_result",
          "data": {
            "text/plain": [
              "                                               Tweet\n",
              "0  \"QT @user In the original draft of the 7th boo...\n",
              "1  \"Ben Smith / Smith (concussion) remains out of...\n",
              "2  Sorry bout the stream last night I crashed out...\n",
              "3  Chase Headley's RBI double in the 8th inning o...\n",
              "4  @user Alciato: Bee will invest 150 million in ..."
            ],
            "text/html": [
              "\n",
              "  <div id=\"df-7a36b028-e7e9-4dd3-97fd-1877bf614f22\" class=\"colab-df-container\">\n",
              "    <div>\n",
              "<style scoped>\n",
              "    .dataframe tbody tr th:only-of-type {\n",
              "        vertical-align: middle;\n",
              "    }\n",
              "\n",
              "    .dataframe tbody tr th {\n",
              "        vertical-align: top;\n",
              "    }\n",
              "\n",
              "    .dataframe thead th {\n",
              "        text-align: right;\n",
              "    }\n",
              "</style>\n",
              "<table border=\"1\" class=\"dataframe\">\n",
              "  <thead>\n",
              "    <tr style=\"text-align: right;\">\n",
              "      <th></th>\n",
              "      <th>Tweet</th>\n",
              "    </tr>\n",
              "  </thead>\n",
              "  <tbody>\n",
              "    <tr>\n",
              "      <th>0</th>\n",
              "      <td>\"QT @user In the original draft of the 7th boo...</td>\n",
              "    </tr>\n",
              "    <tr>\n",
              "      <th>1</th>\n",
              "      <td>\"Ben Smith / Smith (concussion) remains out of...</td>\n",
              "    </tr>\n",
              "    <tr>\n",
              "      <th>2</th>\n",
              "      <td>Sorry bout the stream last night I crashed out...</td>\n",
              "    </tr>\n",
              "    <tr>\n",
              "      <th>3</th>\n",
              "      <td>Chase Headley's RBI double in the 8th inning o...</td>\n",
              "    </tr>\n",
              "    <tr>\n",
              "      <th>4</th>\n",
              "      <td>@user Alciato: Bee will invest 150 million in ...</td>\n",
              "    </tr>\n",
              "  </tbody>\n",
              "</table>\n",
              "</div>\n",
              "    <div class=\"colab-df-buttons\">\n",
              "\n",
              "  <div class=\"colab-df-container\">\n",
              "    <button class=\"colab-df-convert\" onclick=\"convertToInteractive('df-7a36b028-e7e9-4dd3-97fd-1877bf614f22')\"\n",
              "            title=\"Convert this dataframe to an interactive table.\"\n",
              "            style=\"display:none;\">\n",
              "\n",
              "  <svg xmlns=\"http://www.w3.org/2000/svg\" height=\"24px\" viewBox=\"0 -960 960 960\">\n",
              "    <path d=\"M120-120v-720h720v720H120Zm60-500h600v-160H180v160Zm220 220h160v-160H400v160Zm0 220h160v-160H400v160ZM180-400h160v-160H180v160Zm440 0h160v-160H620v160ZM180-180h160v-160H180v160Zm440 0h160v-160H620v160Z\"/>\n",
              "  </svg>\n",
              "    </button>\n",
              "\n",
              "  <style>\n",
              "    .colab-df-container {\n",
              "      display:flex;\n",
              "      gap: 12px;\n",
              "    }\n",
              "\n",
              "    .colab-df-convert {\n",
              "      background-color: #E8F0FE;\n",
              "      border: none;\n",
              "      border-radius: 50%;\n",
              "      cursor: pointer;\n",
              "      display: none;\n",
              "      fill: #1967D2;\n",
              "      height: 32px;\n",
              "      padding: 0 0 0 0;\n",
              "      width: 32px;\n",
              "    }\n",
              "\n",
              "    .colab-df-convert:hover {\n",
              "      background-color: #E2EBFA;\n",
              "      box-shadow: 0px 1px 2px rgba(60, 64, 67, 0.3), 0px 1px 3px 1px rgba(60, 64, 67, 0.15);\n",
              "      fill: #174EA6;\n",
              "    }\n",
              "\n",
              "    .colab-df-buttons div {\n",
              "      margin-bottom: 4px;\n",
              "    }\n",
              "\n",
              "    [theme=dark] .colab-df-convert {\n",
              "      background-color: #3B4455;\n",
              "      fill: #D2E3FC;\n",
              "    }\n",
              "\n",
              "    [theme=dark] .colab-df-convert:hover {\n",
              "      background-color: #434B5C;\n",
              "      box-shadow: 0px 1px 3px 1px rgba(0, 0, 0, 0.15);\n",
              "      filter: drop-shadow(0px 1px 2px rgba(0, 0, 0, 0.3));\n",
              "      fill: #FFFFFF;\n",
              "    }\n",
              "  </style>\n",
              "\n",
              "    <script>\n",
              "      const buttonEl =\n",
              "        document.querySelector('#df-7a36b028-e7e9-4dd3-97fd-1877bf614f22 button.colab-df-convert');\n",
              "      buttonEl.style.display =\n",
              "        google.colab.kernel.accessAllowed ? 'block' : 'none';\n",
              "\n",
              "      async function convertToInteractive(key) {\n",
              "        const element = document.querySelector('#df-7a36b028-e7e9-4dd3-97fd-1877bf614f22');\n",
              "        const dataTable =\n",
              "          await google.colab.kernel.invokeFunction('convertToInteractive',\n",
              "                                                    [key], {});\n",
              "        if (!dataTable) return;\n",
              "\n",
              "        const docLinkHtml = 'Like what you see? Visit the ' +\n",
              "          '<a target=\"_blank\" href=https://colab.research.google.com/notebooks/data_table.ipynb>data table notebook</a>'\n",
              "          + ' to learn more about interactive tables.';\n",
              "        element.innerHTML = '';\n",
              "        dataTable['output_type'] = 'display_data';\n",
              "        await google.colab.output.renderOutput(dataTable, element);\n",
              "        const docLink = document.createElement('div');\n",
              "        docLink.innerHTML = docLinkHtml;\n",
              "        element.appendChild(docLink);\n",
              "      }\n",
              "    </script>\n",
              "  </div>\n",
              "\n",
              "\n",
              "<div id=\"df-860e084f-92db-4534-9153-2abc6a48f79a\">\n",
              "  <button class=\"colab-df-quickchart\" onclick=\"quickchart('df-860e084f-92db-4534-9153-2abc6a48f79a')\"\n",
              "            title=\"Suggest charts\"\n",
              "            style=\"display:none;\">\n",
              "\n",
              "<svg xmlns=\"http://www.w3.org/2000/svg\" height=\"24px\"viewBox=\"0 0 24 24\"\n",
              "     width=\"24px\">\n",
              "    <g>\n",
              "        <path d=\"M19 3H5c-1.1 0-2 .9-2 2v14c0 1.1.9 2 2 2h14c1.1 0 2-.9 2-2V5c0-1.1-.9-2-2-2zM9 17H7v-7h2v7zm4 0h-2V7h2v10zm4 0h-2v-4h2v4z\"/>\n",
              "    </g>\n",
              "</svg>\n",
              "  </button>\n",
              "\n",
              "<style>\n",
              "  .colab-df-quickchart {\n",
              "      --bg-color: #E8F0FE;\n",
              "      --fill-color: #1967D2;\n",
              "      --hover-bg-color: #E2EBFA;\n",
              "      --hover-fill-color: #174EA6;\n",
              "      --disabled-fill-color: #AAA;\n",
              "      --disabled-bg-color: #DDD;\n",
              "  }\n",
              "\n",
              "  [theme=dark] .colab-df-quickchart {\n",
              "      --bg-color: #3B4455;\n",
              "      --fill-color: #D2E3FC;\n",
              "      --hover-bg-color: #434B5C;\n",
              "      --hover-fill-color: #FFFFFF;\n",
              "      --disabled-bg-color: #3B4455;\n",
              "      --disabled-fill-color: #666;\n",
              "  }\n",
              "\n",
              "  .colab-df-quickchart {\n",
              "    background-color: var(--bg-color);\n",
              "    border: none;\n",
              "    border-radius: 50%;\n",
              "    cursor: pointer;\n",
              "    display: none;\n",
              "    fill: var(--fill-color);\n",
              "    height: 32px;\n",
              "    padding: 0;\n",
              "    width: 32px;\n",
              "  }\n",
              "\n",
              "  .colab-df-quickchart:hover {\n",
              "    background-color: var(--hover-bg-color);\n",
              "    box-shadow: 0 1px 2px rgba(60, 64, 67, 0.3), 0 1px 3px 1px rgba(60, 64, 67, 0.15);\n",
              "    fill: var(--button-hover-fill-color);\n",
              "  }\n",
              "\n",
              "  .colab-df-quickchart-complete:disabled,\n",
              "  .colab-df-quickchart-complete:disabled:hover {\n",
              "    background-color: var(--disabled-bg-color);\n",
              "    fill: var(--disabled-fill-color);\n",
              "    box-shadow: none;\n",
              "  }\n",
              "\n",
              "  .colab-df-spinner {\n",
              "    border: 2px solid var(--fill-color);\n",
              "    border-color: transparent;\n",
              "    border-bottom-color: var(--fill-color);\n",
              "    animation:\n",
              "      spin 1s steps(1) infinite;\n",
              "  }\n",
              "\n",
              "  @keyframes spin {\n",
              "    0% {\n",
              "      border-color: transparent;\n",
              "      border-bottom-color: var(--fill-color);\n",
              "      border-left-color: var(--fill-color);\n",
              "    }\n",
              "    20% {\n",
              "      border-color: transparent;\n",
              "      border-left-color: var(--fill-color);\n",
              "      border-top-color: var(--fill-color);\n",
              "    }\n",
              "    30% {\n",
              "      border-color: transparent;\n",
              "      border-left-color: var(--fill-color);\n",
              "      border-top-color: var(--fill-color);\n",
              "      border-right-color: var(--fill-color);\n",
              "    }\n",
              "    40% {\n",
              "      border-color: transparent;\n",
              "      border-right-color: var(--fill-color);\n",
              "      border-top-color: var(--fill-color);\n",
              "    }\n",
              "    60% {\n",
              "      border-color: transparent;\n",
              "      border-right-color: var(--fill-color);\n",
              "    }\n",
              "    80% {\n",
              "      border-color: transparent;\n",
              "      border-right-color: var(--fill-color);\n",
              "      border-bottom-color: var(--fill-color);\n",
              "    }\n",
              "    90% {\n",
              "      border-color: transparent;\n",
              "      border-bottom-color: var(--fill-color);\n",
              "    }\n",
              "  }\n",
              "</style>\n",
              "\n",
              "  <script>\n",
              "    async function quickchart(key) {\n",
              "      const quickchartButtonEl =\n",
              "        document.querySelector('#' + key + ' button');\n",
              "      quickchartButtonEl.disabled = true;  // To prevent multiple clicks.\n",
              "      quickchartButtonEl.classList.add('colab-df-spinner');\n",
              "      try {\n",
              "        const charts = await google.colab.kernel.invokeFunction(\n",
              "            'suggestCharts', [key], {});\n",
              "      } catch (error) {\n",
              "        console.error('Error during call to suggestCharts:', error);\n",
              "      }\n",
              "      quickchartButtonEl.classList.remove('colab-df-spinner');\n",
              "      quickchartButtonEl.classList.add('colab-df-quickchart-complete');\n",
              "    }\n",
              "    (() => {\n",
              "      let quickchartButtonEl =\n",
              "        document.querySelector('#df-860e084f-92db-4534-9153-2abc6a48f79a button');\n",
              "      quickchartButtonEl.style.display =\n",
              "        google.colab.kernel.accessAllowed ? 'block' : 'none';\n",
              "    })();\n",
              "  </script>\n",
              "</div>\n",
              "    </div>\n",
              "  </div>\n"
            ],
            "application/vnd.google.colaboratory.intrinsic+json": {
              "type": "dataframe",
              "variable_name": "X_train",
              "summary": "{\n  \"name\": \"X_train\",\n  \"rows\": 45615,\n  \"fields\": [\n    {\n      \"column\": \"Tweet\",\n      \"properties\": {\n        \"dtype\": \"string\",\n        \"num_unique_values\": 45587,\n        \"samples\": [\n          \"Good comeback from Paul Dunne. Birdie on 5th and he's back to square today. Solid mental achievement. #TheOpen \\n\",\n          \"I think my mom might buy me the box set bc i\\\\u2019ve been bugging her about MSG and i told her i\\\\u2019d give her $30 if she got it before november 14 \\n\",\n          \"Ay @user u should go 2 the UFC fight in November when @user detroys Dos Santos... Mexico vs. Brazil!. What u think? \\n\"\n        ],\n        \"semantic_type\": \"\",\n        \"description\": \"\"\n      }\n    }\n  ]\n}"
            }
          },
          "metadata": {},
          "execution_count": 8
        }
      ],
      "source": [
        "# Specify the path to your text file\n",
        "file_path = '/content/natural-language-processing/assignments/train_text.txt'\n",
        "\n",
        "# Read the text file into a list of strings (each line is an element in the list)\n",
        "with open(file_path, 'r', encoding='utf-8') as file:\n",
        "    lines = file.readlines()\n",
        "\n",
        "# Create a DataFrame with each line as a separate observation\n",
        "data = {'Tweet': lines}\n",
        "X_train = pd.DataFrame(data)\n",
        "\n",
        "# Display the DataFrame\n",
        "X_train.head()"
      ]
    },
    {
      "cell_type": "code",
      "execution_count": 9,
      "id": "dental-detection",
      "metadata": {
        "scrolled": true,
        "colab": {
          "base_uri": "https://localhost:8080/",
          "height": 206
        },
        "id": "dental-detection",
        "outputId": "0337c17f-a472-42e0-c08c-e2976e87c2be"
      },
      "outputs": [
        {
          "output_type": "execute_result",
          "data": {
            "text/plain": [
              "                                               Tweet\n",
              "0  @user @user what do these '1/2 naked pics' hav...\n",
              "1  OH: “I had a blue penis while I was this” [pla...\n",
              "2  @user @user That's coming, but I think the vic...\n",
              "3  I think I may be finally in with the in crowd ...\n",
              "4  @user Wow,first Hugo Chavez and now Fidel Cast..."
            ],
            "text/html": [
              "\n",
              "  <div id=\"df-817a573b-3d4f-42ed-92f7-4c74522b6ac3\" class=\"colab-df-container\">\n",
              "    <div>\n",
              "<style scoped>\n",
              "    .dataframe tbody tr th:only-of-type {\n",
              "        vertical-align: middle;\n",
              "    }\n",
              "\n",
              "    .dataframe tbody tr th {\n",
              "        vertical-align: top;\n",
              "    }\n",
              "\n",
              "    .dataframe thead th {\n",
              "        text-align: right;\n",
              "    }\n",
              "</style>\n",
              "<table border=\"1\" class=\"dataframe\">\n",
              "  <thead>\n",
              "    <tr style=\"text-align: right;\">\n",
              "      <th></th>\n",
              "      <th>Tweet</th>\n",
              "    </tr>\n",
              "  </thead>\n",
              "  <tbody>\n",
              "    <tr>\n",
              "      <th>0</th>\n",
              "      <td>@user @user what do these '1/2 naked pics' hav...</td>\n",
              "    </tr>\n",
              "    <tr>\n",
              "      <th>1</th>\n",
              "      <td>OH: “I had a blue penis while I was this” [pla...</td>\n",
              "    </tr>\n",
              "    <tr>\n",
              "      <th>2</th>\n",
              "      <td>@user @user That's coming, but I think the vic...</td>\n",
              "    </tr>\n",
              "    <tr>\n",
              "      <th>3</th>\n",
              "      <td>I think I may be finally in with the in crowd ...</td>\n",
              "    </tr>\n",
              "    <tr>\n",
              "      <th>4</th>\n",
              "      <td>@user Wow,first Hugo Chavez and now Fidel Cast...</td>\n",
              "    </tr>\n",
              "  </tbody>\n",
              "</table>\n",
              "</div>\n",
              "    <div class=\"colab-df-buttons\">\n",
              "\n",
              "  <div class=\"colab-df-container\">\n",
              "    <button class=\"colab-df-convert\" onclick=\"convertToInteractive('df-817a573b-3d4f-42ed-92f7-4c74522b6ac3')\"\n",
              "            title=\"Convert this dataframe to an interactive table.\"\n",
              "            style=\"display:none;\">\n",
              "\n",
              "  <svg xmlns=\"http://www.w3.org/2000/svg\" height=\"24px\" viewBox=\"0 -960 960 960\">\n",
              "    <path d=\"M120-120v-720h720v720H120Zm60-500h600v-160H180v160Zm220 220h160v-160H400v160Zm0 220h160v-160H400v160ZM180-400h160v-160H180v160Zm440 0h160v-160H620v160ZM180-180h160v-160H180v160Zm440 0h160v-160H620v160Z\"/>\n",
              "  </svg>\n",
              "    </button>\n",
              "\n",
              "  <style>\n",
              "    .colab-df-container {\n",
              "      display:flex;\n",
              "      gap: 12px;\n",
              "    }\n",
              "\n",
              "    .colab-df-convert {\n",
              "      background-color: #E8F0FE;\n",
              "      border: none;\n",
              "      border-radius: 50%;\n",
              "      cursor: pointer;\n",
              "      display: none;\n",
              "      fill: #1967D2;\n",
              "      height: 32px;\n",
              "      padding: 0 0 0 0;\n",
              "      width: 32px;\n",
              "    }\n",
              "\n",
              "    .colab-df-convert:hover {\n",
              "      background-color: #E2EBFA;\n",
              "      box-shadow: 0px 1px 2px rgba(60, 64, 67, 0.3), 0px 1px 3px 1px rgba(60, 64, 67, 0.15);\n",
              "      fill: #174EA6;\n",
              "    }\n",
              "\n",
              "    .colab-df-buttons div {\n",
              "      margin-bottom: 4px;\n",
              "    }\n",
              "\n",
              "    [theme=dark] .colab-df-convert {\n",
              "      background-color: #3B4455;\n",
              "      fill: #D2E3FC;\n",
              "    }\n",
              "\n",
              "    [theme=dark] .colab-df-convert:hover {\n",
              "      background-color: #434B5C;\n",
              "      box-shadow: 0px 1px 3px 1px rgba(0, 0, 0, 0.15);\n",
              "      filter: drop-shadow(0px 1px 2px rgba(0, 0, 0, 0.3));\n",
              "      fill: #FFFFFF;\n",
              "    }\n",
              "  </style>\n",
              "\n",
              "    <script>\n",
              "      const buttonEl =\n",
              "        document.querySelector('#df-817a573b-3d4f-42ed-92f7-4c74522b6ac3 button.colab-df-convert');\n",
              "      buttonEl.style.display =\n",
              "        google.colab.kernel.accessAllowed ? 'block' : 'none';\n",
              "\n",
              "      async function convertToInteractive(key) {\n",
              "        const element = document.querySelector('#df-817a573b-3d4f-42ed-92f7-4c74522b6ac3');\n",
              "        const dataTable =\n",
              "          await google.colab.kernel.invokeFunction('convertToInteractive',\n",
              "                                                    [key], {});\n",
              "        if (!dataTable) return;\n",
              "\n",
              "        const docLinkHtml = 'Like what you see? Visit the ' +\n",
              "          '<a target=\"_blank\" href=https://colab.research.google.com/notebooks/data_table.ipynb>data table notebook</a>'\n",
              "          + ' to learn more about interactive tables.';\n",
              "        element.innerHTML = '';\n",
              "        dataTable['output_type'] = 'display_data';\n",
              "        await google.colab.output.renderOutput(dataTable, element);\n",
              "        const docLink = document.createElement('div');\n",
              "        docLink.innerHTML = docLinkHtml;\n",
              "        element.appendChild(docLink);\n",
              "      }\n",
              "    </script>\n",
              "  </div>\n",
              "\n",
              "\n",
              "<div id=\"df-5433e063-fa10-4ebc-a5fe-1da2a45d1508\">\n",
              "  <button class=\"colab-df-quickchart\" onclick=\"quickchart('df-5433e063-fa10-4ebc-a5fe-1da2a45d1508')\"\n",
              "            title=\"Suggest charts\"\n",
              "            style=\"display:none;\">\n",
              "\n",
              "<svg xmlns=\"http://www.w3.org/2000/svg\" height=\"24px\"viewBox=\"0 0 24 24\"\n",
              "     width=\"24px\">\n",
              "    <g>\n",
              "        <path d=\"M19 3H5c-1.1 0-2 .9-2 2v14c0 1.1.9 2 2 2h14c1.1 0 2-.9 2-2V5c0-1.1-.9-2-2-2zM9 17H7v-7h2v7zm4 0h-2V7h2v10zm4 0h-2v-4h2v4z\"/>\n",
              "    </g>\n",
              "</svg>\n",
              "  </button>\n",
              "\n",
              "<style>\n",
              "  .colab-df-quickchart {\n",
              "      --bg-color: #E8F0FE;\n",
              "      --fill-color: #1967D2;\n",
              "      --hover-bg-color: #E2EBFA;\n",
              "      --hover-fill-color: #174EA6;\n",
              "      --disabled-fill-color: #AAA;\n",
              "      --disabled-bg-color: #DDD;\n",
              "  }\n",
              "\n",
              "  [theme=dark] .colab-df-quickchart {\n",
              "      --bg-color: #3B4455;\n",
              "      --fill-color: #D2E3FC;\n",
              "      --hover-bg-color: #434B5C;\n",
              "      --hover-fill-color: #FFFFFF;\n",
              "      --disabled-bg-color: #3B4455;\n",
              "      --disabled-fill-color: #666;\n",
              "  }\n",
              "\n",
              "  .colab-df-quickchart {\n",
              "    background-color: var(--bg-color);\n",
              "    border: none;\n",
              "    border-radius: 50%;\n",
              "    cursor: pointer;\n",
              "    display: none;\n",
              "    fill: var(--fill-color);\n",
              "    height: 32px;\n",
              "    padding: 0;\n",
              "    width: 32px;\n",
              "  }\n",
              "\n",
              "  .colab-df-quickchart:hover {\n",
              "    background-color: var(--hover-bg-color);\n",
              "    box-shadow: 0 1px 2px rgba(60, 64, 67, 0.3), 0 1px 3px 1px rgba(60, 64, 67, 0.15);\n",
              "    fill: var(--button-hover-fill-color);\n",
              "  }\n",
              "\n",
              "  .colab-df-quickchart-complete:disabled,\n",
              "  .colab-df-quickchart-complete:disabled:hover {\n",
              "    background-color: var(--disabled-bg-color);\n",
              "    fill: var(--disabled-fill-color);\n",
              "    box-shadow: none;\n",
              "  }\n",
              "\n",
              "  .colab-df-spinner {\n",
              "    border: 2px solid var(--fill-color);\n",
              "    border-color: transparent;\n",
              "    border-bottom-color: var(--fill-color);\n",
              "    animation:\n",
              "      spin 1s steps(1) infinite;\n",
              "  }\n",
              "\n",
              "  @keyframes spin {\n",
              "    0% {\n",
              "      border-color: transparent;\n",
              "      border-bottom-color: var(--fill-color);\n",
              "      border-left-color: var(--fill-color);\n",
              "    }\n",
              "    20% {\n",
              "      border-color: transparent;\n",
              "      border-left-color: var(--fill-color);\n",
              "      border-top-color: var(--fill-color);\n",
              "    }\n",
              "    30% {\n",
              "      border-color: transparent;\n",
              "      border-left-color: var(--fill-color);\n",
              "      border-top-color: var(--fill-color);\n",
              "      border-right-color: var(--fill-color);\n",
              "    }\n",
              "    40% {\n",
              "      border-color: transparent;\n",
              "      border-right-color: var(--fill-color);\n",
              "      border-top-color: var(--fill-color);\n",
              "    }\n",
              "    60% {\n",
              "      border-color: transparent;\n",
              "      border-right-color: var(--fill-color);\n",
              "    }\n",
              "    80% {\n",
              "      border-color: transparent;\n",
              "      border-right-color: var(--fill-color);\n",
              "      border-bottom-color: var(--fill-color);\n",
              "    }\n",
              "    90% {\n",
              "      border-color: transparent;\n",
              "      border-bottom-color: var(--fill-color);\n",
              "    }\n",
              "  }\n",
              "</style>\n",
              "\n",
              "  <script>\n",
              "    async function quickchart(key) {\n",
              "      const quickchartButtonEl =\n",
              "        document.querySelector('#' + key + ' button');\n",
              "      quickchartButtonEl.disabled = true;  // To prevent multiple clicks.\n",
              "      quickchartButtonEl.classList.add('colab-df-spinner');\n",
              "      try {\n",
              "        const charts = await google.colab.kernel.invokeFunction(\n",
              "            'suggestCharts', [key], {});\n",
              "      } catch (error) {\n",
              "        console.error('Error during call to suggestCharts:', error);\n",
              "      }\n",
              "      quickchartButtonEl.classList.remove('colab-df-spinner');\n",
              "      quickchartButtonEl.classList.add('colab-df-quickchart-complete');\n",
              "    }\n",
              "    (() => {\n",
              "      let quickchartButtonEl =\n",
              "        document.querySelector('#df-5433e063-fa10-4ebc-a5fe-1da2a45d1508 button');\n",
              "      quickchartButtonEl.style.display =\n",
              "        google.colab.kernel.accessAllowed ? 'block' : 'none';\n",
              "    })();\n",
              "  </script>\n",
              "</div>\n",
              "    </div>\n",
              "  </div>\n"
            ],
            "application/vnd.google.colaboratory.intrinsic+json": {
              "type": "dataframe",
              "variable_name": "X_test",
              "summary": "{\n  \"name\": \"X_test\",\n  \"rows\": 12284,\n  \"fields\": [\n    {\n      \"column\": \"Tweet\",\n      \"properties\": {\n        \"dtype\": \"string\",\n        \"num_unique_values\": 12284,\n        \"samples\": [\n          \"Do you think Michelle Obama wanted to smack Melania Trump for plagiarizing her convention speech? She has the arms for it. \\n\",\n          \"Well that finale was one big mindfuck \\ud83d\\ude33 #Westworld \\n\",\n          \"Luis Enrique: \\\"In the first half I can't remember Celtic having a clear chance and Messi as usual was at a really high level.\\\" #fcblive \\n\"\n        ],\n        \"semantic_type\": \"\",\n        \"description\": \"\"\n      }\n    }\n  ]\n}"
            }
          },
          "metadata": {},
          "execution_count": 9
        }
      ],
      "source": [
        "# Specify the path to your text file\n",
        "file_path = '/content/natural-language-processing/assignments/test_text.txt'\n",
        "\n",
        "# Read the text file into a list of strings (each line is an element in the list)\n",
        "with open(file_path, 'r', encoding='utf-8') as file:\n",
        "    lines = file.readlines()\n",
        "\n",
        "# Create a DataFrame with each line as a separate observation\n",
        "data = {'Tweet': lines}\n",
        "X_test = pd.DataFrame(data)\n",
        "\n",
        "# Display the DataFrame\n",
        "X_test.head()"
      ]
    },
    {
      "cell_type": "code",
      "execution_count": 10,
      "id": "legislative-bottle",
      "metadata": {
        "colab": {
          "base_uri": "https://localhost:8080/",
          "height": 206
        },
        "id": "legislative-bottle",
        "outputId": "0153ec7c-1fd5-4d10-92cc-ac7217bff6a9"
      },
      "outputs": [
        {
          "output_type": "execute_result",
          "data": {
            "text/plain": [
              "                                               Tweet\n",
              "0  Dark Souls 3 April Launch Date Confirmed With ...\n",
              "1  \"National hot dog day, national tequila day, t...\n",
              "2  When girls become bandwagon fans of the Packer...\n",
              "3  @user I may or may not have searched it up on ...\n",
              "4  Here's your starting TUESDAY MORNING Line up a..."
            ],
            "text/html": [
              "\n",
              "  <div id=\"df-68799cf5-e555-4d70-a6da-95acdc16a81e\" class=\"colab-df-container\">\n",
              "    <div>\n",
              "<style scoped>\n",
              "    .dataframe tbody tr th:only-of-type {\n",
              "        vertical-align: middle;\n",
              "    }\n",
              "\n",
              "    .dataframe tbody tr th {\n",
              "        vertical-align: top;\n",
              "    }\n",
              "\n",
              "    .dataframe thead th {\n",
              "        text-align: right;\n",
              "    }\n",
              "</style>\n",
              "<table border=\"1\" class=\"dataframe\">\n",
              "  <thead>\n",
              "    <tr style=\"text-align: right;\">\n",
              "      <th></th>\n",
              "      <th>Tweet</th>\n",
              "    </tr>\n",
              "  </thead>\n",
              "  <tbody>\n",
              "    <tr>\n",
              "      <th>0</th>\n",
              "      <td>Dark Souls 3 April Launch Date Confirmed With ...</td>\n",
              "    </tr>\n",
              "    <tr>\n",
              "      <th>1</th>\n",
              "      <td>\"National hot dog day, national tequila day, t...</td>\n",
              "    </tr>\n",
              "    <tr>\n",
              "      <th>2</th>\n",
              "      <td>When girls become bandwagon fans of the Packer...</td>\n",
              "    </tr>\n",
              "    <tr>\n",
              "      <th>3</th>\n",
              "      <td>@user I may or may not have searched it up on ...</td>\n",
              "    </tr>\n",
              "    <tr>\n",
              "      <th>4</th>\n",
              "      <td>Here's your starting TUESDAY MORNING Line up a...</td>\n",
              "    </tr>\n",
              "  </tbody>\n",
              "</table>\n",
              "</div>\n",
              "    <div class=\"colab-df-buttons\">\n",
              "\n",
              "  <div class=\"colab-df-container\">\n",
              "    <button class=\"colab-df-convert\" onclick=\"convertToInteractive('df-68799cf5-e555-4d70-a6da-95acdc16a81e')\"\n",
              "            title=\"Convert this dataframe to an interactive table.\"\n",
              "            style=\"display:none;\">\n",
              "\n",
              "  <svg xmlns=\"http://www.w3.org/2000/svg\" height=\"24px\" viewBox=\"0 -960 960 960\">\n",
              "    <path d=\"M120-120v-720h720v720H120Zm60-500h600v-160H180v160Zm220 220h160v-160H400v160Zm0 220h160v-160H400v160ZM180-400h160v-160H180v160Zm440 0h160v-160H620v160ZM180-180h160v-160H180v160Zm440 0h160v-160H620v160Z\"/>\n",
              "  </svg>\n",
              "    </button>\n",
              "\n",
              "  <style>\n",
              "    .colab-df-container {\n",
              "      display:flex;\n",
              "      gap: 12px;\n",
              "    }\n",
              "\n",
              "    .colab-df-convert {\n",
              "      background-color: #E8F0FE;\n",
              "      border: none;\n",
              "      border-radius: 50%;\n",
              "      cursor: pointer;\n",
              "      display: none;\n",
              "      fill: #1967D2;\n",
              "      height: 32px;\n",
              "      padding: 0 0 0 0;\n",
              "      width: 32px;\n",
              "    }\n",
              "\n",
              "    .colab-df-convert:hover {\n",
              "      background-color: #E2EBFA;\n",
              "      box-shadow: 0px 1px 2px rgba(60, 64, 67, 0.3), 0px 1px 3px 1px rgba(60, 64, 67, 0.15);\n",
              "      fill: #174EA6;\n",
              "    }\n",
              "\n",
              "    .colab-df-buttons div {\n",
              "      margin-bottom: 4px;\n",
              "    }\n",
              "\n",
              "    [theme=dark] .colab-df-convert {\n",
              "      background-color: #3B4455;\n",
              "      fill: #D2E3FC;\n",
              "    }\n",
              "\n",
              "    [theme=dark] .colab-df-convert:hover {\n",
              "      background-color: #434B5C;\n",
              "      box-shadow: 0px 1px 3px 1px rgba(0, 0, 0, 0.15);\n",
              "      filter: drop-shadow(0px 1px 2px rgba(0, 0, 0, 0.3));\n",
              "      fill: #FFFFFF;\n",
              "    }\n",
              "  </style>\n",
              "\n",
              "    <script>\n",
              "      const buttonEl =\n",
              "        document.querySelector('#df-68799cf5-e555-4d70-a6da-95acdc16a81e button.colab-df-convert');\n",
              "      buttonEl.style.display =\n",
              "        google.colab.kernel.accessAllowed ? 'block' : 'none';\n",
              "\n",
              "      async function convertToInteractive(key) {\n",
              "        const element = document.querySelector('#df-68799cf5-e555-4d70-a6da-95acdc16a81e');\n",
              "        const dataTable =\n",
              "          await google.colab.kernel.invokeFunction('convertToInteractive',\n",
              "                                                    [key], {});\n",
              "        if (!dataTable) return;\n",
              "\n",
              "        const docLinkHtml = 'Like what you see? Visit the ' +\n",
              "          '<a target=\"_blank\" href=https://colab.research.google.com/notebooks/data_table.ipynb>data table notebook</a>'\n",
              "          + ' to learn more about interactive tables.';\n",
              "        element.innerHTML = '';\n",
              "        dataTable['output_type'] = 'display_data';\n",
              "        await google.colab.output.renderOutput(dataTable, element);\n",
              "        const docLink = document.createElement('div');\n",
              "        docLink.innerHTML = docLinkHtml;\n",
              "        element.appendChild(docLink);\n",
              "      }\n",
              "    </script>\n",
              "  </div>\n",
              "\n",
              "\n",
              "<div id=\"df-5c710971-d759-4ae1-bb0a-8d8d9942109c\">\n",
              "  <button class=\"colab-df-quickchart\" onclick=\"quickchart('df-5c710971-d759-4ae1-bb0a-8d8d9942109c')\"\n",
              "            title=\"Suggest charts\"\n",
              "            style=\"display:none;\">\n",
              "\n",
              "<svg xmlns=\"http://www.w3.org/2000/svg\" height=\"24px\"viewBox=\"0 0 24 24\"\n",
              "     width=\"24px\">\n",
              "    <g>\n",
              "        <path d=\"M19 3H5c-1.1 0-2 .9-2 2v14c0 1.1.9 2 2 2h14c1.1 0 2-.9 2-2V5c0-1.1-.9-2-2-2zM9 17H7v-7h2v7zm4 0h-2V7h2v10zm4 0h-2v-4h2v4z\"/>\n",
              "    </g>\n",
              "</svg>\n",
              "  </button>\n",
              "\n",
              "<style>\n",
              "  .colab-df-quickchart {\n",
              "      --bg-color: #E8F0FE;\n",
              "      --fill-color: #1967D2;\n",
              "      --hover-bg-color: #E2EBFA;\n",
              "      --hover-fill-color: #174EA6;\n",
              "      --disabled-fill-color: #AAA;\n",
              "      --disabled-bg-color: #DDD;\n",
              "  }\n",
              "\n",
              "  [theme=dark] .colab-df-quickchart {\n",
              "      --bg-color: #3B4455;\n",
              "      --fill-color: #D2E3FC;\n",
              "      --hover-bg-color: #434B5C;\n",
              "      --hover-fill-color: #FFFFFF;\n",
              "      --disabled-bg-color: #3B4455;\n",
              "      --disabled-fill-color: #666;\n",
              "  }\n",
              "\n",
              "  .colab-df-quickchart {\n",
              "    background-color: var(--bg-color);\n",
              "    border: none;\n",
              "    border-radius: 50%;\n",
              "    cursor: pointer;\n",
              "    display: none;\n",
              "    fill: var(--fill-color);\n",
              "    height: 32px;\n",
              "    padding: 0;\n",
              "    width: 32px;\n",
              "  }\n",
              "\n",
              "  .colab-df-quickchart:hover {\n",
              "    background-color: var(--hover-bg-color);\n",
              "    box-shadow: 0 1px 2px rgba(60, 64, 67, 0.3), 0 1px 3px 1px rgba(60, 64, 67, 0.15);\n",
              "    fill: var(--button-hover-fill-color);\n",
              "  }\n",
              "\n",
              "  .colab-df-quickchart-complete:disabled,\n",
              "  .colab-df-quickchart-complete:disabled:hover {\n",
              "    background-color: var(--disabled-bg-color);\n",
              "    fill: var(--disabled-fill-color);\n",
              "    box-shadow: none;\n",
              "  }\n",
              "\n",
              "  .colab-df-spinner {\n",
              "    border: 2px solid var(--fill-color);\n",
              "    border-color: transparent;\n",
              "    border-bottom-color: var(--fill-color);\n",
              "    animation:\n",
              "      spin 1s steps(1) infinite;\n",
              "  }\n",
              "\n",
              "  @keyframes spin {\n",
              "    0% {\n",
              "      border-color: transparent;\n",
              "      border-bottom-color: var(--fill-color);\n",
              "      border-left-color: var(--fill-color);\n",
              "    }\n",
              "    20% {\n",
              "      border-color: transparent;\n",
              "      border-left-color: var(--fill-color);\n",
              "      border-top-color: var(--fill-color);\n",
              "    }\n",
              "    30% {\n",
              "      border-color: transparent;\n",
              "      border-left-color: var(--fill-color);\n",
              "      border-top-color: var(--fill-color);\n",
              "      border-right-color: var(--fill-color);\n",
              "    }\n",
              "    40% {\n",
              "      border-color: transparent;\n",
              "      border-right-color: var(--fill-color);\n",
              "      border-top-color: var(--fill-color);\n",
              "    }\n",
              "    60% {\n",
              "      border-color: transparent;\n",
              "      border-right-color: var(--fill-color);\n",
              "    }\n",
              "    80% {\n",
              "      border-color: transparent;\n",
              "      border-right-color: var(--fill-color);\n",
              "      border-bottom-color: var(--fill-color);\n",
              "    }\n",
              "    90% {\n",
              "      border-color: transparent;\n",
              "      border-bottom-color: var(--fill-color);\n",
              "    }\n",
              "  }\n",
              "</style>\n",
              "\n",
              "  <script>\n",
              "    async function quickchart(key) {\n",
              "      const quickchartButtonEl =\n",
              "        document.querySelector('#' + key + ' button');\n",
              "      quickchartButtonEl.disabled = true;  // To prevent multiple clicks.\n",
              "      quickchartButtonEl.classList.add('colab-df-spinner');\n",
              "      try {\n",
              "        const charts = await google.colab.kernel.invokeFunction(\n",
              "            'suggestCharts', [key], {});\n",
              "      } catch (error) {\n",
              "        console.error('Error during call to suggestCharts:', error);\n",
              "      }\n",
              "      quickchartButtonEl.classList.remove('colab-df-spinner');\n",
              "      quickchartButtonEl.classList.add('colab-df-quickchart-complete');\n",
              "    }\n",
              "    (() => {\n",
              "      let quickchartButtonEl =\n",
              "        document.querySelector('#df-5c710971-d759-4ae1-bb0a-8d8d9942109c button');\n",
              "      quickchartButtonEl.style.display =\n",
              "        google.colab.kernel.accessAllowed ? 'block' : 'none';\n",
              "    })();\n",
              "  </script>\n",
              "</div>\n",
              "    </div>\n",
              "  </div>\n"
            ],
            "application/vnd.google.colaboratory.intrinsic+json": {
              "type": "dataframe",
              "variable_name": "X_val",
              "summary": "{\n  \"name\": \"X_val\",\n  \"rows\": 2000,\n  \"fields\": [\n    {\n      \"column\": \"Tweet\",\n      \"properties\": {\n        \"dtype\": \"string\",\n        \"num_unique_values\": 2000,\n        \"samples\": [\n          \"Performing tomorrow at the Harold Washington Cultural Center with @user come support the team \\n\",\n          \"@user ur terrorist is going to be hanged tomorrow Yakub. stop sending terrorist u failed nation!! \\n\",\n          \"@user if you get ungrounded tomorrow go to Lauren\\\\u2019s birthday kickback \\n\"\n        ],\n        \"semantic_type\": \"\",\n        \"description\": \"\"\n      }\n    }\n  ]\n}"
            }
          },
          "metadata": {},
          "execution_count": 10
        }
      ],
      "source": [
        "# Specify the path to your text file\n",
        "file_path = '/content/natural-language-processing/assignments/val_text.txt'\n",
        "\n",
        "# Read the text file into a list of strings (each line is an element in the list)\n",
        "with open(file_path, 'r', encoding='utf-8') as file:\n",
        "    lines = file.readlines()\n",
        "\n",
        "# Create a DataFrame with each line as a separate observation\n",
        "data = {'Tweet': lines}\n",
        "X_val = pd.DataFrame(data)\n",
        "\n",
        "# Display the DataFrame\n",
        "X_val.head()"
      ]
    },
    {
      "cell_type": "markdown",
      "id": "portable-departure",
      "metadata": {
        "id": "portable-departure"
      },
      "source": [
        "# A- Preprocing of the Data\n",
        "In the tweet data, the emoticon and emojis are really important to judge the impression of the twiter.So first thing to do as preprocessing is to convert emoticon and emojis to word. For each data set, we are goinf to applied the same preprocessing process."
      ]
    },
    {
      "cell_type": "markdown",
      "id": "advisory-stroke",
      "metadata": {
        "id": "advisory-stroke"
      },
      "source": [
        "## 1 - Convert the emoticons to word"
      ]
    },
    {
      "cell_type": "markdown",
      "id": "welsh-hindu",
      "metadata": {
        "id": "welsh-hindu"
      },
      "source": [
        "Here we save all the Emoticons and their description in the file emoticons_dict.txt"
      ]
    },
    {
      "cell_type": "code",
      "execution_count": null,
      "id": "cross-norway",
      "metadata": {
        "id": "cross-norway"
      },
      "outputs": [],
      "source": [
        "#file_path = 'emoticons_dict.txt'\n",
        "\n",
        "# with open(file_path, 'w', encoding='utf-8') as txt_file:\n",
        "#     for emoticon, description in EMOTICONS.items():\n",
        "#         txt_file.write(f\"{emoticon}: {description}\\n\")\n",
        "\n",
        "# print(f\"Emoticons and descriptions have been written to {file_path}\")\n"
      ]
    },
    {
      "cell_type": "code",
      "execution_count": null,
      "id": "elementary-business",
      "metadata": {
        "id": "elementary-business",
        "outputId": "9c803cba-1b96-476e-fe04-09c1ec4ed46a"
      },
      "outputs": [
        {
          "name": "stdout",
          "output_type": "stream",
          "text": [
            "Original text: I'm so happy! :D This is amazing! :-3\n",
            "Cleaned text: I'm so happy! [Laughing, big grin or laugh with glasses] This is amazing! [Happy face smiley]\n",
            "Cleaned text2: I'm so happy! Laughing big grin or laugh with glasses This is amazing! Happy face smiley\n"
          ]
        }
      ],
      "source": [
        "def load_emoticons_dict(file_path):\n",
        "\n",
        "    \"\"\" create a function that load our emoticon\n",
        "    file It take as input the path of the file and return the dictionnary \"\"\"\n",
        "\n",
        "    emoticons_dict = {}\n",
        "    with open(file_path, 'r', encoding='utf-8') as txt_file:\n",
        "        for line in txt_file:\n",
        "            emoticon, description = line.strip().split(': ')\n",
        "            emoticons_dict[emoticon] = description\n",
        "    return emoticons_dict\n",
        "\n",
        "def Replace_emoticons(text, emoticons_dict):\n",
        "\n",
        "    \"\"\"\n",
        "    return the description of emoticon in the text input\n",
        "\n",
        "    \"\"\"\n",
        "    for emoticon, description in emoticons_dict.items():\n",
        "        text = text.replace(emoticon, f'[{description}]')\n",
        "    return text\n",
        "\n",
        "def convert_emoticons(text,emoticons_dict ):\n",
        "\n",
        "    for emot in emoticons_dict:\n",
        "        text = re.sub(u'('+emot+')', \" \".join(emoticons_dict[emot].replace(\",\",\"\").split()), text)\n",
        "    return text\n",
        "\n",
        "# Load emoticons dictionary from the text file\n",
        "loaded_emoticons_dict = load_emoticons_dict('emoticons_dict.txt')\n",
        "\n",
        "# Example usage\n",
        "text_with_emoticons = \"I'm so happy! :D This is amazing! :-3\"\n",
        "cleaned_text = Replace_emoticons(text_with_emoticons,loaded_emoticons_dict)\n",
        "cleaned_text2 = convert_emoticons(text_with_emoticons, loaded_emoticons_dict )\n",
        "print(\"Original text:\", text_with_emoticons)\n",
        "print(\"Cleaned text:\", cleaned_text)\n",
        "print(\"Cleaned text2:\", cleaned_text2)\n"
      ]
    },
    {
      "cell_type": "code",
      "execution_count": null,
      "id": "portuguese-madness",
      "metadata": {
        "scrolled": true,
        "id": "portuguese-madness",
        "outputId": "175bd863-896c-46c4-a196-866cb46129c8"
      },
      "outputs": [
        {
          "data": {
            "text/plain": [
              "'I am sad Frown sad andry or pouting '"
            ]
          },
          "execution_count": 19,
          "metadata": {},
          "output_type": "execute_result"
        }
      ],
      "source": [
        "convert_emoticons(\"I am sad :( \",loaded_emoticons_dict)"
      ]
    },
    {
      "cell_type": "code",
      "execution_count": null,
      "id": "injured-binary",
      "metadata": {
        "id": "injured-binary",
        "outputId": "5df84ce3-3a63-44d4-ccf3-7f82bb4114e6"
      },
      "outputs": [
        {
          "data": {
            "text/plain": [
              "'I am sad :( '"
            ]
          },
          "execution_count": 20,
          "metadata": {},
          "output_type": "execute_result"
        }
      ],
      "source": [
        "Replace_emoticons(\"I am sad :( \", loaded_emoticons_dict)"
      ]
    },
    {
      "cell_type": "code",
      "execution_count": null,
      "id": "adjusted-animation",
      "metadata": {
        "id": "adjusted-animation",
        "outputId": "5a267156-70d9-4b2e-f892-ef398b10c89f"
      },
      "outputs": [
        {
          "data": {
            "text/plain": [
              "'I am happy [Happy face smiley]\\\\)'"
            ]
          },
          "execution_count": 21,
          "metadata": {},
          "output_type": "execute_result"
        }
      ],
      "source": [
        "Replace_emoticons(\"I am happy :-\\)\\)\", loaded_emoticons_dict)"
      ]
    },
    {
      "cell_type": "code",
      "execution_count": null,
      "id": "primary-promotion",
      "metadata": {
        "id": "primary-promotion",
        "outputId": "576ba41a-1547-4bfb-c559-3d8a4b4cee42"
      },
      "outputs": [
        {
          "data": {
            "text/plain": [
              "'I am happy :-\\\\Confusion\\\\Confusion'"
            ]
          },
          "execution_count": 22,
          "metadata": {},
          "output_type": "execute_result"
        }
      ],
      "source": [
        "convert_emoticons(\"I am happy :-\\)\\)\", loaded_emoticons_dict)"
      ]
    },
    {
      "cell_type": "markdown",
      "id": "reverse-universe",
      "metadata": {
        "id": "reverse-universe"
      },
      "source": [
        "We can notice that there are some emoticon that the first function convert well but don't convert well another.The second function replace don't reconnaisse another emoticon. we will apply the two function first the replace and then the convert.\n",
        "\n",
        "For each dataset we go through each line and applied ours functions."
      ]
    },
    {
      "cell_type": "markdown",
      "id": "athletic-validity",
      "metadata": {
        "id": "athletic-validity"
      },
      "source": [
        "### a- Apply replace_emoticons function it in the validation text"
      ]
    },
    {
      "cell_type": "code",
      "execution_count": null,
      "id": "mysterious-indication",
      "metadata": {
        "id": "mysterious-indication",
        "outputId": "abc8dd0c-861b-4b47-8947-9031610f5ad8"
      },
      "outputs": [
        {
          "data": {
            "text/html": [
              "<div>\n",
              "<style scoped>\n",
              "    .dataframe tbody tr th:only-of-type {\n",
              "        vertical-align: middle;\n",
              "    }\n",
              "\n",
              "    .dataframe tbody tr th {\n",
              "        vertical-align: top;\n",
              "    }\n",
              "\n",
              "    .dataframe thead th {\n",
              "        text-align: right;\n",
              "    }\n",
              "</style>\n",
              "<table border=\"1\" class=\"dataframe\">\n",
              "  <thead>\n",
              "    <tr style=\"text-align: right;\">\n",
              "      <th></th>\n",
              "      <th>Tweet</th>\n",
              "    </tr>\n",
              "  </thead>\n",
              "  <tbody>\n",
              "    <tr>\n",
              "      <th>0</th>\n",
              "      <td>Dark Souls 3 April Launch Date Confirmed With ...</td>\n",
              "    </tr>\n",
              "    <tr>\n",
              "      <th>1</th>\n",
              "      <td>\"National hot dog day, national tequila day, t...</td>\n",
              "    </tr>\n",
              "    <tr>\n",
              "      <th>2</th>\n",
              "      <td>When girls become bandwagon fans of the Packer...</td>\n",
              "    </tr>\n",
              "    <tr>\n",
              "      <th>3</th>\n",
              "      <td>@user I may or may not have searched it up on ...</td>\n",
              "    </tr>\n",
              "    <tr>\n",
              "      <th>4</th>\n",
              "      <td>Here's your starting TUESDAY MORNING Line up a...</td>\n",
              "    </tr>\n",
              "  </tbody>\n",
              "</table>\n",
              "</div>"
            ],
            "text/plain": [
              "                                               Tweet\n",
              "0  Dark Souls 3 April Launch Date Confirmed With ...\n",
              "1  \"National hot dog day, national tequila day, t...\n",
              "2  When girls become bandwagon fans of the Packer...\n",
              "3  @user I may or may not have searched it up on ...\n",
              "4  Here's your starting TUESDAY MORNING Line up a..."
            ]
          },
          "execution_count": 23,
          "metadata": {},
          "output_type": "execute_result"
        }
      ],
      "source": [
        "# Create an empty dataset to store the result\n",
        "X_val_re_emoti = pd.DataFrame(index=range(X_val.shape[0]), columns=[\"Tweet\"])\n",
        "for i in range(X_val.shape[0]):\n",
        "    X_val_re_emoti[\"Tweet\"][i] = Replace_emoticons(X_val[\"Tweet\"][i], loaded_emoticons_dict)\n",
        "    X_val_re_emoti[\"Tweet\"][i] = convert_emoticons(X_val_re_emoti[\"Tweet\"][i], loaded_emoticons_dict)\n",
        "X_val_re_emoti.head()"
      ]
    },
    {
      "cell_type": "markdown",
      "id": "caring-personality",
      "metadata": {
        "id": "caring-personality"
      },
      "source": [
        "### b- Apply replace_emoticons function it in the text text"
      ]
    },
    {
      "cell_type": "code",
      "execution_count": null,
      "id": "mathematical-usage",
      "metadata": {
        "id": "mathematical-usage",
        "outputId": "dc7ae0f4-6e51-4ae7-ff6e-47d4042d06da"
      },
      "outputs": [
        {
          "data": {
            "text/html": [
              "<div>\n",
              "<style scoped>\n",
              "    .dataframe tbody tr th:only-of-type {\n",
              "        vertical-align: middle;\n",
              "    }\n",
              "\n",
              "    .dataframe tbody tr th {\n",
              "        vertical-align: top;\n",
              "    }\n",
              "\n",
              "    .dataframe thead th {\n",
              "        text-align: right;\n",
              "    }\n",
              "</style>\n",
              "<table border=\"1\" class=\"dataframe\">\n",
              "  <thead>\n",
              "    <tr style=\"text-align: right;\">\n",
              "      <th></th>\n",
              "      <th>Tweet</th>\n",
              "    </tr>\n",
              "  </thead>\n",
              "  <tbody>\n",
              "    <tr>\n",
              "      <th>0</th>\n",
              "      <td>@user @user what do these '1/2 naked pics' hav...</td>\n",
              "    </tr>\n",
              "    <tr>\n",
              "      <th>1</th>\n",
              "      <td>OH: “I had a blue penis while I was this” [pla...</td>\n",
              "    </tr>\n",
              "    <tr>\n",
              "      <th>2</th>\n",
              "      <td>@user @user That's coming, but I think the vic...</td>\n",
              "    </tr>\n",
              "    <tr>\n",
              "      <th>3</th>\n",
              "      <td>I think I may be finally in with the in crowd ...</td>\n",
              "    </tr>\n",
              "    <tr>\n",
              "      <th>4</th>\n",
              "      <td>@user Wow,first Hugo Chavez and now Fidel Cast...</td>\n",
              "    </tr>\n",
              "  </tbody>\n",
              "</table>\n",
              "</div>"
            ],
            "text/plain": [
              "                                               Tweet\n",
              "0  @user @user what do these '1/2 naked pics' hav...\n",
              "1  OH: “I had a blue penis while I was this” [pla...\n",
              "2  @user @user That's coming, but I think the vic...\n",
              "3  I think I may be finally in with the in crowd ...\n",
              "4  @user Wow,first Hugo Chavez and now Fidel Cast..."
            ]
          },
          "execution_count": 24,
          "metadata": {},
          "output_type": "execute_result"
        }
      ],
      "source": [
        "# Create an empty dataset to store the result\n",
        "X_test_re_emoti = pd.DataFrame(index=range(X_test.shape[0]), columns=[\"Tweet\"])\n",
        "for i in range(X_test.shape[0]):\n",
        "    X_test_re_emoti[\"Tweet\"][i] = Replace_emoticons(X_test[\"Tweet\"][i], loaded_emoticons_dict)\n",
        "    X_test_re_emoti[\"Tweet\"][i] = convert_emoticons(X_test_re_emoti[\"Tweet\"][i], loaded_emoticons_dict)\n",
        "X_test_re_emoti.head()"
      ]
    },
    {
      "cell_type": "markdown",
      "id": "extensive-awareness",
      "metadata": {
        "id": "extensive-awareness"
      },
      "source": [
        "### c- Apply replace_emoticons function it in the train text¶"
      ]
    },
    {
      "cell_type": "code",
      "execution_count": null,
      "id": "neural-range",
      "metadata": {
        "id": "neural-range",
        "outputId": "724a5873-186e-4ff0-c304-2d35d942c4a0"
      },
      "outputs": [
        {
          "data": {
            "text/html": [
              "<div>\n",
              "<style scoped>\n",
              "    .dataframe tbody tr th:only-of-type {\n",
              "        vertical-align: middle;\n",
              "    }\n",
              "\n",
              "    .dataframe tbody tr th {\n",
              "        vertical-align: top;\n",
              "    }\n",
              "\n",
              "    .dataframe thead th {\n",
              "        text-align: right;\n",
              "    }\n",
              "</style>\n",
              "<table border=\"1\" class=\"dataframe\">\n",
              "  <thead>\n",
              "    <tr style=\"text-align: right;\">\n",
              "      <th></th>\n",
              "      <th>Tweet</th>\n",
              "    </tr>\n",
              "  </thead>\n",
              "  <tbody>\n",
              "    <tr>\n",
              "      <th>0</th>\n",
              "      <td>\"QT @user In the original draft of the 7th boo...</td>\n",
              "    </tr>\n",
              "    <tr>\n",
              "      <th>1</th>\n",
              "      <td>\"Ben Smith / Smith (concussionConfusion remain...</td>\n",
              "    </tr>\n",
              "    <tr>\n",
              "      <th>2</th>\n",
              "      <td>Sorry bout the stream last night I crashed out...</td>\n",
              "    </tr>\n",
              "    <tr>\n",
              "      <th>3</th>\n",
              "      <td>Chase Headley's RBI double in the 8th inning o...</td>\n",
              "    </tr>\n",
              "    <tr>\n",
              "      <th>4</th>\n",
              "      <td>@user Alciato: Bee will invest 150 million in ...</td>\n",
              "    </tr>\n",
              "  </tbody>\n",
              "</table>\n",
              "</div>"
            ],
            "text/plain": [
              "                                               Tweet\n",
              "0  \"QT @user In the original draft of the 7th boo...\n",
              "1  \"Ben Smith / Smith (concussionConfusion remain...\n",
              "2  Sorry bout the stream last night I crashed out...\n",
              "3  Chase Headley's RBI double in the 8th inning o...\n",
              "4  @user Alciato: Bee will invest 150 million in ..."
            ]
          },
          "execution_count": 79,
          "metadata": {},
          "output_type": "execute_result"
        }
      ],
      "source": [
        "# Create an empty dataset to store the result\n",
        "X_train_re_emoti = pd.DataFrame(index=range(X_train.shape[0]), columns=[\"Tweet\"])\n",
        "for i in range(X_test.shape[0]):\n",
        "    X_train_re_emoti[\"Tweet\"][i] = Replace_emoticons(X_train[\"Tweet\"][i], loaded_emoticons_dict)\n",
        "    X_train_re_emoti[\"Tweet\"][i] = convert_emoticons(X_train_re_emoti[\"Tweet\"][i], loaded_emoticons_dict)\n",
        "X_train_re_emoti.head()"
      ]
    },
    {
      "cell_type": "markdown",
      "id": "secondary-thumbnail",
      "metadata": {
        "id": "secondary-thumbnail"
      },
      "source": [
        "Verifie if the function work well with one observation.\n"
      ]
    },
    {
      "cell_type": "code",
      "execution_count": null,
      "id": "aware-matrix",
      "metadata": {
        "id": "aware-matrix",
        "outputId": "23a65a6f-0c5f-4083-8f60-45f54e495e66"
      },
      "outputs": [
        {
          "data": {
            "text/plain": [
              "'Super excited for homecoming Saturday with Monroe! :D my new nephew is here but I can\\\\u2019t see him :( \\n'"
            ]
          },
          "execution_count": 26,
          "metadata": {},
          "output_type": "execute_result"
        }
      ],
      "source": [
        "X_train[\"Tweet\"][12]"
      ]
    },
    {
      "cell_type": "code",
      "execution_count": null,
      "id": "narrow-thumb",
      "metadata": {
        "id": "narrow-thumb",
        "outputId": "9204be97-1023-407e-cf2a-748e9b0f8e4d"
      },
      "outputs": [
        {
          "data": {
            "text/plain": [
              "'Super excited for homecoming Saturday with Monroe! [Laughing, big grin or laugh with glasses] my new nephew is here but I can\\\\u2019t see him Frown sad andry or pouting \\n'"
            ]
          },
          "execution_count": 27,
          "metadata": {},
          "output_type": "execute_result"
        }
      ],
      "source": [
        "X_train_re_emoti[\"Tweet\"][12]"
      ]
    },
    {
      "cell_type": "markdown",
      "id": "developed-failure",
      "metadata": {
        "id": "developed-failure"
      },
      "source": [
        "## 2 - Convert the emojis to word\n",
        "We did the same thing as we the emoticon"
      ]
    },
    {
      "cell_type": "code",
      "execution_count": null,
      "id": "congressional-agreement",
      "metadata": {
        "id": "congressional-agreement"
      },
      "outputs": [],
      "source": [
        "#file_path = 'emojis_dict.txt'\n",
        "\n",
        "# with open(file_path, 'w', encoding='utf-8') as txt_file:\n",
        "#     for emoji, description in UNICODE_EMO.items():\n",
        "#         txt_file.write(f\"{emoji}: {description}\\n\")\n",
        "\n",
        "# print(f\"Emoticons and descriptions have been written to {file_path}\")"
      ]
    },
    {
      "cell_type": "code",
      "execution_count": null,
      "id": "requested-railway",
      "metadata": {
        "id": "requested-railway",
        "outputId": "55d1dffb-138c-4867-b374-e091d874b300"
      },
      "outputs": [
        {
          "name": "stdout",
          "output_type": "stream",
          "text": [
            "Original text: game is on 🔥\n",
            "Cleaned text: game is on [:fire:]\n"
          ]
        }
      ],
      "source": [
        "def load_emoji_dict(file_path):\n",
        "\n",
        "    \"\"\" create a function that load our emoji\n",
        "    file It take as input the path of the file and return the dictionnary \"\"\"\n",
        "\n",
        "    emojis_dict = {}\n",
        "    with open(file_path, 'r', encoding='utf-8') as txt_file:\n",
        "        for line in txt_file:\n",
        "            emoji, description = line.strip().split(': ')\n",
        "            emojis_dict[emoji] = description\n",
        "    return emojis_dict\n",
        "\n",
        "def replace_emojis(text,emojis_dict ):\n",
        "\n",
        "    \"\"\"\n",
        "    return the description of emoji in the text input\n",
        "\n",
        "    \"\"\"\n",
        "    for emoji, description in emojis_dict.items():\n",
        "        text = text.replace(emoji, f'[{description}]')\n",
        "    return text\n",
        "\n",
        "def convert_emojis(text,emojis_dict ):\n",
        "    for emot in emojis_dict:\n",
        "        text = re.sub(r'('+emot+')', \"_\".join(emojis_dict[emot].replace(\",\",\"\").replace(\":\",\"\").split()), text)\n",
        "    return text\n",
        "\n",
        "# Load emoticons dictionary from the text file\n",
        "loaded_emojis_dict = load_emoji_dict('emojis_dict.txt')\n",
        "\n",
        "# Example usage\n",
        "text_with_emoji = \"game is on 🔥\"\n",
        "cleaned_text = replace_emojis(text_with_emoji, loaded_emojis_dict)\n",
        "\n",
        "print(\"Original text:\", text_with_emoji)\n",
        "print(\"Cleaned text:\", cleaned_text)"
      ]
    },
    {
      "cell_type": "markdown",
      "id": "intellectual-table",
      "metadata": {
        "id": "intellectual-table"
      },
      "source": [
        "In the result data where we replace emoticon by\n",
        "their description in word we apply the function replace_emojis which replace the emojis to their descriptions."
      ]
    },
    {
      "cell_type": "markdown",
      "id": "independent-outline",
      "metadata": {
        "id": "independent-outline"
      },
      "source": [
        "### a- Apply replace_emojis function it in the validation text\n"
      ]
    },
    {
      "cell_type": "code",
      "execution_count": null,
      "id": "coordinated-radio",
      "metadata": {
        "id": "coordinated-radio",
        "outputId": "078a31a9-02b9-4e3d-cead-7e1cbcd04d60"
      },
      "outputs": [
        {
          "data": {
            "text/html": [
              "<div>\n",
              "<style scoped>\n",
              "    .dataframe tbody tr th:only-of-type {\n",
              "        vertical-align: middle;\n",
              "    }\n",
              "\n",
              "    .dataframe tbody tr th {\n",
              "        vertical-align: top;\n",
              "    }\n",
              "\n",
              "    .dataframe thead th {\n",
              "        text-align: right;\n",
              "    }\n",
              "</style>\n",
              "<table border=\"1\" class=\"dataframe\">\n",
              "  <thead>\n",
              "    <tr style=\"text-align: right;\">\n",
              "      <th></th>\n",
              "      <th>Tweet</th>\n",
              "    </tr>\n",
              "  </thead>\n",
              "  <tbody>\n",
              "    <tr>\n",
              "      <th>0</th>\n",
              "      <td>Dark Souls 3 April Launch Date Confirmed With ...</td>\n",
              "    </tr>\n",
              "    <tr>\n",
              "      <th>1</th>\n",
              "      <td>\"National hot dog day, national tequila day, t...</td>\n",
              "    </tr>\n",
              "    <tr>\n",
              "      <th>2</th>\n",
              "      <td>When girls become bandwagon fans of the Packer...</td>\n",
              "    </tr>\n",
              "    <tr>\n",
              "      <th>3</th>\n",
              "      <td>@user I may or may not have searched it up on ...</td>\n",
              "    </tr>\n",
              "    <tr>\n",
              "      <th>4</th>\n",
              "      <td>Here's your starting TUESDAY MORNING Line up a...</td>\n",
              "    </tr>\n",
              "  </tbody>\n",
              "</table>\n",
              "</div>"
            ],
            "text/plain": [
              "                                               Tweet\n",
              "0  Dark Souls 3 April Launch Date Confirmed With ...\n",
              "1  \"National hot dog day, national tequila day, t...\n",
              "2  When girls become bandwagon fans of the Packer...\n",
              "3  @user I may or may not have searched it up on ...\n",
              "4  Here's your starting TUESDAY MORNING Line up a..."
            ]
          },
          "execution_count": 30,
          "metadata": {},
          "output_type": "execute_result"
        }
      ],
      "source": [
        "# Create an empty dataset to store the result\n",
        "X_val_re_emoji = pd.DataFrame(index=range(X_val_re_emoti.shape[0]), columns=[\"Tweet\"])\n",
        "for i in range(X_val.shape[0]):\n",
        "    X_val_re_emoji[\"Tweet\"][i] = replace_emojis(X_val_re_emoti[\"Tweet\"][i], loaded_emojis_dict)\n",
        "X_val_re_emoji.head()"
      ]
    },
    {
      "cell_type": "markdown",
      "id": "innovative-album",
      "metadata": {
        "id": "innovative-album"
      },
      "source": [
        "### b- Apply replace_emojis function it in the test text"
      ]
    },
    {
      "cell_type": "code",
      "execution_count": null,
      "id": "interstate-blake",
      "metadata": {
        "id": "interstate-blake",
        "outputId": "9a233b72-b1be-4888-b4ee-631c06c7f569"
      },
      "outputs": [
        {
          "data": {
            "text/html": [
              "<div>\n",
              "<style scoped>\n",
              "    .dataframe tbody tr th:only-of-type {\n",
              "        vertical-align: middle;\n",
              "    }\n",
              "\n",
              "    .dataframe tbody tr th {\n",
              "        vertical-align: top;\n",
              "    }\n",
              "\n",
              "    .dataframe thead th {\n",
              "        text-align: right;\n",
              "    }\n",
              "</style>\n",
              "<table border=\"1\" class=\"dataframe\">\n",
              "  <thead>\n",
              "    <tr style=\"text-align: right;\">\n",
              "      <th></th>\n",
              "      <th>Tweet</th>\n",
              "    </tr>\n",
              "  </thead>\n",
              "  <tbody>\n",
              "    <tr>\n",
              "      <th>0</th>\n",
              "      <td>@user @user what do these '1/2 naked pics' hav...</td>\n",
              "    </tr>\n",
              "    <tr>\n",
              "      <th>1</th>\n",
              "      <td>OH: “I had a blue penis while I was this” [pla...</td>\n",
              "    </tr>\n",
              "    <tr>\n",
              "      <th>2</th>\n",
              "      <td>@user @user That's coming, but I think the vic...</td>\n",
              "    </tr>\n",
              "    <tr>\n",
              "      <th>3</th>\n",
              "      <td>I think I may be finally in with the in crowd ...</td>\n",
              "    </tr>\n",
              "    <tr>\n",
              "      <th>4</th>\n",
              "      <td>@user Wow,first Hugo Chavez and now Fidel Cast...</td>\n",
              "    </tr>\n",
              "  </tbody>\n",
              "</table>\n",
              "</div>"
            ],
            "text/plain": [
              "                                               Tweet\n",
              "0  @user @user what do these '1/2 naked pics' hav...\n",
              "1  OH: “I had a blue penis while I was this” [pla...\n",
              "2  @user @user That's coming, but I think the vic...\n",
              "3  I think I may be finally in with the in crowd ...\n",
              "4  @user Wow,first Hugo Chavez and now Fidel Cast..."
            ]
          },
          "execution_count": 31,
          "metadata": {},
          "output_type": "execute_result"
        }
      ],
      "source": [
        "# Create an empty dataset to store the result\n",
        "X_test_re_emoji = pd.DataFrame(index=range(X_test_re_emoti.shape[0]), columns=[\"Tweet\"])\n",
        "for i in range(X_test.shape[0]):\n",
        "    X_test_re_emoji[\"Tweet\"][i] = replace_emojis(X_test_re_emoti[\"Tweet\"][i], loaded_emojis_dict)\n",
        "X_test_re_emoji.head()"
      ]
    },
    {
      "cell_type": "markdown",
      "id": "controlling-highlight",
      "metadata": {
        "id": "controlling-highlight"
      },
      "source": [
        "We verifie in two observations in the dataset"
      ]
    },
    {
      "cell_type": "code",
      "execution_count": null,
      "id": "generous-bennett",
      "metadata": {
        "id": "generous-bennett",
        "outputId": "f18e5bb0-cdf2-4589-9e8c-5398d7ca461f"
      },
      "outputs": [
        {
          "data": {
            "text/plain": [
              "'How many more days until opening day? 😩 \\n'"
            ]
          },
          "execution_count": 32,
          "metadata": {},
          "output_type": "execute_result"
        }
      ],
      "source": [
        "X_test_re_emoti[\"Tweet\"][6]"
      ]
    },
    {
      "cell_type": "code",
      "execution_count": null,
      "id": "reduced-voice",
      "metadata": {
        "id": "reduced-voice",
        "outputId": "b6d9356e-fda7-400d-b212-7c7a5957d970"
      },
      "outputs": [
        {
          "data": {
            "text/plain": [
              "'How many more days until opening day? [:weary_face:] \\n'"
            ]
          },
          "execution_count": 33,
          "metadata": {},
          "output_type": "execute_result"
        }
      ],
      "source": [
        "X_test_re_emoji[\"Tweet\"][6]"
      ]
    },
    {
      "cell_type": "code",
      "execution_count": null,
      "id": "given-performance",
      "metadata": {
        "id": "given-performance",
        "outputId": "b22f520f-333e-451d-b6d1-796c57318944"
      },
      "outputs": [
        {
          "data": {
            "text/plain": [
              "'Spirit of my silence i can hear you. But im afraid to be near you. #ThisIsUs 😍😍😍 \\n'"
            ]
          },
          "execution_count": 34,
          "metadata": {},
          "output_type": "execute_result"
        }
      ],
      "source": [
        "X_test_re_emoti[\"Tweet\"][269]"
      ]
    },
    {
      "cell_type": "code",
      "execution_count": null,
      "id": "behavioral-attribute",
      "metadata": {
        "id": "behavioral-attribute",
        "outputId": "4a7b2cf0-ac54-4333-b671-a00b53c84d83"
      },
      "outputs": [
        {
          "data": {
            "text/plain": [
              "'Spirit of my silence i can hear you. But im afraid to be near you. #ThisIsUs [:smiling_face_with_heart-eyes:][:smiling_face_with_heart-eyes:][:smiling_face_with_heart-eyes:] \\n'"
            ]
          },
          "execution_count": 35,
          "metadata": {},
          "output_type": "execute_result"
        }
      ],
      "source": [
        "X_test_re_emoji[\"Tweet\"][269]"
      ]
    },
    {
      "cell_type": "code",
      "execution_count": null,
      "id": "prompt-probe",
      "metadata": {
        "id": "prompt-probe",
        "outputId": "048065e1-65b9-41c0-ec7c-cc932e215110"
      },
      "outputs": [
        {
          "data": {
            "text/plain": [
              "Tweet    0\n",
              "dtype: int64"
            ]
          },
          "execution_count": 86,
          "metadata": {},
          "output_type": "execute_result"
        }
      ],
      "source": [
        "X_train_re_emoti.isna().sum()"
      ]
    },
    {
      "cell_type": "markdown",
      "id": "applicable-large",
      "metadata": {
        "id": "applicable-large"
      },
      "source": [
        "### c- Apply replace_emojis function it in the train text"
      ]
    },
    {
      "cell_type": "code",
      "execution_count": null,
      "id": "spectacular-yellow",
      "metadata": {
        "id": "spectacular-yellow",
        "outputId": "03957501-9f3b-43ab-e9ef-d056f22f1dd9"
      },
      "outputs": [
        {
          "data": {
            "text/html": [
              "<div>\n",
              "<style scoped>\n",
              "    .dataframe tbody tr th:only-of-type {\n",
              "        vertical-align: middle;\n",
              "    }\n",
              "\n",
              "    .dataframe tbody tr th {\n",
              "        vertical-align: top;\n",
              "    }\n",
              "\n",
              "    .dataframe thead th {\n",
              "        text-align: right;\n",
              "    }\n",
              "</style>\n",
              "<table border=\"1\" class=\"dataframe\">\n",
              "  <thead>\n",
              "    <tr style=\"text-align: right;\">\n",
              "      <th></th>\n",
              "      <th>Tweet</th>\n",
              "    </tr>\n",
              "  </thead>\n",
              "  <tbody>\n",
              "    <tr>\n",
              "      <th>0</th>\n",
              "      <td></td>\n",
              "    </tr>\n",
              "    <tr>\n",
              "      <th>1</th>\n",
              "      <td></td>\n",
              "    </tr>\n",
              "    <tr>\n",
              "      <th>2</th>\n",
              "      <td></td>\n",
              "    </tr>\n",
              "    <tr>\n",
              "      <th>3</th>\n",
              "      <td></td>\n",
              "    </tr>\n",
              "    <tr>\n",
              "      <th>4</th>\n",
              "      <td></td>\n",
              "    </tr>\n",
              "  </tbody>\n",
              "</table>\n",
              "</div>"
            ],
            "text/plain": [
              "  Tweet\n",
              "0      \n",
              "1      \n",
              "2      \n",
              "3      \n",
              "4      "
            ]
          },
          "execution_count": 101,
          "metadata": {},
          "output_type": "execute_result"
        }
      ],
      "source": [
        "# Create an empty dataset to store the result\n",
        "X_train_re_emoji = pd.DataFrame(index=range(X_train_re_emoti.shape[0]), columns=[\"Tweet\"])\n",
        "\n",
        "# Check for missing values in the \"Tweet\" column\n",
        "#X_train_re_emoti[\"Tweet\"] = X_train_re_emoti[\"Tweet\"].fillna(\"\")\n",
        "\n",
        "for i in range(X_train.shape[0]):\n",
        "    X_train_re_emoji[\"Tweet\"]= replace_emojis(X_train_re_emoti[\"Tweet\"][i], loaded_emojis_dict)\n",
        "X_train_re_emoji.head()"
      ]
    },
    {
      "cell_type": "markdown",
      "id": "violent-nudist",
      "metadata": {
        "id": "violent-nudist"
      },
      "source": [
        "It seem like there isn't emojis in the train dataset."
      ]
    },
    {
      "cell_type": "markdown",
      "id": "directed-profile",
      "metadata": {
        "id": "directed-profile"
      },
      "source": [
        "## 3- Remove Punctuation"
      ]
    },
    {
      "cell_type": "markdown",
      "id": "marine-bridal",
      "metadata": {
        "id": "marine-bridal"
      },
      "source": [
        "We remove the punctuation in all our dataset the previous cleaning result.and create a new column call tweet_no_puntuation"
      ]
    },
    {
      "cell_type": "code",
      "execution_count": null,
      "id": "destroyed-arrest",
      "metadata": {
        "id": "destroyed-arrest"
      },
      "outputs": [],
      "source": [
        "PUNCT_TO_REMOVE = string.punctuation\n",
        "def remove_punctuation(text):\n",
        "    \"\"\"custom function to remove the punctuation\"\"\"\n",
        "    return text.translate(str.maketrans('', '', PUNCT_TO_REMOVE))"
      ]
    },
    {
      "cell_type": "code",
      "execution_count": null,
      "id": "regulation-congo",
      "metadata": {
        "id": "regulation-congo",
        "outputId": "ff707961-fdae-4112-dce1-a46b9feffe5f"
      },
      "outputs": [
        {
          "data": {
            "text/plain": [
              "'!\"#$%&\\'()*+,-./:;<=>?@[\\\\]^_`{|}~'"
            ]
          },
          "execution_count": 92,
          "metadata": {},
          "output_type": "execute_result"
        }
      ],
      "source": [
        "PUNCT_TO_REMOVE"
      ]
    },
    {
      "cell_type": "markdown",
      "id": "authorized-pantyhose",
      "metadata": {
        "id": "authorized-pantyhose"
      },
      "source": [
        "### a- Apply this function in validation data"
      ]
    },
    {
      "cell_type": "code",
      "execution_count": null,
      "id": "accessible-capacity",
      "metadata": {
        "id": "accessible-capacity",
        "outputId": "fa4a90ae-9267-4afe-8325-c6d1213cddbf"
      },
      "outputs": [
        {
          "data": {
            "text/html": [
              "<div>\n",
              "<style scoped>\n",
              "    .dataframe tbody tr th:only-of-type {\n",
              "        vertical-align: middle;\n",
              "    }\n",
              "\n",
              "    .dataframe tbody tr th {\n",
              "        vertical-align: top;\n",
              "    }\n",
              "\n",
              "    .dataframe thead th {\n",
              "        text-align: right;\n",
              "    }\n",
              "</style>\n",
              "<table border=\"1\" class=\"dataframe\">\n",
              "  <thead>\n",
              "    <tr style=\"text-align: right;\">\n",
              "      <th></th>\n",
              "      <th>Tweet</th>\n",
              "      <th>text_wo_punct</th>\n",
              "    </tr>\n",
              "  </thead>\n",
              "  <tbody>\n",
              "    <tr>\n",
              "      <th>0</th>\n",
              "      <td>\"QT @user In the original draft of the 7th boo...</td>\n",
              "      <td>QT user In the original draft of the 7th book ...</td>\n",
              "    </tr>\n",
              "    <tr>\n",
              "      <th>1</th>\n",
              "      <td>\"Ben Smith / Smith (concussionConfusion remain...</td>\n",
              "      <td>Ben Smith  Smith concussionConfusion remains o...</td>\n",
              "    </tr>\n",
              "    <tr>\n",
              "      <th>2</th>\n",
              "      <td>Sorry bout the stream last night I crashed out...</td>\n",
              "      <td>Sorry bout the stream last night I crashed out...</td>\n",
              "    </tr>\n",
              "    <tr>\n",
              "      <th>3</th>\n",
              "      <td>Chase Headley's RBI double in the 8th inning o...</td>\n",
              "      <td>Chase Headleys RBI double in the 8th inning of...</td>\n",
              "    </tr>\n",
              "    <tr>\n",
              "      <th>4</th>\n",
              "      <td>@user Alciato: Bee will invest 150 million in ...</td>\n",
              "      <td>user Alciato Bee will invest 150 million in Ja...</td>\n",
              "    </tr>\n",
              "  </tbody>\n",
              "</table>\n",
              "</div>"
            ],
            "text/plain": [
              "                                               Tweet  \\\n",
              "0  \"QT @user In the original draft of the 7th boo...   \n",
              "1  \"Ben Smith / Smith (concussionConfusion remain...   \n",
              "2  Sorry bout the stream last night I crashed out...   \n",
              "3  Chase Headley's RBI double in the 8th inning o...   \n",
              "4  @user Alciato: Bee will invest 150 million in ...   \n",
              "\n",
              "                                       text_wo_punct  \n",
              "0  QT user In the original draft of the 7th book ...  \n",
              "1  Ben Smith  Smith concussionConfusion remains o...  \n",
              "2  Sorry bout the stream last night I crashed out...  \n",
              "3  Chase Headleys RBI double in the 8th inning of...  \n",
              "4  user Alciato Bee will invest 150 million in Ja...  "
            ]
          },
          "execution_count": 97,
          "metadata": {},
          "output_type": "execute_result"
        }
      ],
      "source": [
        "X_Train = X_train_re_emoti\n",
        "\n",
        "# Check for missing values in the \"Tweet\" column\n",
        "X_Train[\"Tweet\"] = X_Train[\"Tweet\"].fillna(\"\")\n",
        "\n",
        "X_Train[\"text_wo_punct\"] = X_Train[\"Tweet\"].apply(lambda Tweet: remove_punctuation(Tweet))\n",
        "X_Train.head()"
      ]
    },
    {
      "cell_type": "markdown",
      "id": "julian-utility",
      "metadata": {
        "id": "julian-utility"
      },
      "source": [
        "### b- Apply this function in test data"
      ]
    },
    {
      "cell_type": "code",
      "execution_count": null,
      "id": "beginning-contents",
      "metadata": {
        "id": "beginning-contents",
        "outputId": "309df34c-6943-4e21-fc3c-d8a7bf86d709"
      },
      "outputs": [
        {
          "data": {
            "text/html": [
              "<div>\n",
              "<style scoped>\n",
              "    .dataframe tbody tr th:only-of-type {\n",
              "        vertical-align: middle;\n",
              "    }\n",
              "\n",
              "    .dataframe tbody tr th {\n",
              "        vertical-align: top;\n",
              "    }\n",
              "\n",
              "    .dataframe thead th {\n",
              "        text-align: right;\n",
              "    }\n",
              "</style>\n",
              "<table border=\"1\" class=\"dataframe\">\n",
              "  <thead>\n",
              "    <tr style=\"text-align: right;\">\n",
              "      <th></th>\n",
              "      <th>Tweet</th>\n",
              "      <th>text_wo_punct</th>\n",
              "    </tr>\n",
              "  </thead>\n",
              "  <tbody>\n",
              "    <tr>\n",
              "      <th>0</th>\n",
              "      <td>@user @user what do these '1/2 naked pics' hav...</td>\n",
              "      <td>user user what do these 12 naked pics have to ...</td>\n",
              "    </tr>\n",
              "    <tr>\n",
              "      <th>1</th>\n",
              "      <td>OH: “I had a blue penis while I was this” [pla...</td>\n",
              "      <td>OH “I had a blue penis while I was this” playi...</td>\n",
              "    </tr>\n",
              "    <tr>\n",
              "      <th>2</th>\n",
              "      <td>@user @user That's coming, but I think the vic...</td>\n",
              "      <td>user user Thats coming but I think the victims...</td>\n",
              "    </tr>\n",
              "    <tr>\n",
              "      <th>3</th>\n",
              "      <td>I think I may be finally in with the in crowd ...</td>\n",
              "      <td>I think I may be finally in with the in crowd ...</td>\n",
              "    </tr>\n",
              "    <tr>\n",
              "      <th>4</th>\n",
              "      <td>@user Wow,first Hugo Chavez and now Fidel Cast...</td>\n",
              "      <td>user Wowfirst Hugo Chavez and now Fidel Castro...</td>\n",
              "    </tr>\n",
              "  </tbody>\n",
              "</table>\n",
              "</div>"
            ],
            "text/plain": [
              "                                               Tweet  \\\n",
              "0  @user @user what do these '1/2 naked pics' hav...   \n",
              "1  OH: “I had a blue penis while I was this” [pla...   \n",
              "2  @user @user That's coming, but I think the vic...   \n",
              "3  I think I may be finally in with the in crowd ...   \n",
              "4  @user Wow,first Hugo Chavez and now Fidel Cast...   \n",
              "\n",
              "                                       text_wo_punct  \n",
              "0  user user what do these 12 naked pics have to ...  \n",
              "1  OH “I had a blue penis while I was this” playi...  \n",
              "2  user user Thats coming but I think the victims...  \n",
              "3  I think I may be finally in with the in crowd ...  \n",
              "4  user Wowfirst Hugo Chavez and now Fidel Castro...  "
            ]
          },
          "execution_count": 89,
          "metadata": {},
          "output_type": "execute_result"
        }
      ],
      "source": [
        "X_Test =  X_test_re_emoji\n",
        "X_Test[\"text_wo_punct\"] = X_Test[\"Tweet\"].apply(lambda Tweet: remove_punctuation(Tweet))\n",
        "X_Test.head()"
      ]
    },
    {
      "cell_type": "markdown",
      "id": "demographic-discharge",
      "metadata": {
        "id": "demographic-discharge"
      },
      "source": [
        "### c- Apply this function in train data"
      ]
    },
    {
      "cell_type": "code",
      "execution_count": null,
      "id": "monthly-spread",
      "metadata": {
        "id": "monthly-spread",
        "outputId": "f795f1dd-bba2-491f-dc02-d61ea6b442fe"
      },
      "outputs": [
        {
          "data": {
            "text/html": [
              "<div>\n",
              "<style scoped>\n",
              "    .dataframe tbody tr th:only-of-type {\n",
              "        vertical-align: middle;\n",
              "    }\n",
              "\n",
              "    .dataframe tbody tr th {\n",
              "        vertical-align: top;\n",
              "    }\n",
              "\n",
              "    .dataframe thead th {\n",
              "        text-align: right;\n",
              "    }\n",
              "</style>\n",
              "<table border=\"1\" class=\"dataframe\">\n",
              "  <thead>\n",
              "    <tr style=\"text-align: right;\">\n",
              "      <th></th>\n",
              "      <th>Tweet</th>\n",
              "      <th>text_wo_punct</th>\n",
              "    </tr>\n",
              "  </thead>\n",
              "  <tbody>\n",
              "    <tr>\n",
              "      <th>0</th>\n",
              "      <td>Dark Souls 3 April Launch Date Confirmed With ...</td>\n",
              "      <td>Dark Souls 3 April Launch Date Confirmed With ...</td>\n",
              "    </tr>\n",
              "    <tr>\n",
              "      <th>1</th>\n",
              "      <td>\"National hot dog day, national tequila day, t...</td>\n",
              "      <td>National hot dog day national tequila day then...</td>\n",
              "    </tr>\n",
              "    <tr>\n",
              "      <th>2</th>\n",
              "      <td>When girls become bandwagon fans of the Packer...</td>\n",
              "      <td>When girls become bandwagon fans of the Packer...</td>\n",
              "    </tr>\n",
              "    <tr>\n",
              "      <th>3</th>\n",
              "      <td>@user I may or may not have searched it up on ...</td>\n",
              "      <td>user I may or may not have searched it up on g...</td>\n",
              "    </tr>\n",
              "    <tr>\n",
              "      <th>4</th>\n",
              "      <td>Here's your starting TUESDAY MORNING Line up a...</td>\n",
              "      <td>Heres your starting TUESDAY MORNING Line up at...</td>\n",
              "    </tr>\n",
              "  </tbody>\n",
              "</table>\n",
              "</div>"
            ],
            "text/plain": [
              "                                               Tweet  \\\n",
              "0  Dark Souls 3 April Launch Date Confirmed With ...   \n",
              "1  \"National hot dog day, national tequila day, t...   \n",
              "2  When girls become bandwagon fans of the Packer...   \n",
              "3  @user I may or may not have searched it up on ...   \n",
              "4  Here's your starting TUESDAY MORNING Line up a...   \n",
              "\n",
              "                                       text_wo_punct  \n",
              "0  Dark Souls 3 April Launch Date Confirmed With ...  \n",
              "1  National hot dog day national tequila day then...  \n",
              "2  When girls become bandwagon fans of the Packer...  \n",
              "3  user I may or may not have searched it up on g...  \n",
              "4  Heres your starting TUESDAY MORNING Line up at...  "
            ]
          },
          "execution_count": 90,
          "metadata": {},
          "output_type": "execute_result"
        }
      ],
      "source": [
        "X_Val =  X_val_re_emoji\n",
        "X_Val[\"text_wo_punct\"] = X_Val[\"Tweet\"].apply(lambda Tweet: remove_punctuation(Tweet))\n",
        "X_Val.head()"
      ]
    },
    {
      "cell_type": "code",
      "execution_count": null,
      "id": "entire-vulnerability",
      "metadata": {
        "id": "entire-vulnerability"
      },
      "outputs": [],
      "source": []
    },
    {
      "cell_type": "markdown",
      "id": "clean-louis",
      "metadata": {
        "id": "clean-louis"
      },
      "source": [
        "## 4- Find Non Alphanumeric"
      ]
    },
    {
      "cell_type": "code",
      "execution_count": null,
      "id": "desirable-importance",
      "metadata": {
        "id": "desirable-importance"
      },
      "outputs": [],
      "source": [
        "def find_non_apl_words(text):\n",
        "    tokens = text.strip().split()\n",
        "    return [t for t in tokens if not re.match(r'[^\\W\\d]*$',\n",
        "                                              t.translate(str.maketrans('', '', r'\\.\\\"\\,\\?\\!\\@\\'()'))\n",
        "                                             )]"
      ]
    },
    {
      "cell_type": "code",
      "execution_count": null,
      "id": "quantitative-findings",
      "metadata": {
        "id": "quantitative-findings",
        "outputId": "7df195b9-d7af-4d81-fb48-86e1f7d368a7"
      },
      "outputs": [
        {
          "data": {
            "text/plain": [
              "0        [7th, #HappyBirthdayRemusLupin\"]\n",
              "1                         [/, #NHL, #SJ\"]\n",
              "2                                      []\n",
              "3                               [8th, 33]\n",
              "4             [Alciato:, 150, 200, 2017\"]\n",
              "                       ...               \n",
              "45610                                  []\n",
              "45611                                  []\n",
              "45612                                  []\n",
              "45613                                  []\n",
              "45614                                  []\n",
              "Name: Tweet, Length: 45615, dtype: object"
            ]
          },
          "execution_count": 98,
          "metadata": {},
          "output_type": "execute_result"
        }
      ],
      "source": [
        "# Create an empty dataset to store the result\n",
        "X_train_non_apha_num = pd.DataFrame(index=range(X_Train.shape[0]), columns=[\"Tweet\"])\n",
        "X_train_non_apha_num = X_Train['Tweet'].apply(lambda x: find_non_apl_words(x))\n",
        "X_val_non_apha_num"
      ]
    },
    {
      "cell_type": "markdown",
      "id": "olympic-earth",
      "metadata": {
        "id": "olympic-earth"
      },
      "source": [
        "### b- Apply this function in test data"
      ]
    },
    {
      "cell_type": "code",
      "execution_count": null,
      "id": "novel-bridge",
      "metadata": {
        "scrolled": true,
        "id": "novel-bridge",
        "outputId": "cd342b29-04e5-4e37-a4a9-4173fd8f2819"
      },
      "outputs": [
        {
          "data": {
            "text/plain": [
              "0                                                   ['1/2]\n",
              "1                          [OH:, “I, this”, [playing, VR]]\n",
              "2                                                       []\n",
              "3                        [#mannequinchallenge, #grads2014]\n",
              "4                                                       []\n",
              "                               ...                        \n",
              "12279                            [Editorial:, FBI’s, ‘had]\n",
              "12280                                           [#vanessa]\n",
              "12281    [#latestnews, 4, #newmexico, #politics, +, #na...\n",
              "12282                                           [#caveman]\n",
              "12283                                                   []\n",
              "Name: Tweet, Length: 12284, dtype: object"
            ]
          },
          "execution_count": 103,
          "metadata": {},
          "output_type": "execute_result"
        }
      ],
      "source": [
        "# Create an empty dataset to store the result\n",
        "X_test_non_apha_num = pd.DataFrame(index=range(X_Test.shape[0]), columns=[\"Tweet\"])\n",
        "X_test_non_apha_num = X_Test['Tweet'].apply(lambda x: find_non_apl_words(x))\n",
        "X_test_non_apha_num"
      ]
    },
    {
      "cell_type": "code",
      "execution_count": null,
      "id": "controversial-greeting",
      "metadata": {
        "id": "controversial-greeting"
      },
      "outputs": [],
      "source": [
        "X_Test['Tweet'][0]"
      ]
    },
    {
      "cell_type": "markdown",
      "id": "purple-former",
      "metadata": {
        "id": "purple-former"
      },
      "source": [
        "### c- Apply this function in train data"
      ]
    },
    {
      "cell_type": "code",
      "execution_count": null,
      "id": "color-lottery",
      "metadata": {
        "id": "color-lottery",
        "outputId": "e59b871b-cb9a-4ff2-80f9-2e14155d93d5"
      },
      "outputs": [
        {
          "data": {
            "text/plain": [
              "0                                 [3, Trailer:]\n",
              "1                                            []\n",
              "2                                         [1st]\n",
              "3                                            []\n",
              "4       [9[Happy, smiley]0, 10[Happy, smiley]0]\n",
              "                         ...                   \n",
              "1995                                         []\n",
              "1996                                         []\n",
              "1997               [#007, #SPECTRE, #JamesBond]\n",
              "1998                [5, [Skeptical,, hesitant]]\n",
              "1999                                     [16th]\n",
              "Name: Tweet, Length: 2000, dtype: object"
            ]
          },
          "execution_count": 104,
          "metadata": {},
          "output_type": "execute_result"
        }
      ],
      "source": [
        "# Create an empty dataset to store the result\n",
        "X_val_non_apha_num = pd.DataFrame(index=range(X_Val.shape[0]), columns=[\"Tweet\"])\n",
        "X_val_non_apha_num = X_Val['Tweet'].apply(lambda x: find_non_apl_words(x))\n",
        "X_val_non_apha_num"
      ]
    },
    {
      "cell_type": "markdown",
      "id": "external-mounting",
      "metadata": {
        "id": "external-mounting"
      },
      "source": [
        "We notice that all our three datasets has non Alphanumerique caracter."
      ]
    },
    {
      "cell_type": "code",
      "execution_count": null,
      "id": "technical-declaration",
      "metadata": {
        "id": "technical-declaration"
      },
      "outputs": [],
      "source": []
    },
    {
      "cell_type": "markdown",
      "id": "advance-credit",
      "metadata": {
        "id": "advance-credit"
      },
      "source": [
        "## 3 - Spelling Correction"
      ]
    },
    {
      "cell_type": "code",
      "execution_count": null,
      "id": "objective-afternoon",
      "metadata": {
        "id": "objective-afternoon",
        "outputId": "56b7bd3d-e00b-46c8-d479-724fbd19a0d7"
      },
      "outputs": [
        {
          "data": {
            "text/plain": [
              "'spelling correcting'"
            ]
          },
          "execution_count": 106,
          "metadata": {},
          "output_type": "execute_result"
        }
      ],
      "source": [
        "from spellchecker import SpellChecker\n",
        "\n",
        "spell = SpellChecker()\n",
        "def correct_spellings(text):\n",
        "    corrected_text = []\n",
        "    misspelled_words = spell.unknown(text.split())\n",
        "    for word in text.split():\n",
        "        if word in misspelled_words:\n",
        "            corrected_text.append(spell.correction(word))\n",
        "        else:\n",
        "            corrected_text.append(word)\n",
        "    return \" \".join(corrected_text)\n",
        "\n",
        "text = \"speling correctin\"\n",
        "correct_spellings(text)"
      ]
    },
    {
      "cell_type": "code",
      "execution_count": null,
      "id": "eleven-strain",
      "metadata": {
        "id": "eleven-strain"
      },
      "outputs": [],
      "source": [
        "def correct_spellings(text):\n",
        "    corrected_text = []\n",
        "    for word in text.split():\n",
        "        # Correct the spelling if it's in the dictionary, otherwise keep the original word\n",
        "        corrected_word = spell.correction(word)\n",
        "        corrected_text.append(corrected_word) if corrected_word else None\n",
        "\n",
        "    # Filter out None values and join the corrected text\n",
        "    return \" \".join(filter(None, corrected_text))"
      ]
    },
    {
      "cell_type": "code",
      "execution_count": null,
      "id": "suspected-parts",
      "metadata": {
        "id": "suspected-parts",
        "outputId": "24eda0ee-4167-4d59-c3d2-86d3766a7b1d"
      },
      "outputs": [
        {
          "data": {
            "text/plain": [
              "'spelling correcting'"
            ]
          },
          "execution_count": 118,
          "metadata": {},
          "output_type": "execute_result"
        }
      ],
      "source": [
        "text = \"speling correctin\"\n",
        "correct_spellings(text)"
      ]
    },
    {
      "cell_type": "markdown",
      "id": "threaded-russell",
      "metadata": {
        "id": "threaded-russell"
      },
      "source": [
        "We apply this function on the result for the previous cleaned"
      ]
    },
    {
      "cell_type": "markdown",
      "id": "existing-brain",
      "metadata": {
        "id": "existing-brain"
      },
      "source": [
        "### a- In validation set"
      ]
    },
    {
      "cell_type": "code",
      "execution_count": null,
      "id": "respective-riding",
      "metadata": {
        "id": "respective-riding"
      },
      "outputs": [],
      "source": [
        "# Create an empty dataset to store the result\n",
        "X_val_spell = pd.DataFrame(index=range(X_Val.shape[0]), columns=[\"text_wo_punct\"])\n",
        "for i in range(X_val.shape[0]):\n",
        "    X_val_spell[\"text_wo_punct\"][i] = correct_spellings(X_Val[\"text_wo_punct\"][i])\n",
        "X_val_spell.head()"
      ]
    },
    {
      "cell_type": "code",
      "execution_count": null,
      "id": "designing-measurement",
      "metadata": {
        "id": "designing-measurement",
        "outputId": "a0c82848-c084-423b-dab0-bc9262f0fd74"
      },
      "outputs": [
        {
          "data": {
            "text/plain": [
              "'Mar do you know that Caitlyn Jenner still has a ball sack  my 7yr old cousin \\n'"
            ]
          },
          "execution_count": 110,
          "metadata": {},
          "output_type": "execute_result"
        }
      ],
      "source": [
        "X_Val[\"text_wo_punct\"][270]"
      ]
    },
    {
      "cell_type": "code",
      "execution_count": null,
      "id": "appropriate-maine",
      "metadata": {
        "id": "appropriate-maine",
        "outputId": "4c0cedbe-ea37-479d-9f73-57356df1341e"
      },
      "outputs": [
        {
          "data": {
            "text/plain": [
              "'every time I hear alright by Kendrick I think its j Coles Black Friday'"
            ]
          },
          "execution_count": 114,
          "metadata": {},
          "output_type": "execute_result"
        }
      ],
      "source": [
        "correct_spellings(X_Val[\"text_wo_punct\"][27])"
      ]
    },
    {
      "cell_type": "code",
      "execution_count": null,
      "id": "seeing-integration",
      "metadata": {
        "id": "seeing-integration",
        "outputId": "acc43d5f-4056-4c74-f4d7-d12352604fe2"
      },
      "outputs": [
        {
          "data": {
            "text/plain": [
              "'We just received more tickets for Blue Rodeo at The KEE to Bala Saturday May 19th and Sunday May 20th. Tickets... \\n'"
            ]
          },
          "execution_count": 45,
          "metadata": {},
          "output_type": "execute_result"
        }
      ],
      "source": [
        "X_val_re_emoji[\"Tweet\"][12]"
      ]
    },
    {
      "cell_type": "code",
      "execution_count": null,
      "id": "stopped-nashville",
      "metadata": {
        "id": "stopped-nashville"
      },
      "outputs": [],
      "source": []
    },
    {
      "cell_type": "code",
      "execution_count": null,
      "id": "respective-plymouth",
      "metadata": {
        "id": "respective-plymouth"
      },
      "outputs": [],
      "source": []
    },
    {
      "cell_type": "code",
      "execution_count": null,
      "id": "actual-couple",
      "metadata": {
        "id": "actual-couple"
      },
      "outputs": [],
      "source": []
    },
    {
      "cell_type": "code",
      "execution_count": null,
      "id": "adapted-arizona",
      "metadata": {
        "id": "adapted-arizona"
      },
      "outputs": [],
      "source": []
    },
    {
      "cell_type": "code",
      "execution_count": null,
      "id": "variable-filling",
      "metadata": {
        "id": "variable-filling"
      },
      "outputs": [],
      "source": []
    },
    {
      "cell_type": "markdown",
      "id": "hundred-athens",
      "metadata": {
        "id": "hundred-athens"
      },
      "source": [
        "## 4 - Chat Words Conversion"
      ]
    },
    {
      "cell_type": "code",
      "execution_count": null,
      "id": "foreign-participant",
      "metadata": {
        "id": "foreign-participant",
        "outputId": "57b0cce3-ff57-46d2-c74a-27124c9159b9"
      },
      "outputs": [
        {
          "data": {
            "text/plain": [
              "'one minute Be Right Back'"
            ]
          },
          "execution_count": 113,
          "metadata": {},
          "output_type": "execute_result"
        }
      ],
      "source": [
        "chat_words_map_dict = {}\n",
        "chat_words_list = []\n",
        "for line in chat_words_str.split(\"\\n\"):\n",
        "    if line != \"\":\n",
        "        cw = line.split(\"=\")[0]\n",
        "        cw_expanded = line.split(\"=\")[1]\n",
        "        chat_words_list.append(cw)\n",
        "        chat_words_map_dict[cw] = cw_expanded\n",
        "chat_words_list = set(chat_words_list)\n",
        "\n",
        "def chat_words_conversion(text):\n",
        "    new_text = []\n",
        "    for w in text.split():\n",
        "        if w.upper() in chat_words_list:\n",
        "            new_text.append(chat_words_map_dict[w.upper()])\n",
        "        else:\n",
        "            new_text.append(w)\n",
        "    return \" \".join(new_text)\n",
        "\n",
        "chat_words_conversion(\"one minute BRB\")"
      ]
    },
    {
      "cell_type": "code",
      "execution_count": null,
      "id": "later-agriculture",
      "metadata": {
        "id": "later-agriculture"
      },
      "outputs": [],
      "source": [
        "chat_words_str = \"\"\"\n",
        "AFAIK=As Far As I Know\n",
        "AFK=Away From Keyboard\n",
        "ASAP=As Soon As Possible\n",
        "ATK=At The Keyboard\n",
        "ATM=At The Moment\n",
        "A3=Anytime, Anywhere, Anyplace\n",
        "BAK=Back At Keyboard\n",
        "BBL=Be Back Later\n",
        "BBS=Be Back Soon\n",
        "BFN=Bye For Now\n",
        "B4N=Bye For Now\n",
        "BRB=Be Right Back\n",
        "BRT=Be Right There\n",
        "BTW=By The Way\n",
        "B4=Before\n",
        "B4N=Bye For Now\n",
        "CU=See You\n",
        "CUL8R=See You Later\n",
        "CYA=See You\n",
        "FAQ=Frequently Asked Questions\n",
        "FC=Fingers Crossed\n",
        "FWIW=For What It's Worth\n",
        "FYI=For Your Information\n",
        "GAL=Get A Life\n",
        "GG=Good Game\n",
        "GN=Good Night\n",
        "GMTA=Great Minds Think Alike\n",
        "GR8=Great!\n",
        "G9=Genius\n",
        "IC=I See\n",
        "ICQ=I Seek you (also a chat program)\n",
        "ILU=ILU: I Love You\n",
        "IMHO=In My Honest/Humble Opinion\n",
        "IMO=In My Opinion\n",
        "IOW=In Other Words\n",
        "IRL=In Real Life\n",
        "KISS=Keep It Simple, Stupid\n",
        "LDR=Long Distance Relationship\n",
        "LMAO=Laugh My A.. Off\n",
        "LOL=Laughing Out Loud\n",
        "LTNS=Long Time No See\n",
        "L8R=Later\n",
        "MTE=My Thoughts Exactly\n",
        "M8=Mate\n",
        "NRN=No Reply Necessary\n",
        "OIC=Oh I See\n",
        "PITA=Pain In The A..\n",
        "PRT=Party\n",
        "PRW=Parents Are Watching\n",
        "ROFL=Rolling On The Floor Laughing\n",
        "ROFLOL=Rolling On The Floor Laughing Out Loud\n",
        "ROTFLMAO=Rolling On The Floor Laughing My A.. Off\n",
        "SK8=Skate\n",
        "STATS=Your sex and age\n",
        "ASL=Age, Sex, Location\n",
        "THX=Thank You\n",
        "TTFN=Ta-Ta For Now!\n",
        "TTYL=Talk To You Later\n",
        "U=You\n",
        "U2=You Too\n",
        "U4E=Yours For Ever\n",
        "WB=Welcome Back\n",
        "WTF=What The F...\n",
        "WTG=Way To Go!\n",
        "WUF=Where Are You From?\n",
        "W8=Wait...\n",
        "7K=Sick:-D Laugher\n",
        "\"\"\""
      ]
    },
    {
      "cell_type": "code",
      "execution_count": null,
      "id": "labeled-accident",
      "metadata": {
        "id": "labeled-accident"
      },
      "outputs": [],
      "source": []
    },
    {
      "cell_type": "code",
      "execution_count": null,
      "id": "exotic-hydrogen",
      "metadata": {
        "id": "exotic-hydrogen"
      },
      "outputs": [],
      "source": [
        "apply this in all our Dataset"
      ]
    },
    {
      "cell_type": "code",
      "execution_count": null,
      "id": "controlling-hacker",
      "metadata": {
        "id": "controlling-hacker"
      },
      "outputs": [],
      "source": []
    },
    {
      "cell_type": "code",
      "execution_count": null,
      "id": "celtic-commerce",
      "metadata": {
        "id": "celtic-commerce"
      },
      "outputs": [],
      "source": []
    },
    {
      "cell_type": "code",
      "execution_count": null,
      "id": "emerging-catholic",
      "metadata": {
        "id": "emerging-catholic",
        "outputId": "520f3e15-793f-4076-c347-e2c056c89482"
      },
      "outputs": [
        {
          "name": "stdout",
          "output_type": "stream",
          "text": [
            "Requirement already satisfied: pyspellchecker in /home/student23/.local/lib/python3.9/site-packages (0.8.1)\r\n"
          ]
        }
      ],
      "source": [
        "!pip install pyspellchecker"
      ]
    },
    {
      "cell_type": "markdown",
      "id": "optical-pregnancy",
      "metadata": {
        "id": "optical-pregnancy"
      },
      "source": [
        "Just to understand how the sentimental analysis work"
      ]
    },
    {
      "cell_type": "code",
      "execution_count": null,
      "id": "employed-steal",
      "metadata": {
        "scrolled": true,
        "id": "employed-steal"
      },
      "outputs": [],
      "source": [
        "import nltk\n",
        "from nltk.sentiment import SentimentIntensityAnalyzer\n",
        "from nltk.tokenize import word_tokenize\n",
        "\n",
        "# Download the punkt tokenizer if not already downloaded\n",
        "nltk.download('punkt')\n",
        "nltk.download('vader_lexicon')\n",
        "\n",
        "# Sample data\n",
        "text_data = [\n",
        "    \"Nice! I have the bottom two!\",\n",
        "    \"Happy Friday everyone! Coffee is on...\",\n",
        "    \"Having to read Charles Dickens for homework...\",\n",
        "    \"I am going to see Aesop Rock and Rob Sonic on Fri Aug 3rd...\",\n",
        "    \"Crazy that you use Kendrick. I'm listening to Kendrick Lamar...\",\n",
        "    \"South Korea May Be China Telecom's Next Foreign Conquest...\"\n",
        "    # ... add more texts from your data\n",
        "]\n",
        "\n",
        "# Initialize the Sentiment Intensity Analyzer\n",
        "sid = SentimentIntensityAnalyzer()\n",
        "\n",
        "# Analyze sentiment for each text\n",
        "for text in text_data:\n",
        "    # Tokenize the text\n",
        "    words = word_tokenize(text)\n",
        "\n",
        "    # Calculate sentiment scores\n",
        "    sentiment_scores = sid.polarity_scores(text)\n",
        "\n",
        "    # Print the results\n",
        "    print(f\"Text: {text}\")\n",
        "    print(f\"Sentiment Scores: {sentiment_scores}\")\n",
        "    print(\"-----\")\n"
      ]
    },
    {
      "cell_type": "code",
      "execution_count": null,
      "id": "dutch-skating",
      "metadata": {
        "id": "dutch-skating"
      },
      "outputs": [],
      "source": [
        "sentiment_scores = sid.polarity_scores(\"so happy Laughing big grin laugh with glasses is amazing Heart\")\n",
        "sentiment_scores"
      ]
    },
    {
      "cell_type": "code",
      "execution_count": null,
      "id": "orange-petersburg",
      "metadata": {
        "id": "orange-petersburg"
      },
      "outputs": [],
      "source": [
        "sid.polarity_scores(\"so happy This is amazing \")"
      ]
    },
    {
      "cell_type": "code",
      "execution_count": null,
      "id": "second-begin",
      "metadata": {
        "id": "second-begin"
      },
      "outputs": [],
      "source": [
        "#!pip install nltk"
      ]
    },
    {
      "cell_type": "code",
      "execution_count": null,
      "id": "tight-representative",
      "metadata": {
        "id": "tight-representative"
      },
      "outputs": [],
      "source": []
    }
  ],
  "metadata": {
    "kernelspec": {
      "display_name": "Python 3",
      "language": "python",
      "name": "python3"
    },
    "language_info": {
      "codemirror_mode": {
        "name": "ipython",
        "version": 3
      },
      "file_extension": ".py",
      "mimetype": "text/x-python",
      "name": "python",
      "nbconvert_exporter": "python",
      "pygments_lexer": "ipython3",
      "version": "3.9.2"
    },
    "colab": {
      "provenance": [],
      "include_colab_link": true
    }
  },
  "nbformat": 4,
  "nbformat_minor": 5
}